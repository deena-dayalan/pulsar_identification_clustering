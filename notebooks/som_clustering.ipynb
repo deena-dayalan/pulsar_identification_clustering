{
 "cells": [
  {
   "cell_type": "markdown",
   "metadata": {
    "colab_type": "text",
    "id": "bope1tfuXuwT"
   },
   "source": [
    "Imports"
   ]
  },
  {
   "cell_type": "code",
   "execution_count": 1,
   "metadata": {
    "colab": {},
    "colab_type": "code",
    "id": "FRqOTzsTI5bV"
   },
   "outputs": [],
   "source": [
    "import numpy as np\n",
    "from sklearn.utils import resample\n",
    "from sklearn.model_selection import train_test_split, KFold\n",
    "from sklearn.preprocessing import StandardScaler\n",
    "from matplotlib import pyplot as plt\n",
    "from matplotlib import style\n",
    "from sklearn.metrics import classification_report, confusion_matrix, brier_score_loss, roc_curve, precision_recall_curve, silhouette_score, calinski_harabasz_score, davies_bouldin_score, recall_score, make_scorer, mean_squared_error\n",
    "from sklearn.calibration import calibration_curve\n",
    "from sklearn.model_selection import RandomizedSearchCV"
   ]
  },
  {
   "cell_type": "markdown",
   "metadata": {
    "colab_type": "text",
    "id": "i1oaLaQXXvx9"
   },
   "source": [
    "Data Loading & Preprocessing"
   ]
  },
  {
   "cell_type": "code",
   "execution_count": 2,
   "metadata": {
    "colab": {},
    "colab_type": "code",
    "id": "o22cNNQSiGP1"
   },
   "outputs": [],
   "source": [
    "pulsar_dataset = '/home/d.dasarathan/ds5500/projects/datasets/HTRU2/HTRU_2.csv'\n",
    "pulsar_data = np.loadtxt(pulsar_dataset, delimiter = ',', skiprows=0) \n",
    "X, y = pulsar_data[:,:-1], pulsar_data[:,-1]"
   ]
  },
  {
   "cell_type": "code",
   "execution_count": 3,
   "metadata": {
    "colab": {},
    "colab_type": "code",
    "id": "gIIRv4yVJF9D"
   },
   "outputs": [],
   "source": [
    "def upsampling(X_train, y_train):\n",
    "    X_minority = np.array([X_train[i] for i in range(len(X_train)) if y_train[i] == 1])\n",
    "    kappa = (1.0 * len(X_minority)) / len(X_train)\n",
    "    print('total training size: ', len(X_train))\n",
    "    print('positive class training size: ', len(X_minority))\n",
    "    repeat = int(1.0 / kappa) - 1\n",
    "    upsampling = resample(X_minority, n_samples=repeat * len(X_minority))\n",
    "    y_minority = np.ones(repeat * len(X_minority))\n",
    "    X_train = np.concatenate((X_train, upsampling))\n",
    "    print('updated positive class training size: ', len(upsampling))\n",
    "    y_train = np.concatenate((y_train, y_minority))\n",
    "\n",
    "def data_prep(X, y, normalize=False, upsample=False, train_val_test=False, train_test=False, k_fold=False, k=None):\n",
    "  if normalize:\n",
    "    scaler = StandardScaler().fit(X, y)\n",
    "    X = scaler.transform(X)\n",
    "  if train_val_test:\n",
    "    X, X_test, y, y_test = train_test_split(X, y, test_size=0.2)\n",
    "    X_train, X_val, y_train, y_val = train_test_split(X, y, test_size=0.2)\n",
    "    if upsample:\n",
    "      upsampling(X_train, y_train)\n",
    "    return X_train, X_val, X_test, y_train, y_val, y_test\n",
    "  if train_test:\n",
    "    X, X_test, y, y_test = train_test_split(X, y, test_size=0.2)\n",
    "    if k_fold:\n",
    "      data_sets = []\n",
    "      kf = KFold(n_splits=k, shuffle=True)\n",
    "      for train_index, val_index in kf.split(X, y):\n",
    "        X_train, X_val = X[train_index], X[val_index]\n",
    "        y_train, y_val = y[train_index], y[val_index]\n",
    "        if upsample: \n",
    "          upsampling(X_train, y_train)\n",
    "        data_sets.append((X_train, X_val, y_train, y_val))\n",
    "      if upsample:\n",
    "        upsampling(X, y)\n",
    "      return data_sets, X, X_test, y, y_test\n",
    "    else:\n",
    "      if upsample: \n",
    "        upsampling(X, y)\n",
    "      return X, X_test, y, y_test\n",
    "  if k_fold:\n",
    "    data_sets = []\n",
    "    kf = KFold(n_splits=k, shuffle=True)\n",
    "    for train_index, test_index in kf.split(X, y):\n",
    "      X_train, X_test = X[train_index], X[test_index]\n",
    "      y_train, y_test = y[train_index], y[test_index]\n",
    "      if upsample: \n",
    "        upsampling(X_train, y_train)\n",
    "      data_sets.append((X_train, X_test, y_train, y_test))\n",
    "    return data_sets, X, y\n",
    "  return X, y"
   ]
  },
  {
   "cell_type": "markdown",
   "metadata": {
    "colab_type": "text",
    "id": "N-eGt7BS3T59"
   },
   "source": [
    "Display & Plot Evaluation Metrics (Classification)"
   ]
  },
  {
   "cell_type": "code",
   "execution_count": 4,
   "metadata": {
    "colab": {},
    "colab_type": "code",
    "id": "XQNdk1593UBj"
   },
   "outputs": [],
   "source": [
    "def eval_clf(clf_pred, clf_pred_prob, y_val, clf_score, alternative_treshold=None, plot=False):\n",
    "  print(\"score: \", clf_score)\n",
    "  print(classification_report(y_val, clf_pred))\n",
    "  print(\"confusion matrix:\")\n",
    "  print(confusion_matrix(y_val, clf_pred))\n",
    "  print(\"brier score loss: \", brier_score_loss(y_val, clf_pred_prob[:,1]))\n",
    "\n",
    "  if plot:\n",
    "    clf_fpr, clf_tpr, clf_thresholds = roc_curve(y_val, clf_pred_prob[:,1])\n",
    "    plt.plot(clf_fpr, clf_tpr, marker='.')\n",
    "    plt.title('ROC Curve')\n",
    "    plt.xlabel('1 - Specifity (FPR)')\n",
    "    plt.ylabel('Sensitivity (TPR)')\n",
    "    plt.show()\n",
    "    plt.plot(clf_thresholds, clf_tpr, marker='.', label='Sensitivity (TPR)')\n",
    "    plt.plot(clf_thresholds, clf_fpr, marker='.', label='1 - Specifity (FPR)')\n",
    "    plt.plot(clf_thresholds, clf_tpr - clf_fpr, marker='.', label='Difference (TPR - FPR)')\n",
    "    plt.xlim([0.0, 1.0])\n",
    "    plt.title('Sensitivity / 1 - Specifity / Difference vs. Threshold')\n",
    "    plt.xlabel('Threshold')\n",
    "    plt.ylabel('Sensitivity / 1 - Specifity / Difference')\n",
    "    plt.legend()\n",
    "    plt.show()\n",
    "\n",
    "    clf_precision, clf_recall, clf_thresholds = precision_recall_curve(y_val, clf_pred_prob[:,1])\n",
    "    plt.plot(clf_recall, clf_precision, marker='.')\n",
    "    plt.title('PRC Curve')\n",
    "    plt.xlabel('Recall (TPR)')\n",
    "    plt.ylabel('Precision (PPV)')\n",
    "    plt.show()\n",
    "\n",
    "    clf_frac_pos, clf_prob_pos = calibration_curve(y_val, clf_pred_prob[:,1], n_bins=10, strategy='uniform')\n",
    "    plt.plot(clf_prob_pos, clf_frac_pos, marker='.')\n",
    "    plt.title('Calibration')\n",
    "    plt.xlabel('Probability')\n",
    "    plt.ylabel('Fraction of Positives')\n",
    "    plt.show()\n",
    "\n",
    "  if alternative_treshold:\n",
    "    print(\"Threshold = \", alternative_treshold, \":\")\n",
    "    clf_new_pred = [1 * (clf_pred_sample_prob[1] > alternative_treshold) for clf_pred_sample_prob in clf_pred_prob]\n",
    "    print(classification_report(y_val, clf_new_pred))\n",
    "    print(\"confusion matrix:\")\n",
    "    print(confusion_matrix(y_val, clf_new_pred))"
   ]
  },
  {
   "cell_type": "markdown",
   "metadata": {
    "colab_type": "text",
    "id": "Mpmkcp8m-ZxO"
   },
   "source": [
    "#### Self-Organizing Map"
   ]
  },
  {
   "cell_type": "code",
   "execution_count": 5,
   "metadata": {
    "colab": {},
    "colab_type": "code",
    "id": "mPftyMgVB1xq"
   },
   "outputs": [
    {
     "name": "stderr",
     "output_type": "stream",
     "text": [
      "2022-11-07 21:50:57.683185: I tensorflow/core/platform/cpu_feature_guard.cc:193] This TensorFlow binary is optimized with oneAPI Deep Neural Network Library (oneDNN) to use the following CPU instructions in performance-critical operations:  AVX2 FMA\n",
      "To enable them in other operations, rebuild TensorFlow with the appropriate compiler flags.\n",
      "2022-11-07 21:50:57.947202: W tensorflow/stream_executor/platform/default/dso_loader.cc:64] Could not load dynamic library 'libcudart.so.11.0'; dlerror: libcudart.so.11.0: cannot open shared object file: No such file or directory; LD_LIBRARY_PATH: /shared/centos7/anaconda3/2021.05/lib:/shared/centos7/nodejs/14.15.4/lib\n",
      "2022-11-07 21:50:57.947246: I tensorflow/stream_executor/cuda/cudart_stub.cc:29] Ignore above cudart dlerror if you do not have a GPU set up on your machine.\n",
      "2022-11-07 21:50:57.992901: E tensorflow/stream_executor/cuda/cuda_blas.cc:2981] Unable to register cuBLAS factory: Attempting to register factory for plugin cuBLAS when one has already been registered\n",
      "2022-11-07 21:50:59.482064: W tensorflow/stream_executor/platform/default/dso_loader.cc:64] Could not load dynamic library 'libnvinfer.so.7'; dlerror: libnvinfer.so.7: cannot open shared object file: No such file or directory; LD_LIBRARY_PATH: /shared/centos7/anaconda3/2021.05/lib:/shared/centos7/nodejs/14.15.4/lib\n",
      "2022-11-07 21:50:59.482189: W tensorflow/stream_executor/platform/default/dso_loader.cc:64] Could not load dynamic library 'libnvinfer_plugin.so.7'; dlerror: libnvinfer_plugin.so.7: cannot open shared object file: No such file or directory; LD_LIBRARY_PATH: /shared/centos7/anaconda3/2021.05/lib:/shared/centos7/nodejs/14.15.4/lib\n",
      "2022-11-07 21:50:59.482201: W tensorflow/compiler/tf2tensorrt/utils/py_utils.cc:38] TF-TRT Warning: Cannot dlopen some TensorRT libraries. If you would like to use Nvidia GPU with TensorRT, please make sure the missing libraries mentioned above are installed properly.\n"
     ]
    }
   ],
   "source": [
    "import tensorflow as tf\n",
    "class SOM(object):\n",
    "  def __init__(self, map_dim_x, map_dim_y, input_dim, learning_rate_init, radius_init, num_iter=100):\n",
    "\n",
    "    # Initialize properties\n",
    "    self.map_dim_x = map_dim_x\n",
    "    self.map_dim_y = map_dim_y\n",
    "    self.input_dim = input_dim\n",
    "    self.learning_rate_init = tf.cast(learning_rate_init, tf.float64)\n",
    "    self.radius_init = tf.cast(radius_init, tf.float64)\n",
    "    self.num_iter = num_iter\n",
    "\n",
    "    # Initialize variables and constants:\n",
    "    self.weights = tf.Variable(tf.cast(tf.random.normal([map_dim_x, map_dim_y, input_dim]), dtype=tf.float64)) # weights[i, j, k] is weight of output node [i,j] connected to input node k\n",
    "    self.coords = tf.constant(np.array([np.array([np.array([i, j]) for j in range(self.map_dim_y)]) for i in range(self.map_dim_x)]))\n",
    "\n",
    "  @tf.function\n",
    "  def train_step(self, input_vect, iter_no):\n",
    "    input_tensor = tf.stack([tf.stack([input_vect for j in range(self.map_dim_y)]) for i in range(self.map_dim_x)])\n",
    "\n",
    "    # Calculate BMU\n",
    "    distances_weights_to_input = self.distance_3d(self.weights, input_tensor)\n",
    "    bmu = self.argmin_2d(distances_weights_to_input) # returns coord of output node [i, j]\n",
    "\n",
    "    # Update Learning Rate and Radius for Output Nodes\n",
    "    decay = tf.exp(tf.negative(tf.divide(iter_no, self.num_iter)))\n",
    "    \n",
    "    learning_rate = tf.cast(tf.multiply(self.learning_rate_init, decay), dtype=tf.float64)\n",
    "    radius =  tf.cast(tf.multiply(self.radius_init, decay), dtype=tf.float64)\n",
    "\n",
    "    bmu_tensor = tf.stack([tf.stack([bmu for j in range(self.map_dim_y)]) for i in range(self.map_dim_x)])\n",
    "    distances_output_nodes_to_bmu = self.distance_3d(self.coords, bmu_tensor)\n",
    "    neighborhood_influence = tf.exp(tf.negative(tf.pow(tf.divide(distances_output_nodes_to_bmu, tf.multiply(radius, 2.0)), 2.0)))\n",
    "\n",
    "    # Update Weights\n",
    "    update_coeff_tensor = tf.tile(tf.reshape(tf.multiply(learning_rate, neighborhood_influence), [self.map_dim_x, self.map_dim_y, 1]), [1, 1, self.input_dim])\n",
    "    update = tf.multiply(update_coeff_tensor, tf.subtract(input_tensor, self.weights))\n",
    "    new_weights = tf.add(self.weights, update)\n",
    "    self.weights.assign(new_weights)\n",
    "  \n",
    "  def train(self, train_data):\n",
    "    for iter_no in range(self.num_iter):\n",
    "      for input_vect in train_data:\n",
    "        self.train_step(input_vect, iter_no)\n",
    "    self.centroids = self.weights\n",
    "\n",
    "  def predict(self, train_data):\n",
    "    mappings_input_to_output = []\n",
    "    for input_vect in train_data:\n",
    "      input_tensor = tf.stack([tf.stack([input_vect for j in range(self.map_dim_y)]) for i in range(self.map_dim_x)])\n",
    "      output_node = np.array(self.argmin_2d(self.distance_3d(self.weights, input_tensor)))\n",
    "      mappings_input_to_output.append(output_node)\n",
    "    return mappings_input_to_output\n",
    "\n",
    "  def get_centroid(self, i, j):\n",
    "    return list(self.centroids[i][j])\n",
    "  \n",
    "  def distance_3d(self, tensor1, tensor2):\n",
    "    return tf.sqrt(tf.reduce_sum(tf.pow(tf.subtract(tf.cast(tensor1, dtype=tf.float64), tf.cast(tensor2, dtype=tf.float64)), 2), 2))\n",
    "    \n",
    "  def argmin_2d(self, tensor):\n",
    "    flat_tensor = tf.reshape(tensor, [self.map_dim_x * self.map_dim_y])\n",
    "    argmin_flat_tensor = tf.argmin(flat_tensor, 0)\n",
    "    argmin_x = argmin_flat_tensor // self.map_dim_x\n",
    "    argmin_y = argmin_flat_tensor % self.map_dim_x\n",
    "    return [argmin_x, argmin_y]"
   ]
  },
  {
   "cell_type": "markdown",
   "metadata": {
    "colab_type": "text",
    "id": "AxrgjlpPTpFJ"
   },
   "source": [
    "Self-Organizing Map"
   ]
  },
  {
   "cell_type": "code",
   "execution_count": 6,
   "metadata": {
    "colab": {},
    "colab_type": "code",
    "id": "eSSjdvzXFsV7"
   },
   "outputs": [],
   "source": [
    "def som(unsup_data, output_dim_x, output_dim_y, num_iter):\n",
    "  som = SOM(output_dim_x, output_dim_y, len(unsup_data[0]), 0.1, 0.1, num_iter)\n",
    "  som.train(unsup_data)\n",
    "  som_pred = som.predict(unsup_data)\n",
    "  som_output_nodes = [[[] for _ in range(output_dim_y)] for _ in range(output_dim_x)]\n",
    "  for i in range(len(som_pred)):\n",
    "    x, y = som_pred[i]\n",
    "    som_output_nodes[x][y].append(unsup_data[i])\n",
    "  som_centroids = [[0 for _ in range(output_dim_y)] for _ in range(output_dim_x)]\n",
    "  for i in range(output_dim_x):\n",
    "    for j in range(output_dim_y):\n",
    "      som_centroids[i][j] = []\n",
    "      for component in som.get_centroid(i,j):\n",
    "        som_centroids[i][j].append(float(component))\n",
    "  return som_pred, som_output_nodes, som_centroids"
   ]
  },
  {
   "cell_type": "markdown",
   "metadata": {
    "colab_type": "text",
    "id": "7-hB-zaiQxiF"
   },
   "source": [
    "Principal Component Analysis"
   ]
  },
  {
   "cell_type": "code",
   "execution_count": 7,
   "metadata": {
    "colab": {},
    "colab_type": "code",
    "id": "KliME8LYQxpo"
   },
   "outputs": [],
   "source": [
    "from sklearn.decomposition import PCA\n",
    "def pca(unsup_data, n_components):\n",
    "  dcmp = PCA(n_components)\n",
    "  pca_transformed_data = dcmp.fit_transform(unsup_data)\n",
    "  return dcmp.components_, pca_transformed_data, dcmp.explained_variance_, dcmp"
   ]
  },
  {
   "cell_type": "markdown",
   "metadata": {
    "colab_type": "text",
    "id": "9fT8zLHVdZO-"
   },
   "source": [
    "Display Evaluation Metrics (Clustering)"
   ]
  },
  {
   "cell_type": "code",
   "execution_count": 8,
   "metadata": {
    "colab": {},
    "colab_type": "code",
    "id": "T2d1_CU6dZWn"
   },
   "outputs": [],
   "source": [
    "def flatten_label(label, dim):\n",
    "  x, y = label\n",
    "  return x * dim + y\n",
    "\n",
    "def eval_clr(unsup_data, clr_labels, flatten=False, flatten_dim=None):\n",
    "  if flatten:\n",
    "    clr_labels = [flatten_label(label, flatten_dim) for label in clr_labels]\n",
    "  print(\"Silhouette Coefficient: \", silhouette_score(unsup_data, clr_labels))\n"
   ]
  },
  {
   "cell_type": "markdown",
   "metadata": {
    "colab_type": "text",
    "id": "bg8tm20TWy_3"
   },
   "source": [
    "Main"
   ]
  },
  {
   "cell_type": "code",
   "execution_count": 9,
   "metadata": {
    "colab": {
     "base_uri": "https://localhost:8080/",
     "height": 1000
    },
    "colab_type": "code",
    "id": "yWHG93WBW3NO",
    "outputId": "389d5830-f950-4db6-e368-88723424a822"
   },
   "outputs": [
    {
     "name": "stdout",
     "output_type": "stream",
     "text": [
      "SOM Results:\n"
     ]
    },
    {
     "name": "stderr",
     "output_type": "stream",
     "text": [
      "2022-11-07 21:51:02.402497: W tensorflow/stream_executor/platform/default/dso_loader.cc:64] Could not load dynamic library 'libcuda.so.1'; dlerror: libcuda.so.1: cannot open shared object file: No such file or directory; LD_LIBRARY_PATH: /shared/centos7/anaconda3/2021.05/lib:/shared/centos7/nodejs/14.15.4/lib\n",
      "2022-11-07 21:51:02.402594: W tensorflow/stream_executor/cuda/cuda_driver.cc:263] failed call to cuInit: UNKNOWN ERROR (303)\n",
      "2022-11-07 21:51:02.402640: I tensorflow/stream_executor/cuda/cuda_diagnostics.cc:156] kernel driver does not appear to be running on this host (c0179): /proc/driver/nvidia/version does not exist\n",
      "2022-11-07 21:51:02.403476: I tensorflow/core/platform/cpu_feature_guard.cc:193] This TensorFlow binary is optimized with oneAPI Deep Neural Network Library (oneDNN) to use the following CPU instructions in performance-critical operations:  AVX2 FMA\n",
      "To enable them in other operations, rebuild TensorFlow with the appropriate compiler flags.\n"
     ]
    },
    {
     "name": "stdout",
     "output_type": "stream",
     "text": [
      "[[[50.29278346083289, 39.7629349818391, 3.641166329322785, 19.377902760729494, 113.5564698131563, 82.14822849694, 0.05249681290362578, -0.9490269424493482], [-0.561566435660402, 0.3912732949872674, 0.9916486830409704, -0.5361268456590536, -0.10616377420501467, 1.162761180169305, -0.7303485793328904, 2.000492351019845], [2.115267515182495, -0.3070294260978699, -0.5363616943359375, -1.7327274084091187, 0.46592044830322266, -1.330027461051941, 0.6242750883102417, 0.07403792440891266], [-0.3215344681254953, 0.3933025465100142, -0.004872925964460051, 0.3683916235414911, -0.14762367655776798, 0.8412013994906996, -1.0239905027631717, 0.5490544177338538], [69.48559898789411, 39.41414461761598, 2.388300031430723, 10.816584226341904, 28.744068374894262, 57.6529676657327, 2.8902856681550624, 11.714400546503768]], [[-0.9558609347089365, -0.5300884165708625, 0.23450040480219386, 1.2916008833461965, -0.5254791407570595, 0.28454932718184445, -0.8911389626175411, 0.46642126824981267], [-0.49829915165901184, -1.3719135522842407, 1.4166396856307983, -0.5457964539527893, -0.33944424986839294, 0.3885580599308014, -0.3471290171146393, -0.16857904195785522], [-0.6869664788246155, -2.0774760246276855, 0.5481257438659668, 0.016894709318876266, -0.3280262053012848, -0.7697527408599854, -1.8687928915023804, 0.20983970165252686], [-1.1236811876296997, 1.1688340902328491, 1.048574686050415, -0.10326053202152252, -0.09332745522260666, -1.1367381811141968, -1.4389431476593018, 0.6608139872550964], [-1.411679726083154, -0.9021213460700366, 0.8201247484882939, 2.7719643271958305, -0.74165876440873, 0.7185060729262053, 0.16016184474421152, -1.4092323406631158]], [[1.457381010055542, 0.3431303799152374, 1.0270251035690308, 0.3663591146469116, 1.08189058303833, -1.2628766298294067, 1.1771823167800903, -0.38284802436828613], [-1.9153125286102295, -2.837029218673706, 1.1617900133132935, 1.0253467559814453, -2.421757221221924, 0.34221351146698, 2.0036303997039795, -0.2983410060405731], [-0.9295846819877625, -0.28565022349357605, 0.5297844409942627, 1.3015497922897339, 2.3198647499084473, 0.16144771873950958, -0.6796267032623291, -0.5253273844718933], [1.110593318939209, -0.390985906124115, 0.8847405314445496, 0.5309183597564697, -0.09863371402025223, -1.4504698514938354, -1.0232805013656616, 0.7307168245315552], [-0.6880701184272766, -0.417603462934494, 0.5319191813468933, 0.5335966944694519, 0.3139086663722992, -0.18086785078048706, -0.7627922296524048, -1.3937104940414429]], [[0.5502470135688782, -0.4956716001033783, 1.4399256706237793, 0.37032023072242737, 0.9703327417373657, -0.26486340165138245, 0.7824472188949585, -0.2284267097711563], [0.833562970161438, -0.13383060693740845, 1.214798092842102, -0.4251439571380615, 0.82937091588974, -0.564345121383667, 1.5937284231185913, -0.398609459400177], [-0.3611660599708557, 1.109294056892395, 0.6163665056228638, 0.07774554193019867, 0.8660792708396912, -2.6510210037231445, -1.2196199893951416, -0.9804018139839172], [-0.8433344110663853, 1.202932965473912, 0.4221242668130081, -0.06686368493717162, 1.196870685465337, -1.0536010203137116, -2.0819892849060895, -0.27581660766051397], [1.1214227676391602, 1.4723637104034424, -1.336181402206421, 0.8555816411972046, 1.3576456308364868, -1.3802679777145386, -1.1927145719528198, -0.09010019153356552]], [[-1.3829433917999268, -0.5362932085990906, 0.44070497155189514, -1.0847525596618652, 0.43209129571914673, 0.5496968626976013, -0.0580374039709568, 0.7616127729415894], [-0.9381560683250427, 0.09323356300592422, -0.6276177763938904, -0.6116999983787537, 0.10494128614664078, 0.6423094272613525, 0.44183483719825745, 0.45659294724464417], [-0.9507297619700902, 0.1175033196960021, -1.2933740609267463, -0.24343928598980166, -0.5528975711972323, 0.1418234615857251, -0.5905210345624924, 0.5160675462042565], [93.15936817409991, 45.0762945109137, 1.0541462411418019, 2.8560929475222667, 1.3311623166164819, 12.704269057049403, 14.798544307102125, 270.6842242431192], [0.4060012352212674, -0.020712294748957583, 0.9885749221184492, -0.11137391534701833, -1.1172302946604469, 0.37575170980799455, -0.4052466124444342, 1.008796613871923]]]\n",
      "(5, 5, 8)\n",
      "CLUSTER\n",
      "Centroid:\n",
      "[50.29278346083289, 39.7629349818391, 3.641166329322785, 19.377902760729494, 113.5564698131563, 82.14822849694, 0.05249681290362578, -0.9490269424493482]\n",
      "Count:\n",
      "517\n",
      "CLUSTER\n",
      "Centroid:\n",
      "[69.48559898789411, 39.41414461761598, 2.388300031430723, 10.816584226341904, 28.744068374894262, 57.6529676657327, 2.8902856681550624, 11.714400546503768]\n",
      "Count:\n",
      "1079\n",
      "CLUSTER\n",
      "Centroid:\n",
      "[93.15936817409991, 45.0762945109137, 1.0541462411418019, 2.8560929475222667, 1.3311623166164819, 12.704269057049403, 14.798544307102125, 270.6842242431192]\n",
      "Count:\n",
      "43\n"
     ]
    },
    {
     "data": {
      "image/png": "[encoded data removed]",
      "text/plain": [
       "<Figure size 432x288 with 1 Axes>"
      ]
     },
     "metadata": {
      "needs_background": "light"
     },
     "output_type": "display_data"
    },
    {
     "name": "stdout",
     "output_type": "stream",
     "text": [
      "Silhouette Coefficient:  0.4418700300386931\n"
     ]
    }
   ],
   "source": [
    "X, y = pulsar_data[:,:-1], pulsar_data[:,-1]\n",
    "X, y = data_prep(X, y)\n",
    "unsup_data = np.array([X[i] for i in range(len(X)) if y[i] == 1])\n",
    "\n",
    "pca_principal_components, pca_transformed_data, pca_explained_variance, pca_trained = pca(unsup_data, 2)\n",
    "\n",
    "print(\"SOM Results:\")\n",
    "som_pred, som_clusters, som_centroids = som(unsup_data, 5, 5, 100)\n",
    "print(som_centroids)\n",
    "print(np.shape(np.array(som_centroids)))\n",
    "for i in range(len(som_clusters)):\n",
    "  for j in range(len(som_clusters[0])):\n",
    "    if len(som_clusters[i][j]) != 0:\n",
    "      print(\"CLUSTER\")\n",
    "      print(\"Centroid:\")\n",
    "      print(som_centroids[i][j])\n",
    "      print(\"Count:\")\n",
    "      print(len(som_clusters[i][j]))\n",
    "      pca_transformed_cluster = pca_trained.transform(som_clusters[i][j])\n",
    "      plt.scatter(pca_transformed_cluster[:,0], pca_transformed_cluster[:,1], marker='.')\n",
    "plt.title('SOM Clusters (with Reduced Dimensionality for Visualization)')\n",
    "plt.xlabel('Principal Component 1')\n",
    "plt.ylabel('Principal Component 2')\n",
    "plt.show()\n",
    "eval_clr(unsup_data, som_pred, flatten=True, flatten_dim=5)"
   ]
  },
  {
   "cell_type": "code",
   "execution_count": null,
   "metadata": {
    "colab": {},
    "colab_type": "code",
    "id": "KEkHjh_eeRqC"
   },
   "outputs": [],
   "source": []
  },
  {
   "cell_type": "code",
   "execution_count": null,
   "metadata": {
    "colab": {},
    "colab_type": "code",
    "id": "GCm-7xRHLc_s"
   },
   "outputs": [],
   "source": []
  }
 ],
 "metadata": {
  "colab": {
   "collapsed_sections": [],
   "name": "CS 229 - Project.ipynb",
   "provenance": []
  },
  "kernelspec": {
   "display_name": "Python 3 (ipykernel)",
   "language": "python",
   "name": "python3"
  },
  "language_info": {
   "codemirror_mode": {
    "name": "ipython",
    "version": 3
   },
   "file_extension": ".py",
   "mimetype": "text/x-python",
   "name": "python",
   "nbconvert_exporter": "python",
   "pygments_lexer": "ipython3",
   "version": "3.8.5"
  }
 },
 "nbformat": 4,
 "nbformat_minor": 4
}
