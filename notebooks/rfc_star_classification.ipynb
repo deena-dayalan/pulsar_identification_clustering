{
 "cells": [
  {
   "cell_type": "code",
   "execution_count": 1,
   "metadata": {
    "id": "1gEZhuB-qL-o"
   },
   "outputs": [],
   "source": [
    "import numpy as np\n",
    "import pandas as pd\n",
    "import warnings\n",
    "warnings.filterwarnings('ignore')\n",
    "import seaborn as sns\n",
    "import matplotlib.pyplot as plt\n",
    "from sklearn.model_selection import train_test_split\n",
    "from sklearn.preprocessing import MinMaxScaler\n",
    "from sklearn.linear_model import LogisticRegression\n",
    "from sklearn.metrics import accuracy_score\n",
    "from sklearn.metrics import confusion_matrix\n",
    "from sklearn.metrics import classification_report\n",
    "from sklearn.metrics import precision_score\n",
    "from sklearn.metrics import recall_score\n",
    "from sklearn.metrics import roc_auc_score"
   ]
  },
  {
   "cell_type": "code",
   "execution_count": 2,
   "metadata": {
    "id": "mDVW2FxSxHFV"
   },
   "outputs": [],
   "source": [
    "def print_metrics(y_true,y_pred):\n",
    "  cm = confusion_matrix(y_true,y_pred)\n",
    "  print('Confusion matrix\\n', cm)\n",
    "  print('True Positives(TP) = ', cm[1,1])\n",
    "  print('True Negatives(TN) = ', cm[0,0])\n",
    "  print('False Positives(FP) = ', cm[0,1])\n",
    "  print('False Negatives(FN) = ', cm[1,0])\n",
    "  cm_matrix = pd.DataFrame(data=cm, columns=['Predict: RFI', 'Predict: Pulsar'], \n",
    "                                 index=['Actual:RFI', 'Actual:Pulsar'])\n",
    "\n",
    "  sns.heatmap(cm_matrix, annot=True, fmt='d', cmap='YlGnBu')\n",
    "  print(classification_report(y_true, y_pred))\n",
    "  \n",
    "  TP = cm[1,1]\n",
    "  TN = cm[0,0]\n",
    "  FP = cm[0,1]\n",
    "  FN = cm[1,0]\n",
    "\n",
    "  classification_accuracy = (TP + TN) / float(TP + TN + FP + FN)\n",
    "  print('Classification accuracy : {0:0.4f}'.format(classification_accuracy))\n",
    "  ## classification error\n",
    "  classification_error = (FP + FN) / float(TP + TN + FP + FN)\n",
    "  print('Classification error : {0:0.4f}'.format(classification_error))\n",
    "  ## precision score\n",
    "  precision = TP / float(TP + FP)\n",
    "  print('Precision : {0:0.4f}'.format(precision))\n",
    "  ## recall \n",
    "  recall = TP / float(TP + FN)\n",
    "  print('Recall or Sensitivity : {0:0.4f}'.format(recall))\n",
    "  ## specificity\n",
    "  specificity = TN / (TN + FP)\n",
    "  print('Specificity : {0:0.4f}'.format(specificity))\n",
    "  ## F-1 score\n",
    "  f1 = 2 * (precision * recall) / (precision + recall)\n",
    "  print('F-1 score : {0:0.4f}'.format(f1))\n",
    "  ## ROC_AU\n",
    "  ROC_AUC = roc_auc_score(y_true,y_pred)\n",
    "  print('ROC AUC : {:.4f}'.format(ROC_AUC))"
   ]
  },
  {
   "cell_type": "code",
   "execution_count": 3,
   "metadata": {
    "colab": {
     "base_uri": "https://localhost:8080/",
     "height": 206
    },
    "id": "FQlJhyFSqeen",
    "outputId": "771e415c-81ff-4f04-80c8-dc93345ba91a"
   },
   "outputs": [
    {
     "data": {
      "text/html": [
       "<div>\n",
       "<style scoped>\n",
       "    .dataframe tbody tr th:only-of-type {\n",
       "        vertical-align: middle;\n",
       "    }\n",
       "\n",
       "    .dataframe tbody tr th {\n",
       "        vertical-align: top;\n",
       "    }\n",
       "\n",
       "    .dataframe thead th {\n",
       "        text-align: right;\n",
       "    }\n",
       "</style>\n",
       "<table border=\"1\" class=\"dataframe\">\n",
       "  <thead>\n",
       "    <tr style=\"text-align: right;\">\n",
       "      <th></th>\n",
       "      <th>mean_int_pf</th>\n",
       "      <th>std_pf</th>\n",
       "      <th>ex_kurt_pf</th>\n",
       "      <th>skew_pf</th>\n",
       "      <th>mean_dm</th>\n",
       "      <th>std_dm</th>\n",
       "      <th>kurt_dm</th>\n",
       "      <th>skew_dm</th>\n",
       "      <th>label</th>\n",
       "    </tr>\n",
       "  </thead>\n",
       "  <tbody>\n",
       "    <tr>\n",
       "      <th>0</th>\n",
       "      <td>140.562500</td>\n",
       "      <td>55.683782</td>\n",
       "      <td>-0.234571</td>\n",
       "      <td>-0.699648</td>\n",
       "      <td>3.199833</td>\n",
       "      <td>19.110426</td>\n",
       "      <td>7.975532</td>\n",
       "      <td>74.242225</td>\n",
       "      <td>0</td>\n",
       "    </tr>\n",
       "    <tr>\n",
       "      <th>1</th>\n",
       "      <td>102.507812</td>\n",
       "      <td>58.882430</td>\n",
       "      <td>0.465318</td>\n",
       "      <td>-0.515088</td>\n",
       "      <td>1.677258</td>\n",
       "      <td>14.860146</td>\n",
       "      <td>10.576487</td>\n",
       "      <td>127.393580</td>\n",
       "      <td>0</td>\n",
       "    </tr>\n",
       "    <tr>\n",
       "      <th>2</th>\n",
       "      <td>103.015625</td>\n",
       "      <td>39.341649</td>\n",
       "      <td>0.323328</td>\n",
       "      <td>1.051164</td>\n",
       "      <td>3.121237</td>\n",
       "      <td>21.744669</td>\n",
       "      <td>7.735822</td>\n",
       "      <td>63.171909</td>\n",
       "      <td>0</td>\n",
       "    </tr>\n",
       "    <tr>\n",
       "      <th>3</th>\n",
       "      <td>136.750000</td>\n",
       "      <td>57.178449</td>\n",
       "      <td>-0.068415</td>\n",
       "      <td>-0.636238</td>\n",
       "      <td>3.642977</td>\n",
       "      <td>20.959280</td>\n",
       "      <td>6.896499</td>\n",
       "      <td>53.593661</td>\n",
       "      <td>0</td>\n",
       "    </tr>\n",
       "    <tr>\n",
       "      <th>4</th>\n",
       "      <td>88.726562</td>\n",
       "      <td>40.672225</td>\n",
       "      <td>0.600866</td>\n",
       "      <td>1.123492</td>\n",
       "      <td>1.178930</td>\n",
       "      <td>11.468720</td>\n",
       "      <td>14.269573</td>\n",
       "      <td>252.567306</td>\n",
       "      <td>0</td>\n",
       "    </tr>\n",
       "  </tbody>\n",
       "</table>\n",
       "</div>"
      ],
      "text/plain": [
       "   mean_int_pf     std_pf  ex_kurt_pf   skew_pf   mean_dm     std_dm  \\\n",
       "0   140.562500  55.683782   -0.234571 -0.699648  3.199833  19.110426   \n",
       "1   102.507812  58.882430    0.465318 -0.515088  1.677258  14.860146   \n",
       "2   103.015625  39.341649    0.323328  1.051164  3.121237  21.744669   \n",
       "3   136.750000  57.178449   -0.068415 -0.636238  3.642977  20.959280   \n",
       "4    88.726562  40.672225    0.600866  1.123492  1.178930  11.468720   \n",
       "\n",
       "     kurt_dm     skew_dm  label  \n",
       "0   7.975532   74.242225      0  \n",
       "1  10.576487  127.393580      0  \n",
       "2   7.735822   63.171909      0  \n",
       "3   6.896499   53.593661      0  \n",
       "4  14.269573  252.567306      0  "
      ]
     },
     "execution_count": 3,
     "metadata": {},
     "output_type": "execute_result"
    }
   ],
   "source": [
    "pulsar_dataset = '/home/d.dasarathan/ds5500/projects/datasets/HTRU2/HTRU_2.csv'\n",
    "\n",
    "dataset=pd.read_csv(pulsar_dataset, header=None)\n",
    "\n",
    "col_names = ['mean_int_pf', 'std_pf', 'ex_kurt_pf', 'skew_pf', 'mean_dm', 'std_dm', 'kurt_dm', 'skew_dm', 'label']\n",
    "\n",
    "dataset.columns = col_names\n",
    "\n",
    "dataset.head()"
   ]
  },
  {
   "cell_type": "code",
   "execution_count": 4,
   "metadata": {
    "colab": {
     "base_uri": "https://localhost:8080/"
    },
    "id": "cXAmHnl8sXnh",
    "outputId": "1d454379-6dff-46f0-dc4a-922a5807cf30"
   },
   "outputs": [
    {
     "data": {
      "text/plain": [
       "0    16259\n",
       "1     1639\n",
       "Name: label, dtype: int64"
      ]
     },
     "execution_count": 4,
     "metadata": {},
     "output_type": "execute_result"
    }
   ],
   "source": [
    "dataset.label.value_counts()"
   ]
  },
  {
   "cell_type": "code",
   "execution_count": 5,
   "metadata": {
    "id": "IjT9_cLysmzO"
   },
   "outputs": [],
   "source": [
    "X = dataset.drop(['label'], axis=1)\n",
    "y = dataset['label']"
   ]
  },
  {
   "cell_type": "code",
   "execution_count": 6,
   "metadata": {
    "id": "HnXT_yoMsr7L"
   },
   "outputs": [],
   "source": [
    "X_train, X_test, y_train, y_test = train_test_split(X, y, test_size = 0.25, random_state = 10)"
   ]
  },
  {
   "cell_type": "code",
   "execution_count": 7,
   "metadata": {
    "colab": {
     "base_uri": "https://localhost:8080/"
    },
    "id": "xqqP27huEiBa",
    "outputId": "eb44d795-5727-43e6-e74a-1ed6919fe623"
   },
   "outputs": [
    {
     "name": "stdout",
     "output_type": "stream",
     "text": [
      "Training-set accuracy score: 1.0000\n",
      "Model accuracy :  0.9772067039106145\n"
     ]
    }
   ],
   "source": [
    "from sklearn.ensemble import RandomForestClassifier\n",
    "rfc = RandomForestClassifier(n_estimators = 100)\n",
    "rfc.fit(X_train, y_train)\n",
    "y_pred_rfc_train = rfc.predict(X_train)\n",
    "y_pred_rfc_test = rfc.predict(X_test)\n",
    "print('Training-set accuracy score: {0:0.4f}'. format(accuracy_score(y_train, y_pred_rfc_train)))\n",
    "print(\"Model accuracy : \", accuracy_score(y_test, y_pred_rfc_test))"
   ]
  },
  {
   "cell_type": "code",
   "execution_count": 8,
   "metadata": {
    "colab": {
     "base_uri": "https://localhost:8080/",
     "height": 665
    },
    "id": "is05hVnfFmk1",
    "outputId": "0ac4e9c3-6271-41bf-c563-4ce8de4bf2c9"
   },
   "outputs": [
    {
     "name": "stdout",
     "output_type": "stream",
     "text": [
      "Confusion matrix\n",
      " [[12172     0]\n",
      " [    0  1251]]\n",
      "True Positives(TP) =  1251\n",
      "True Negatives(TN) =  12172\n",
      "False Positives(FP) =  0\n",
      "False Negatives(FN) =  0\n",
      "              precision    recall  f1-score   support\n",
      "\n",
      "           0       1.00      1.00      1.00     12172\n",
      "           1       1.00      1.00      1.00      1251\n",
      "\n",
      "    accuracy                           1.00     13423\n",
      "   macro avg       1.00      1.00      1.00     13423\n",
      "weighted avg       1.00      1.00      1.00     13423\n",
      "\n",
      "Classification accuracy : 1.0000\n",
      "Classification error : 0.0000\n",
      "Precision : 1.0000\n",
      "Recall or Sensitivity : 1.0000\n",
      "Specificity : 1.0000\n",
      "F-1 score : 1.0000\n",
      "ROC AUC : 1.0000\n"
     ]
    },
    {
     "data": {
      "image/png": "[encoded data removed]",
      "text/plain": [
       "<Figure size 432x288 with 2 Axes>"
      ]
     },
     "metadata": {
      "needs_background": "light"
     },
     "output_type": "display_data"
    }
   ],
   "source": [
    "print_metrics(y_train,y_pred_rfc_train)"
   ]
  },
  {
   "cell_type": "code",
   "execution_count": 9,
   "metadata": {
    "colab": {
     "base_uri": "https://localhost:8080/",
     "height": 666
    },
    "id": "8rzs33AgEiHy",
    "outputId": "c7ebd7ff-54c6-4f20-e86e-1c96d9972ba7"
   },
   "outputs": [
    {
     "name": "stdout",
     "output_type": "stream",
     "text": [
      "Confusion matrix\n",
      " [[4051   36]\n",
      " [  66  322]]\n",
      "True Positives(TP) =  322\n",
      "True Negatives(TN) =  4051\n",
      "False Positives(FP) =  36\n",
      "False Negatives(FN) =  66\n",
      "              precision    recall  f1-score   support\n",
      "\n",
      "           0       0.98      0.99      0.99      4087\n",
      "           1       0.90      0.83      0.86       388\n",
      "\n",
      "    accuracy                           0.98      4475\n",
      "   macro avg       0.94      0.91      0.93      4475\n",
      "weighted avg       0.98      0.98      0.98      4475\n",
      "\n",
      "Classification accuracy : 0.9772\n",
      "Classification error : 0.0228\n",
      "Precision : 0.8994\n",
      "Recall or Sensitivity : 0.8299\n",
      "Specificity : 0.9912\n",
      "F-1 score : 0.8633\n",
      "ROC AUC : 0.9105\n"
     ]
    },
    {
     "data": {
      "image/png": "[encoded data removed]",
      "text/plain": [
       "<Figure size 432x288 with 2 Axes>"
      ]
     },
     "metadata": {
      "needs_background": "light"
     },
     "output_type": "display_data"
    }
   ],
   "source": [
    "print_metrics(y_test,y_pred_rfc_test)"
   ]
  },
  {
   "cell_type": "code",
   "execution_count": 10,
   "metadata": {
    "colab": {
     "background_save": true
    },
    "id": "IVR08vmSEiK1",
    "outputId": "1652838a-f5b2-41c5-aecd-86dba027df3d"
   },
   "outputs": [
    {
     "name": "stdout",
     "output_type": "stream",
     "text": [
      "GridSearch CV best score : 0.8792\n",
      "\n",
      "\n",
      "Parameters that give the best results : \n",
      "\n",
      " {'bootstrap': False, 'max_depth': 4, 'max_features': 'auto', 'min_samples_leaf': 1, 'min_samples_split': 2, 'n_estimators': 500}\n",
      "\n",
      "\n",
      "Estimator that was chosen by the search : \n",
      "\n",
      " RandomForestClassifier(bootstrap=False, max_depth=4, n_estimators=500)\n"
     ]
    }
   ],
   "source": [
    "from sklearn.model_selection import RepeatedStratifiedKFold\n",
    "from sklearn.model_selection import GridSearchCV\n",
    "\n",
    "model = RandomForestClassifier()\n",
    "\n",
    "\n",
    "n_estimators = [50, 100, 300, 500, 800, 1000]\n",
    "max_features = ['auto', 'sqrt']\n",
    "max_depth = [2, 4]\n",
    "min_samples_split = [2, 5]\n",
    "min_samples_leaf = [1, 2]\n",
    "bootstrap = [True, False]\n",
    "\n",
    "parameters_grid = {'n_estimators': n_estimators,\n",
    "                   'max_features': max_features,\n",
    "                   'max_depth': max_depth,\n",
    "                   'min_samples_split': min_samples_split,\n",
    "                   'min_samples_leaf': min_samples_leaf,\n",
    "                   'bootstrap': bootstrap}\n",
    "\n",
    "cv = RepeatedStratifiedKFold(random_state=42)\n",
    "\n",
    "grid_search = GridSearchCV(estimator=model, param_grid=parameters_grid, n_jobs=-1, cv=cv, scoring='f1',error_score=0)\n",
    "grid_search.fit(X_train, y_train)\n",
    "\n",
    "print('GridSearch CV best score : {:.4f}\\n\\n'.format(grid_search.best_score_))\n",
    "print('Parameters that give the best results :','\\n\\n', (grid_search.best_params_))\n",
    "print('\\n\\nEstimator that was chosen by the search :','\\n\\n', (grid_search.best_estimator_))"
   ]
  },
  {
   "cell_type": "code",
   "execution_count": 24,
   "metadata": {
    "colab": {
     "background_save": true
    },
    "id": "sW1mlK6vFyYj"
   },
   "outputs": [],
   "source": [
    "best_model = RandomForestClassifier(bootstrap=False, max_depth=4, max_features='sqrt', n_estimators=500)\n",
    "\n",
    "best_model.fit(X_train,y_train)\n",
    "\n",
    "grid_res_train = best_model.predict(X_train)\n",
    "\n",
    "grid_res_test = best_model.predict(X_test)"
   ]
  },
  {
   "cell_type": "code",
   "execution_count": 25,
   "metadata": {
    "colab": {
     "background_save": true
    },
    "id": "CbmlgGV7Fyb-",
    "outputId": "43c0d648-7a03-493b-c1b4-e90290e85820"
   },
   "outputs": [
    {
     "name": "stdout",
     "output_type": "stream",
     "text": [
      "Confusion matrix\n",
      " [[12111    61]\n",
      " [  204  1047]]\n",
      "True Positives(TP) =  1047\n",
      "True Negatives(TN) =  12111\n",
      "False Positives(FP) =  61\n",
      "False Negatives(FN) =  204\n",
      "              precision    recall  f1-score   support\n",
      "\n",
      "           0       0.98      0.99      0.99     12172\n",
      "           1       0.94      0.84      0.89      1251\n",
      "\n",
      "    accuracy                           0.98     13423\n",
      "   macro avg       0.96      0.92      0.94     13423\n",
      "weighted avg       0.98      0.98      0.98     13423\n",
      "\n",
      "Classification accuracy : 0.9803\n",
      "Classification error : 0.0197\n",
      "Precision : 0.9449\n",
      "Recall or Sensitivity : 0.8369\n",
      "Specificity : 0.9950\n",
      "F-1 score : 0.8877\n",
      "ROC AUC : 0.9160\n"
     ]
    },
    {
     "data": {
      "image/png": "[encoded data removed]",
      "text/plain": [
       "<Figure size 432x288 with 2 Axes>"
      ]
     },
     "metadata": {
      "needs_background": "light"
     },
     "output_type": "display_data"
    }
   ],
   "source": [
    "print_metrics(y_train,grid_res_train)"
   ]
  },
  {
   "cell_type": "code",
   "execution_count": 26,
   "metadata": {
    "colab": {
     "background_save": true
    },
    "id": "ubAF39r8Fyfk",
    "outputId": "b5a04d8f-6602-4cdd-8c38-e5015b00436c"
   },
   "outputs": [
    {
     "name": "stdout",
     "output_type": "stream",
     "text": [
      "Confusion matrix\n",
      " [[4061   26]\n",
      " [  79  309]]\n",
      "True Positives(TP) =  309\n",
      "True Negatives(TN) =  4061\n",
      "False Positives(FP) =  26\n",
      "False Negatives(FN) =  79\n",
      "              precision    recall  f1-score   support\n",
      "\n",
      "           0       0.98      0.99      0.99      4087\n",
      "           1       0.92      0.80      0.85       388\n",
      "\n",
      "    accuracy                           0.98      4475\n",
      "   macro avg       0.95      0.90      0.92      4475\n",
      "weighted avg       0.98      0.98      0.98      4475\n",
      "\n",
      "Classification accuracy : 0.9765\n",
      "Classification error : 0.0235\n",
      "Precision : 0.9224\n",
      "Recall or Sensitivity : 0.7964\n",
      "Specificity : 0.9936\n",
      "F-1 score : 0.8548\n",
      "ROC AUC : 0.8950\n"
     ]
    },
    {
     "data": {
      "image/png": "[encoded data removed]",
      "text/plain": [
       "<Figure size 432x288 with 2 Axes>"
      ]
     },
     "metadata": {
      "needs_background": "light"
     },
     "output_type": "display_data"
    }
   ],
   "source": [
    "print_metrics(y_test,grid_res_test)"
   ]
  },
  {
   "cell_type": "code",
   "execution_count": 27,
   "metadata": {
    "id": "1ULCGCxmkzfg"
   },
   "outputs": [
    {
     "data": {
      "text/plain": [
       "(32518, 9)"
      ]
     },
     "execution_count": 27,
     "metadata": {},
     "output_type": "execute_result"
    }
   ],
   "source": [
    "from sklearn.utils import resample\n",
    "\n",
    "dataset_majority = dataset[dataset['label']==0]\n",
    "dataset_minority = dataset[dataset['label']==1]\n",
    "\n",
    "positive_upsample = resample(dataset_minority, replace = True, \n",
    "                        n_samples = dataset_majority.shape[0],\n",
    "                        random_state = 101)\n",
    "\n",
    "dataset_upsampled = pd.concat([dataset_majority, positive_upsample])  # concat two data frames i,e majority class data set and upsampled minority class data set\n",
    "dataset_upsampled = dataset_upsampled.sample(frac = 1)\n",
    "dataset_upsampled.shape"
   ]
  },
  {
   "cell_type": "code",
   "execution_count": 28,
   "metadata": {
    "id": "SRmF59LLk5FD"
   },
   "outputs": [],
   "source": [
    "X1 = dataset_upsampled.drop(['label'], axis=1)\n",
    "y1 = dataset_upsampled['label']"
   ]
  },
  {
   "cell_type": "code",
   "execution_count": 29,
   "metadata": {
    "id": "bQRSOnkvk51M"
   },
   "outputs": [],
   "source": [
    "X1_train, X1_test, y1_train, y1_test = train_test_split(X1, y1, test_size = 0.25, random_state = 10)"
   ]
  },
  {
   "cell_type": "code",
   "execution_count": 30,
   "metadata": {
    "colab": {
     "base_uri": "https://localhost:8080/"
    },
    "id": "nn3WMyVQls5P",
    "outputId": "eb44d795-5727-43e6-e74a-1ed6919fe623"
   },
   "outputs": [
    {
     "name": "stdout",
     "output_type": "stream",
     "text": [
      "Training-set accuracy score: 0.9452\n",
      "Model accuracy :  0.9468634686346864\n"
     ]
    }
   ],
   "source": [
    "from sklearn.ensemble import RandomForestClassifier\n",
    "rfc1 = RandomForestClassifier(bootstrap=False, max_depth=4, max_features='sqrt', n_estimators=500)\n",
    "rfc1.fit(X1_train, y1_train)\n",
    "y_pred_rfc_train1 = rfc1.predict(X1_train)\n",
    "y_pred_rfc_test1 = rfc1.predict(X1_test)\n",
    "print('Training-set accuracy score: {0:0.4f}'. format(accuracy_score(y1_train, y_pred_rfc_train1)))\n",
    "print(\"Model accuracy : \", accuracy_score(y1_test, y_pred_rfc_test1))"
   ]
  },
  {
   "cell_type": "code",
   "execution_count": 31,
   "metadata": {
    "id": "88fkPdWclCI-"
   },
   "outputs": [
    {
     "name": "stdout",
     "output_type": "stream",
     "text": [
      "Confusion matrix\n",
      " [[11900   282]\n",
      " [ 1054 11152]]\n",
      "True Positives(TP) =  11152\n",
      "True Negatives(TN) =  11900\n",
      "False Positives(FP) =  282\n",
      "False Negatives(FN) =  1054\n",
      "              precision    recall  f1-score   support\n",
      "\n",
      "           0       0.92      0.98      0.95     12182\n",
      "           1       0.98      0.91      0.94     12206\n",
      "\n",
      "    accuracy                           0.95     24388\n",
      "   macro avg       0.95      0.95      0.95     24388\n",
      "weighted avg       0.95      0.95      0.95     24388\n",
      "\n",
      "Classification accuracy : 0.9452\n",
      "Classification error : 0.0548\n",
      "Precision : 0.9753\n",
      "Recall or Sensitivity : 0.9136\n",
      "Specificity : 0.9769\n",
      "F-1 score : 0.9435\n",
      "ROC AUC : 0.9453\n"
     ]
    },
    {
     "data": {
      "image/png": "[encoded data removed]",
      "text/plain": [
       "<Figure size 432x288 with 2 Axes>"
      ]
     },
     "metadata": {
      "needs_background": "light"
     },
     "output_type": "display_data"
    }
   ],
   "source": [
    "print_metrics(y1_train,y_pred_rfc_train1)"
   ]
  },
  {
   "cell_type": "code",
   "execution_count": 32,
   "metadata": {
    "id": "ct6Frq76mGkL"
   },
   "outputs": [
    {
     "name": "stdout",
     "output_type": "stream",
     "text": [
      "Confusion matrix\n",
      " [[3967  110]\n",
      " [ 322 3731]]\n",
      "True Positives(TP) =  3731\n",
      "True Negatives(TN) =  3967\n",
      "False Positives(FP) =  110\n",
      "False Negatives(FN) =  322\n",
      "              precision    recall  f1-score   support\n",
      "\n",
      "           0       0.92      0.97      0.95      4077\n",
      "           1       0.97      0.92      0.95      4053\n",
      "\n",
      "    accuracy                           0.95      8130\n",
      "   macro avg       0.95      0.95      0.95      8130\n",
      "weighted avg       0.95      0.95      0.95      8130\n",
      "\n",
      "Classification accuracy : 0.9469\n",
      "Classification error : 0.0531\n",
      "Precision : 0.9714\n",
      "Recall or Sensitivity : 0.9206\n",
      "Specificity : 0.9730\n",
      "F-1 score : 0.9453\n",
      "ROC AUC : 0.9468\n"
     ]
    },
    {
     "data": {
      "image/png": "[encoded data removed]",
      "text/plain": [
       "<Figure size 432x288 with 2 Axes>"
      ]
     },
     "metadata": {
      "needs_background": "light"
     },
     "output_type": "display_data"
    }
   ],
   "source": [
    "print_metrics(y1_test,y_pred_rfc_test1)"
   ]
  },
  {
   "cell_type": "code",
   "execution_count": 20,
   "metadata": {
    "id": "zh5wKAxImKGH"
   },
   "outputs": [
    {
     "name": "stdout",
     "output_type": "stream",
     "text": [
      "GridSearch CV best score : 0.9414\n",
      "\n",
      "\n",
      "Parameters that give the best results : \n",
      "\n",
      " {'bootstrap': False, 'max_depth': 4, 'max_features': 'sqrt', 'min_samples_leaf': 2, 'min_samples_split': 5, 'n_estimators': 1000}\n",
      "\n",
      "\n",
      "Estimator that was chosen by the search : \n",
      "\n",
      " RandomForestClassifier(bootstrap=False, max_depth=4, max_features='sqrt',\n",
      "                       min_samples_leaf=2, min_samples_split=5,\n",
      "                       n_estimators=1000)\n"
     ]
    }
   ],
   "source": [
    "from sklearn.model_selection import RepeatedStratifiedKFold\n",
    "from sklearn.model_selection import GridSearchCV\n",
    "\n",
    "model1 = RandomForestClassifier()\n",
    "\n",
    "\n",
    "n_estimators = [50, 100, 300, 500, 800, 1000]\n",
    "max_features = ['auto', 'sqrt']\n",
    "max_depth = [2, 4]\n",
    "min_samples_split = [2, 5]\n",
    "min_samples_leaf = [1, 2]\n",
    "bootstrap = [True, False]\n",
    "\n",
    "parameters_grid = {'n_estimators': n_estimators,\n",
    "                   'max_features': max_features,\n",
    "                   'max_depth': max_depth,\n",
    "                   'min_samples_split': min_samples_split,\n",
    "                   'min_samples_leaf': min_samples_leaf,\n",
    "                   'bootstrap': bootstrap}\n",
    "\n",
    "cv1 = RepeatedStratifiedKFold(random_state=42)\n",
    "\n",
    "grid_search1 = GridSearchCV(estimator=model1, param_grid=parameters_grid, n_jobs=-1, cv=cv1, scoring='f1',error_score=0)\n",
    "grid_search1.fit(X1_train, y1_train)\n",
    "\n",
    "print('GridSearch CV best score : {:.4f}\\n\\n'.format(grid_search1.best_score_))\n",
    "print('Parameters that give the best results :','\\n\\n', (grid_search1.best_params_))\n",
    "print('\\n\\nEstimator that was chosen by the search :','\\n\\n', (grid_search1.best_estimator_))"
   ]
  },
  {
   "cell_type": "code",
   "execution_count": 21,
   "metadata": {
    "id": "P5mK8tWymNl1"
   },
   "outputs": [],
   "source": [
    "best_model1 = RandomForestClassifier(bootstrap=False, \n",
    "                                     max_depth=4, \n",
    "                                     max_features='sqrt',\n",
    "                                     min_samples_leaf=2,\n",
    "                                     min_samples_split=5,\n",
    "                                     n_estimators=1000)\n",
    "\n",
    "best_model1.fit(X1_train,y1_train)\n",
    "\n",
    "grid_res_train1 = best_model1.predict(X1_train)\n",
    "\n",
    "grid_res_test1 = best_model1.predict(X1_test)"
   ]
  },
  {
   "cell_type": "code",
   "execution_count": 22,
   "metadata": {
    "id": "iPlpe-7NmQYM"
   },
   "outputs": [
    {
     "name": "stdout",
     "output_type": "stream",
     "text": [
      "Confusion matrix\n",
      " [[11910   291]\n",
      " [ 1071 11116]]\n",
      "True Positives(TP) =  11116\n",
      "True Negatives(TN) =  11910\n",
      "False Positives(FP) =  291\n",
      "False Negatives(FN) =  1071\n",
      "              precision    recall  f1-score   support\n",
      "\n",
      "           0       0.92      0.98      0.95     12201\n",
      "           1       0.97      0.91      0.94     12187\n",
      "\n",
      "    accuracy                           0.94     24388\n",
      "   macro avg       0.95      0.94      0.94     24388\n",
      "weighted avg       0.95      0.94      0.94     24388\n",
      "\n",
      "Classification accuracy : 0.9442\n",
      "Classification error : 0.0558\n",
      "Precision : 0.9745\n",
      "Recall or Sensitivity : 0.9121\n",
      "Specificity : 0.9761\n",
      "F-1 score : 0.9423\n",
      "ROC AUC : 0.9441\n"
     ]
    },
    {
     "data": {
      "image/png": "[encoded data removed]",
      "text/plain": [
       "<Figure size 432x288 with 2 Axes>"
      ]
     },
     "metadata": {
      "needs_background": "light"
     },
     "output_type": "display_data"
    }
   ],
   "source": [
    "print_metrics(y1_train,grid_res_train1)"
   ]
  },
  {
   "cell_type": "code",
   "execution_count": 23,
   "metadata": {
    "id": "yrDKc9sbmTqj"
   },
   "outputs": [
    {
     "name": "stdout",
     "output_type": "stream",
     "text": [
      "Confusion matrix\n",
      " [[3951  107]\n",
      " [ 338 3734]]\n",
      "True Positives(TP) =  3734\n",
      "True Negatives(TN) =  3951\n",
      "False Positives(FP) =  107\n",
      "False Negatives(FN) =  338\n",
      "              precision    recall  f1-score   support\n",
      "\n",
      "           0       0.92      0.97      0.95      4058\n",
      "           1       0.97      0.92      0.94      4072\n",
      "\n",
      "    accuracy                           0.95      8130\n",
      "   macro avg       0.95      0.95      0.95      8130\n",
      "weighted avg       0.95      0.95      0.95      8130\n",
      "\n",
      "Classification accuracy : 0.9453\n",
      "Classification error : 0.0547\n",
      "Precision : 0.9721\n",
      "Recall or Sensitivity : 0.9170\n",
      "Specificity : 0.9736\n",
      "F-1 score : 0.9438\n",
      "ROC AUC : 0.9453\n"
     ]
    },
    {
     "data": {
      "image/png": "[encoded data removed]",
      "text/plain": [
       "<Figure size 432x288 with 2 Axes>"
      ]
     },
     "metadata": {
      "needs_background": "light"
     },
     "output_type": "display_data"
    }
   ],
   "source": [
    "print_metrics(y1_test,grid_res_test1)"
   ]
  },
  {
   "cell_type": "code",
   "execution_count": null,
   "metadata": {},
   "outputs": [],
   "source": []
  }
 ],
 "metadata": {
  "colab": {
   "collapsed_sections": [],
   "provenance": []
  },
  "kernelspec": {
   "display_name": "Python 3 (ipykernel)",
   "language": "python",
   "name": "python3"
  },
  "language_info": {
   "codemirror_mode": {
    "name": "ipython",
    "version": 3
   },
   "file_extension": ".py",
   "mimetype": "text/x-python",
   "name": "python",
   "nbconvert_exporter": "python",
   "pygments_lexer": "ipython3",
   "version": "3.8.5"
  }
 },
 "nbformat": 4,
 "nbformat_minor": 4
}
