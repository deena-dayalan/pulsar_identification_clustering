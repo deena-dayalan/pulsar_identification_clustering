{
 "cells": [
  {
   "cell_type": "code",
   "execution_count": 1,
   "metadata": {
    "id": "1gEZhuB-qL-o"
   },
   "outputs": [],
   "source": [
    "import numpy as np\n",
    "import pandas as pd\n",
    "import warnings\n",
    "warnings.filterwarnings('ignore')\n",
    "import seaborn as sns\n",
    "import matplotlib.pyplot as plt\n",
    "from sklearn.model_selection import train_test_split\n",
    "from sklearn.preprocessing import MinMaxScaler\n",
    "from sklearn.linear_model import LogisticRegression\n",
    "from sklearn.metrics import accuracy_score\n",
    "from sklearn.metrics import confusion_matrix\n",
    "from sklearn.metrics import classification_report\n",
    "from sklearn.metrics import precision_score\n",
    "from sklearn.metrics import recall_score"
   ]
  },
  {
   "cell_type": "code",
   "execution_count": 2,
   "metadata": {
    "id": "mDVW2FxSxHFV"
   },
   "outputs": [],
   "source": [
    "def print_metrics(y_true,y_pred):\n",
    "  cm = confusion_matrix(y_true,y_pred)\n",
    "  print('Confusion matrix\\n', cm)\n",
    "  print('True Positives(TP) = ', cm[1,1])\n",
    "  print('True Negatives(TN) = ', cm[0,0])\n",
    "  print('False Positives(FP) = ', cm[0,1])\n",
    "  print('False Negatives(FN) = ', cm[1,0])\n",
    "  cm_matrix = pd.DataFrame(data=cm, columns=['Predict: RFI', 'Predict: Pulsar'], \n",
    "                                 index=['Actual:RFI', 'Actual:Pulsar'])\n",
    "\n",
    "  sns.heatmap(cm_matrix, annot=True, fmt='d', cmap='YlGnBu')\n",
    "  print(classification_report(y_true, y_pred))\n",
    "  \n",
    "  TP = cm[1,1]\n",
    "  TN = cm[0,0]\n",
    "  FP = cm[0,1]\n",
    "  FN = cm[1,0]\n",
    "\n",
    "  classification_accuracy = (TP + TN) / float(TP + TN + FP + FN)\n",
    "  print('Classification accuracy : {0:0.4f}'.format(classification_accuracy))\n",
    "  ## classification error\n",
    "  classification_error = (FP + FN) / float(TP + TN + FP + FN)\n",
    "  print('Classification error : {0:0.4f}'.format(classification_error))\n",
    "  ## precision score\n",
    "  precision = TP / float(TP + FP)\n",
    "  print('Precision : {0:0.4f}'.format(precision))\n",
    "  ## recall \n",
    "  recall = TP / float(TP + FN)\n",
    "  print('Recall or Sensitivity : {0:0.4f}'.format(recall))\n",
    "  ## specificity\n",
    "  specificity = TN / (TN + FP)\n",
    "  print('Specificity : {0:0.4f}'.format(specificity))\n",
    "  ## F-1 score\n",
    "  f1 = 2 * (precision * recall) / (precision + recall)\n",
    "  print('F-1 score : {0:0.4f}'.format(f1))"
   ]
  },
  {
   "cell_type": "code",
   "execution_count": 3,
   "metadata": {
    "colab": {
     "base_uri": "https://localhost:8080/",
     "height": 206
    },
    "id": "FQlJhyFSqeen",
    "outputId": "b49c05ce-46bb-4323-ec01-0706f9a4940f"
   },
   "outputs": [
    {
     "data": {
      "text/html": [
       "<div>\n",
       "<style scoped>\n",
       "    .dataframe tbody tr th:only-of-type {\n",
       "        vertical-align: middle;\n",
       "    }\n",
       "\n",
       "    .dataframe tbody tr th {\n",
       "        vertical-align: top;\n",
       "    }\n",
       "\n",
       "    .dataframe thead th {\n",
       "        text-align: right;\n",
       "    }\n",
       "</style>\n",
       "<table border=\"1\" class=\"dataframe\">\n",
       "  <thead>\n",
       "    <tr style=\"text-align: right;\">\n",
       "      <th></th>\n",
       "      <th>mean_int_pf</th>\n",
       "      <th>std_pf</th>\n",
       "      <th>ex_kurt_pf</th>\n",
       "      <th>skew_pf</th>\n",
       "      <th>mean_dm</th>\n",
       "      <th>std_dm</th>\n",
       "      <th>kurt_dm</th>\n",
       "      <th>skew_dm</th>\n",
       "      <th>label</th>\n",
       "    </tr>\n",
       "  </thead>\n",
       "  <tbody>\n",
       "    <tr>\n",
       "      <th>0</th>\n",
       "      <td>140.562500</td>\n",
       "      <td>55.683782</td>\n",
       "      <td>-0.234571</td>\n",
       "      <td>-0.699648</td>\n",
       "      <td>3.199833</td>\n",
       "      <td>19.110426</td>\n",
       "      <td>7.975532</td>\n",
       "      <td>74.242225</td>\n",
       "      <td>0</td>\n",
       "    </tr>\n",
       "    <tr>\n",
       "      <th>1</th>\n",
       "      <td>102.507812</td>\n",
       "      <td>58.882430</td>\n",
       "      <td>0.465318</td>\n",
       "      <td>-0.515088</td>\n",
       "      <td>1.677258</td>\n",
       "      <td>14.860146</td>\n",
       "      <td>10.576487</td>\n",
       "      <td>127.393580</td>\n",
       "      <td>0</td>\n",
       "    </tr>\n",
       "    <tr>\n",
       "      <th>2</th>\n",
       "      <td>103.015625</td>\n",
       "      <td>39.341649</td>\n",
       "      <td>0.323328</td>\n",
       "      <td>1.051164</td>\n",
       "      <td>3.121237</td>\n",
       "      <td>21.744669</td>\n",
       "      <td>7.735822</td>\n",
       "      <td>63.171909</td>\n",
       "      <td>0</td>\n",
       "    </tr>\n",
       "    <tr>\n",
       "      <th>3</th>\n",
       "      <td>136.750000</td>\n",
       "      <td>57.178449</td>\n",
       "      <td>-0.068415</td>\n",
       "      <td>-0.636238</td>\n",
       "      <td>3.642977</td>\n",
       "      <td>20.959280</td>\n",
       "      <td>6.896499</td>\n",
       "      <td>53.593661</td>\n",
       "      <td>0</td>\n",
       "    </tr>\n",
       "    <tr>\n",
       "      <th>4</th>\n",
       "      <td>88.726562</td>\n",
       "      <td>40.672225</td>\n",
       "      <td>0.600866</td>\n",
       "      <td>1.123492</td>\n",
       "      <td>1.178930</td>\n",
       "      <td>11.468720</td>\n",
       "      <td>14.269573</td>\n",
       "      <td>252.567306</td>\n",
       "      <td>0</td>\n",
       "    </tr>\n",
       "  </tbody>\n",
       "</table>\n",
       "</div>"
      ],
      "text/plain": [
       "   mean_int_pf     std_pf  ex_kurt_pf   skew_pf   mean_dm     std_dm  \\\n",
       "0   140.562500  55.683782   -0.234571 -0.699648  3.199833  19.110426   \n",
       "1   102.507812  58.882430    0.465318 -0.515088  1.677258  14.860146   \n",
       "2   103.015625  39.341649    0.323328  1.051164  3.121237  21.744669   \n",
       "3   136.750000  57.178449   -0.068415 -0.636238  3.642977  20.959280   \n",
       "4    88.726562  40.672225    0.600866  1.123492  1.178930  11.468720   \n",
       "\n",
       "     kurt_dm     skew_dm  label  \n",
       "0   7.975532   74.242225      0  \n",
       "1  10.576487  127.393580      0  \n",
       "2   7.735822   63.171909      0  \n",
       "3   6.896499   53.593661      0  \n",
       "4  14.269573  252.567306      0  "
      ]
     },
     "execution_count": 3,
     "metadata": {},
     "output_type": "execute_result"
    }
   ],
   "source": [
    "pulsar_dataset = '/home/d.dasarathan/ds5500/projects/datasets/HTRU2/HTRU_2.csv'\n",
    "\n",
    "dataset=pd.read_csv(pulsar_dataset, header=None)\n",
    "\n",
    "col_names = ['mean_int_pf', 'std_pf', 'ex_kurt_pf', 'skew_pf', 'mean_dm', 'std_dm', 'kurt_dm', 'skew_dm', 'label']\n",
    "\n",
    "dataset.columns = col_names\n",
    "\n",
    "dataset.head()"
   ]
  },
  {
   "cell_type": "code",
   "execution_count": 4,
   "metadata": {
    "colab": {
     "base_uri": "https://localhost:8080/"
    },
    "id": "cXAmHnl8sXnh",
    "outputId": "230a7acd-f012-4f57-e2d1-97ec3e56d53a"
   },
   "outputs": [
    {
     "data": {
      "text/plain": [
       "0    16259\n",
       "1     1639\n",
       "Name: label, dtype: int64"
      ]
     },
     "execution_count": 4,
     "metadata": {},
     "output_type": "execute_result"
    }
   ],
   "source": [
    "dataset.label.value_counts()"
   ]
  },
  {
   "cell_type": "code",
   "execution_count": 5,
   "metadata": {
    "id": "IjT9_cLysmzO"
   },
   "outputs": [],
   "source": [
    "X = dataset.drop(['label'], axis=1)\n",
    "y = dataset['label']"
   ]
  },
  {
   "cell_type": "code",
   "execution_count": 6,
   "metadata": {
    "id": "HnXT_yoMsr7L"
   },
   "outputs": [],
   "source": [
    "X_train, X_test, y_train, y_test = train_test_split(X, y, test_size = 0.25, random_state = 10)"
   ]
  },
  {
   "cell_type": "code",
   "execution_count": 7,
   "metadata": {
    "id": "eMuSyKDwuDv8"
   },
   "outputs": [],
   "source": [
    "col_names = X_train.columns"
   ]
  },
  {
   "cell_type": "code",
   "execution_count": 8,
   "metadata": {
    "id": "8LkceSG0uIi1"
   },
   "outputs": [],
   "source": [
    "scaler = MinMaxScaler()\n",
    "X_train = scaler.fit_transform(X_train)\n",
    "X_test = scaler.transform(X_test)\n",
    "#X_train = pd.DataFrame(X_train, columns=[col_names])\n",
    "#X_test = pd.DataFrame(X_test, columns=[col_names])"
   ]
  },
  {
   "cell_type": "code",
   "execution_count": 9,
   "metadata": {
    "colab": {
     "base_uri": "https://localhost:8080/"
    },
    "id": "wmJ6abcuuM0Q",
    "outputId": "166610e1-b402-442a-cb5f-5b2ea8993f5f"
   },
   "outputs": [
    {
     "name": "stdout",
     "output_type": "stream",
     "text": [
      "Model :  LogisticRegression(C=100, random_state=42, solver='liblinear')\n",
      "Train set score: 0.9794\n",
      "Test set score: 0.9768\n",
      "Training-set accuracy score: 0.9794\n",
      "Model accuracy score: 0.9768\n"
     ]
    }
   ],
   "source": [
    "logreg100 = LogisticRegression(C=100, solver='liblinear', random_state=42)\n",
    "\n",
    "logreg100.fit(X_train, y_train)\n",
    "\n",
    "y_pred_logreg100_train = logreg100.predict(X_train)\n",
    "\n",
    "y_pred_logreg100_test = logreg100.predict(X_test)\n",
    "\n",
    "print('Model : ',logreg100)\n",
    "\n",
    "print('Train set score: {:.4f}'.format(logreg100.score(X_train, y_train)))\n",
    "\n",
    "print('Test set score: {:.4f}'.format(logreg100.score(X_test, y_test)))\n",
    "\n",
    "print('Training-set accuracy score: {0:0.4f}'. format(accuracy_score(y_train, y_pred_logreg100_train)))\n",
    "\n",
    "print('Model accuracy score: {0:0.4f}'. format(accuracy_score(y_test, y_pred_logreg100_test)))"
   ]
  },
  {
   "cell_type": "code",
   "execution_count": 10,
   "metadata": {
    "colab": {
     "base_uri": "https://localhost:8080/",
     "height": 666
    },
    "id": "PMZTBB_XudM4",
    "outputId": "d7e0f22d-3f97-499a-f062-62099011cfab"
   },
   "outputs": [
    {
     "name": "stdout",
     "output_type": "stream",
     "text": [
      "Confusion matrix\n",
      " [[12109    63]\n",
      " [  213  1038]]\n",
      "True Positives(TP) =  1038\n",
      "True Negatives(TN) =  12109\n",
      "False Positives(FP) =  63\n",
      "False Negatives(FN) =  213\n",
      "              precision    recall  f1-score   support\n",
      "\n",
      "           0       0.98      0.99      0.99     12172\n",
      "           1       0.94      0.83      0.88      1251\n",
      "\n",
      "    accuracy                           0.98     13423\n",
      "   macro avg       0.96      0.91      0.94     13423\n",
      "weighted avg       0.98      0.98      0.98     13423\n",
      "\n",
      "Classification accuracy : 0.9794\n",
      "Classification error : 0.0206\n",
      "Precision : 0.9428\n",
      "Recall or Sensitivity : 0.8297\n",
      "Specificity : 0.9948\n",
      "F-1 score : 0.8827\n"
     ]
    },
    {
     "data": {
      "image/png": "[encoded data removed]",
      "text/plain": [
       "<Figure size 432x288 with 2 Axes>"
      ]
     },
     "metadata": {
      "needs_background": "light"
     },
     "output_type": "display_data"
    }
   ],
   "source": [
    "print_metrics(y_train,y_pred_logreg100_train)"
   ]
  },
  {
   "cell_type": "code",
   "execution_count": 11,
   "metadata": {
    "colab": {
     "base_uri": "https://localhost:8080/",
     "height": 665
    },
    "id": "5StBAmdwy4Gg",
    "outputId": "fb5d8631-2cd8-43ed-8bc5-a89faa4fcc6d"
   },
   "outputs": [
    {
     "name": "stdout",
     "output_type": "stream",
     "text": [
      "Confusion matrix\n",
      " [[4062   25]\n",
      " [  79  309]]\n",
      "True Positives(TP) =  309\n",
      "True Negatives(TN) =  4062\n",
      "False Positives(FP) =  25\n",
      "False Negatives(FN) =  79\n",
      "              precision    recall  f1-score   support\n",
      "\n",
      "           0       0.98      0.99      0.99      4087\n",
      "           1       0.93      0.80      0.86       388\n",
      "\n",
      "    accuracy                           0.98      4475\n",
      "   macro avg       0.95      0.90      0.92      4475\n",
      "weighted avg       0.98      0.98      0.98      4475\n",
      "\n",
      "Classification accuracy : 0.9768\n",
      "Classification error : 0.0232\n",
      "Precision : 0.9251\n",
      "Recall or Sensitivity : 0.7964\n",
      "Specificity : 0.9939\n",
      "F-1 score : 0.8560\n"
     ]
    },
    {
     "data": {
      "image/png": "[encoded data removed]",
      "text/plain": [
       "<Figure size 432x288 with 2 Axes>"
      ]
     },
     "metadata": {
      "needs_background": "light"
     },
     "output_type": "display_data"
    }
   ],
   "source": [
    "print_metrics(y_test,y_pred_logreg100_test)"
   ]
  },
  {
   "cell_type": "code",
   "execution_count": 12,
   "metadata": {
    "colab": {
     "base_uri": "https://localhost:8080/"
    },
    "id": "jKb1Zvtq0I0m",
    "outputId": "c7d0895a-1e31-48be-bc1c-4e9b89b6d375"
   },
   "outputs": [
    {
     "name": "stdout",
     "output_type": "stream",
     "text": [
      "GridSearch CV best score : 0.8853\n",
      "\n",
      "\n",
      "Parameters that give the best results : \n",
      "\n",
      " {'C': 100, 'penalty': 'l1', 'solver': 'liblinear'}\n",
      "\n",
      "\n",
      "Estimator that was chosen by the search : \n",
      "\n",
      " LogisticRegression(C=100, penalty='l1', solver='liblinear')\n"
     ]
    }
   ],
   "source": [
    "from sklearn.model_selection import RepeatedStratifiedKFold\n",
    "from sklearn.model_selection import GridSearchCV\n",
    "model = LogisticRegression()\n",
    "\n",
    "parameters_grid=[{'solver':['lbfgs', 'liblinear','newton-cg'], 'penalty':['l1','l2'], 'C':[100,10,1,0.1,0.01]}]\n",
    "cv = RepeatedStratifiedKFold(random_state=42)\n",
    "\n",
    "grid_search = GridSearchCV(estimator=model, param_grid=parameters_grid, n_jobs=-1, cv=cv, scoring='f1',error_score=0)\n",
    "#grid_result = grid_search.fit(X_train, y_train)\n",
    "#print(\"Best: %f using %s\" % (grid_result.best_score_, grid_result.best_params_))\n",
    "\n",
    "grid_search.fit(X_train, y_train)\n",
    "\n",
    "print('GridSearch CV best score : {:.4f}\\n\\n'.format(grid_search.best_score_))\n",
    "print('Parameters that give the best results :','\\n\\n', (grid_search.best_params_))\n",
    "print('\\n\\nEstimator that was chosen by the search :','\\n\\n', (grid_search.best_estimator_))"
   ]
  },
  {
   "cell_type": "code",
   "execution_count": 13,
   "metadata": {
    "id": "rRDc_szR3y4G"
   },
   "outputs": [],
   "source": [
    "best_model = LogisticRegression(C=100, penalty='l1', solver='liblinear')\n",
    "\n",
    "best_model.fit(X_train,y_train)\n",
    "\n",
    "grid_res_train = best_model.predict(X_train)\n",
    "\n",
    "grid_res_test = best_model.predict(X_test)\n",
    "\n",
    "#grid_res_train = grid_search.predict(X_train)\n",
    "#grid_res_test = grid_search.predict(X_test)"
   ]
  },
  {
   "cell_type": "code",
   "execution_count": 14,
   "metadata": {
    "colab": {
     "base_uri": "https://localhost:8080/",
     "height": 666
    },
    "id": "WEHlGj_J4opt",
    "outputId": "2aa08312-f1ce-420d-f620-72dca6abbc20"
   },
   "outputs": [
    {
     "name": "stdout",
     "output_type": "stream",
     "text": [
      "Confusion matrix\n",
      " [[12107    65]\n",
      " [  206  1045]]\n",
      "True Positives(TP) =  1045\n",
      "True Negatives(TN) =  12107\n",
      "False Positives(FP) =  65\n",
      "False Negatives(FN) =  206\n",
      "              precision    recall  f1-score   support\n",
      "\n",
      "           0       0.98      0.99      0.99     12172\n",
      "           1       0.94      0.84      0.89      1251\n",
      "\n",
      "    accuracy                           0.98     13423\n",
      "   macro avg       0.96      0.91      0.94     13423\n",
      "weighted avg       0.98      0.98      0.98     13423\n",
      "\n",
      "Classification accuracy : 0.9798\n",
      "Classification error : 0.0202\n",
      "Precision : 0.9414\n",
      "Recall or Sensitivity : 0.8353\n",
      "Specificity : 0.9947\n",
      "F-1 score : 0.8852\n"
     ]
    },
    {
     "data": {
      "image/png": "[encoded data removed]",
      "text/plain": [
       "<Figure size 432x288 with 2 Axes>"
      ]
     },
     "metadata": {
      "needs_background": "light"
     },
     "output_type": "display_data"
    }
   ],
   "source": [
    "print_metrics(y_train,grid_res_train)"
   ]
  },
  {
   "cell_type": "code",
   "execution_count": 15,
   "metadata": {
    "colab": {
     "base_uri": "https://localhost:8080/",
     "height": 665
    },
    "id": "yJf59fKV4zJg",
    "outputId": "2e63f336-fc89-4fd3-d39c-f230b0d9bae6"
   },
   "outputs": [
    {
     "name": "stdout",
     "output_type": "stream",
     "text": [
      "Confusion matrix\n",
      " [[4060   27]\n",
      " [  77  311]]\n",
      "True Positives(TP) =  311\n",
      "True Negatives(TN) =  4060\n",
      "False Positives(FP) =  27\n",
      "False Negatives(FN) =  77\n",
      "              precision    recall  f1-score   support\n",
      "\n",
      "           0       0.98      0.99      0.99      4087\n",
      "           1       0.92      0.80      0.86       388\n",
      "\n",
      "    accuracy                           0.98      4475\n",
      "   macro avg       0.95      0.90      0.92      4475\n",
      "weighted avg       0.98      0.98      0.98      4475\n",
      "\n",
      "Classification accuracy : 0.9768\n",
      "Classification error : 0.0232\n",
      "Precision : 0.9201\n",
      "Recall or Sensitivity : 0.8015\n",
      "Specificity : 0.9934\n",
      "F-1 score : 0.8567\n"
     ]
    },
    {
     "data": {
      "image/png": "[encoded data removed]",
      "text/plain": [
       "<Figure size 432x288 with 2 Axes>"
      ]
     },
     "metadata": {
      "needs_background": "light"
     },
     "output_type": "display_data"
    }
   ],
   "source": [
    "print_metrics(y_test,grid_res_test)"
   ]
  },
  {
   "cell_type": "markdown",
   "metadata": {},
   "source": [
    "--------------------------------------------------------------------------------------------------------------"
   ]
  },
  {
   "cell_type": "code",
   "execution_count": 16,
   "metadata": {
    "colab": {
     "base_uri": "https://localhost:8080/"
    },
    "id": "1oPdZK9dbTtw",
    "outputId": "09026394-1e6a-4525-ff7c-9b561acbcbdc"
   },
   "outputs": [
    {
     "data": {
      "text/plain": [
       "(17898, 9)"
      ]
     },
     "execution_count": 16,
     "metadata": {},
     "output_type": "execute_result"
    }
   ],
   "source": [
    "dataset.shape"
   ]
  },
  {
   "cell_type": "code",
   "execution_count": 17,
   "metadata": {
    "colab": {
     "base_uri": "https://localhost:8080/"
    },
    "id": "SiCyi-kdbTxH",
    "outputId": "b4cae930-88cc-48fb-eb76-a8462982b132"
   },
   "outputs": [
    {
     "data": {
      "text/plain": [
       "(32518, 9)"
      ]
     },
     "execution_count": 17,
     "metadata": {},
     "output_type": "execute_result"
    }
   ],
   "source": [
    "from sklearn.utils import resample\n",
    "\n",
    "dataset_majority = dataset[dataset['label']==0]\n",
    "dataset_minority = dataset[dataset['label']==1]\n",
    "\n",
    "positive_upsample = resample(dataset_minority, replace = True, \n",
    "                        n_samples = dataset_majority.shape[0],\n",
    "                        random_state = 101)\n",
    "\n",
    "dataset_upsampled = pd.concat([dataset_majority, positive_upsample])  # concat two data frames i,e majority class data set and upsampled minority class data set\n",
    "dataset_upsampled = dataset_upsampled.sample(frac = 1)\n",
    "dataset_upsampled.shape"
   ]
  },
  {
   "cell_type": "code",
   "execution_count": 18,
   "metadata": {
    "colab": {
     "base_uri": "https://localhost:8080/"
    },
    "id": "FC51W6Ntf9nH",
    "outputId": "2767035f-0c46-4795-f3bd-4c7393daab6a"
   },
   "outputs": [
    {
     "data": {
      "text/plain": [
       "mean_int_pf    0\n",
       "std_pf         0\n",
       "ex_kurt_pf     0\n",
       "skew_pf        0\n",
       "mean_dm        0\n",
       "std_dm         0\n",
       "kurt_dm        0\n",
       "skew_dm        0\n",
       "label          0\n",
       "dtype: int64"
      ]
     },
     "execution_count": 18,
     "metadata": {},
     "output_type": "execute_result"
    }
   ],
   "source": [
    "dataset_upsampled.isnull().sum()"
   ]
  },
  {
   "cell_type": "code",
   "execution_count": 19,
   "metadata": {
    "id": "NXR-ckUyefWv"
   },
   "outputs": [],
   "source": [
    "X1 = dataset_upsampled.drop(['label'], axis=1)\n",
    "y1 = dataset_upsampled['label']"
   ]
  },
  {
   "cell_type": "code",
   "execution_count": 20,
   "metadata": {
    "id": "jIJOIAbzefW6"
   },
   "outputs": [],
   "source": [
    "X1_train, X1_test, y1_train, y1_test = train_test_split(X1, y1, test_size = 0.25, random_state = 10)"
   ]
  },
  {
   "cell_type": "code",
   "execution_count": 21,
   "metadata": {
    "id": "ThBl8f3RefW6"
   },
   "outputs": [],
   "source": [
    "scaler1 = MinMaxScaler()\n",
    "X1_train = scaler1.fit_transform(X1_train)\n",
    "X1_test = scaler1.transform(X1_test)\n",
    "#X1_train = pd.DataFrame(X1_train, columns=[col_names1])\n",
    "#X1_test = pd.DataFrame(X1_test, columns=[col_names1])"
   ]
  },
  {
   "cell_type": "code",
   "execution_count": 22,
   "metadata": {
    "colab": {
     "base_uri": "https://localhost:8080/"
    },
    "id": "yOV2yIoaefW6",
    "outputId": "35b31c53-05d6-459c-adf6-fcb9eef91187"
   },
   "outputs": [
    {
     "name": "stdout",
     "output_type": "stream",
     "text": [
      "Model :  LogisticRegression(C=100, penalty='l1', solver='liblinear')\n",
      "Train set score: 0.9415\n",
      "Test set score: 0.9387\n",
      "Training-set accuracy score: 0.9415\n",
      "Model accuracy score: 0.9387\n"
     ]
    }
   ],
   "source": [
    "logreg1100 = LogisticRegression(C=100, penalty='l1', solver='liblinear')\n",
    "\n",
    "logreg1100.fit(X1_train, y1_train)\n",
    "\n",
    "y_pred_logreg1100_train = logreg1100.predict(X1_train)\n",
    "\n",
    "y_pred_logreg1100_test = logreg1100.predict(X1_test)\n",
    "\n",
    "print('Model : ',logreg1100)\n",
    "\n",
    "print('Train set score: {:.4f}'.format(logreg1100.score(X1_train, y1_train)))\n",
    "\n",
    "print('Test set score: {:.4f}'.format(logreg1100.score(X1_test, y1_test)))\n",
    "\n",
    "print('Training-set accuracy score: {0:0.4f}'. format(accuracy_score(y1_train, y_pred_logreg1100_train)))\n",
    "\n",
    "print('Model accuracy score: {0:0.4f}'. format(accuracy_score(y1_test, y_pred_logreg1100_test)))"
   ]
  },
  {
   "cell_type": "code",
   "execution_count": 23,
   "metadata": {
    "colab": {
     "base_uri": "https://localhost:8080/",
     "height": 664
    },
    "id": "DJH5qHDoefW7",
    "outputId": "a28a8188-da97-4dde-e802-8152891fd76f"
   },
   "outputs": [
    {
     "name": "stdout",
     "output_type": "stream",
     "text": [
      "Confusion matrix\n",
      " [[11913   314]\n",
      " [ 1113 11048]]\n",
      "True Positives(TP) =  11048\n",
      "True Negatives(TN) =  11913\n",
      "False Positives(FP) =  314\n",
      "False Negatives(FN) =  1113\n",
      "              precision    recall  f1-score   support\n",
      "\n",
      "           0       0.91      0.97      0.94     12227\n",
      "           1       0.97      0.91      0.94     12161\n",
      "\n",
      "    accuracy                           0.94     24388\n",
      "   macro avg       0.94      0.94      0.94     24388\n",
      "weighted avg       0.94      0.94      0.94     24388\n",
      "\n",
      "Classification accuracy : 0.9415\n",
      "Classification error : 0.0585\n",
      "Precision : 0.9724\n",
      "Recall or Sensitivity : 0.9085\n",
      "Specificity : 0.9743\n",
      "F-1 score : 0.9393\n"
     ]
    },
    {
     "data": {
      "image/png": "[encoded data removed]",
      "text/plain": [
       "<Figure size 432x288 with 2 Axes>"
      ]
     },
     "metadata": {
      "needs_background": "light"
     },
     "output_type": "display_data"
    }
   ],
   "source": [
    "print_metrics(y1_train,y_pred_logreg1100_train)"
   ]
  },
  {
   "cell_type": "code",
   "execution_count": 24,
   "metadata": {
    "colab": {
     "base_uri": "https://localhost:8080/",
     "height": 667
    },
    "id": "kQJz3AWgefW7",
    "outputId": "6f3205b8-f48a-465e-f48e-a48a77ea6635"
   },
   "outputs": [
    {
     "name": "stdout",
     "output_type": "stream",
     "text": [
      "Confusion matrix\n",
      " [[3938   94]\n",
      " [ 404 3694]]\n",
      "True Positives(TP) =  3694\n",
      "True Negatives(TN) =  3938\n",
      "False Positives(FP) =  94\n",
      "False Negatives(FN) =  404\n",
      "              precision    recall  f1-score   support\n",
      "\n",
      "           0       0.91      0.98      0.94      4032\n",
      "           1       0.98      0.90      0.94      4098\n",
      "\n",
      "    accuracy                           0.94      8130\n",
      "   macro avg       0.94      0.94      0.94      8130\n",
      "weighted avg       0.94      0.94      0.94      8130\n",
      "\n",
      "Classification accuracy : 0.9387\n",
      "Classification error : 0.0613\n",
      "Precision : 0.9752\n",
      "Recall or Sensitivity : 0.9014\n",
      "Specificity : 0.9767\n",
      "F-1 score : 0.9369\n"
     ]
    },
    {
     "data": {
      "image/png": "[encoded data removed]",
      "text/plain": [
       "<Figure size 432x288 with 2 Axes>"
      ]
     },
     "metadata": {
      "needs_background": "light"
     },
     "output_type": "display_data"
    }
   ],
   "source": [
    "print_metrics(y1_test,y_pred_logreg1100_test)"
   ]
  },
  {
   "cell_type": "code",
   "execution_count": 25,
   "metadata": {
    "colab": {
     "base_uri": "https://localhost:8080/"
    },
    "id": "SKLCueGqefW7",
    "outputId": "5c36ae7c-e273-4b75-c05d-da4e1a53711f"
   },
   "outputs": [
    {
     "name": "stdout",
     "output_type": "stream",
     "text": [
      "GridSearch CV best score : 0.9395\n",
      "\n",
      "\n",
      "Parameters that give the best results : \n",
      "\n",
      " {'C': 1, 'penalty': 'l1', 'solver': 'liblinear'}\n",
      "\n",
      "\n",
      "Estimator that was chosen by the search : \n",
      "\n",
      " LogisticRegression(C=1, penalty='l1', solver='liblinear')\n"
     ]
    }
   ],
   "source": [
    "from sklearn.model_selection import RepeatedStratifiedKFold\n",
    "from sklearn.model_selection import GridSearchCV\n",
    "model1 = LogisticRegression()\n",
    "\n",
    "parameters_grid=[{'solver':['lbfgs', 'liblinear','newton-cg'], 'penalty':['l1','l2'], 'C':[100,10,1,0.1,0.01]}]\n",
    "cv1 = RepeatedStratifiedKFold(random_state=42)\n",
    "\n",
    "grid_search1 = GridSearchCV(estimator=model1, param_grid=parameters_grid, n_jobs=-1, cv=cv, scoring='f1',error_score=0)\n",
    "\n",
    "grid_search1.fit(X1_train, y1_train)\n",
    "\n",
    "print('GridSearch CV best score : {:.4f}\\n\\n'.format(grid_search1.best_score_))\n",
    "print('Parameters that give the best results :','\\n\\n', (grid_search1.best_params_))\n",
    "print('\\n\\nEstimator that was chosen by the search :','\\n\\n', (grid_search1.best_estimator_))"
   ]
  },
  {
   "cell_type": "code",
   "execution_count": 26,
   "metadata": {
    "id": "ecWP0FeJefW7"
   },
   "outputs": [],
   "source": [
    "best_model1 = LogisticRegression(C=1, penalty='l1', solver='liblinear')\n",
    "\n",
    "best_model1.fit(X1_train, y1_train)\n",
    "\n",
    "grid_res_train1 = best_model1.predict(X1_train)\n",
    "\n",
    "grid_res_test1 = best_model1.predict(X1_test)"
   ]
  },
  {
   "cell_type": "code",
   "execution_count": 27,
   "metadata": {
    "colab": {
     "base_uri": "https://localhost:8080/",
     "height": 664
    },
    "id": "5M7GwC4befW8",
    "outputId": "06559616-d383-4ba4-db9f-a2a04e1c1e5c"
   },
   "outputs": [
    {
     "name": "stdout",
     "output_type": "stream",
     "text": [
      "Confusion matrix\n",
      " [[11937   290]\n",
      " [ 1139 11022]]\n",
      "True Positives(TP) =  11022\n",
      "True Negatives(TN) =  11937\n",
      "False Positives(FP) =  290\n",
      "False Negatives(FN) =  1139\n",
      "              precision    recall  f1-score   support\n",
      "\n",
      "           0       0.91      0.98      0.94     12227\n",
      "           1       0.97      0.91      0.94     12161\n",
      "\n",
      "    accuracy                           0.94     24388\n",
      "   macro avg       0.94      0.94      0.94     24388\n",
      "weighted avg       0.94      0.94      0.94     24388\n",
      "\n",
      "Classification accuracy : 0.9414\n",
      "Classification error : 0.0586\n",
      "Precision : 0.9744\n",
      "Recall or Sensitivity : 0.9063\n",
      "Specificity : 0.9763\n",
      "F-1 score : 0.9391\n"
     ]
    },
    {
     "data": {
      "image/png": "[encoded data removed]",
      "text/plain": [
       "<Figure size 432x288 with 2 Axes>"
      ]
     },
     "metadata": {
      "needs_background": "light"
     },
     "output_type": "display_data"
    }
   ],
   "source": [
    "print_metrics(y1_train,grid_res_train1)"
   ]
  },
  {
   "cell_type": "code",
   "execution_count": 28,
   "metadata": {
    "colab": {
     "base_uri": "https://localhost:8080/",
     "height": 667
    },
    "id": "QUvvQgTcefW8",
    "outputId": "bd3892ba-a72a-4e12-c5d7-9209585b7573"
   },
   "outputs": [
    {
     "name": "stdout",
     "output_type": "stream",
     "text": [
      "Confusion matrix\n",
      " [[3946   86]\n",
      " [ 413 3685]]\n",
      "True Positives(TP) =  3685\n",
      "True Negatives(TN) =  3946\n",
      "False Positives(FP) =  86\n",
      "False Negatives(FN) =  413\n",
      "              precision    recall  f1-score   support\n",
      "\n",
      "           0       0.91      0.98      0.94      4032\n",
      "           1       0.98      0.90      0.94      4098\n",
      "\n",
      "    accuracy                           0.94      8130\n",
      "   macro avg       0.94      0.94      0.94      8130\n",
      "weighted avg       0.94      0.94      0.94      8130\n",
      "\n",
      "Classification accuracy : 0.9386\n",
      "Classification error : 0.0614\n",
      "Precision : 0.9772\n",
      "Recall or Sensitivity : 0.8992\n",
      "Specificity : 0.9787\n",
      "F-1 score : 0.9366\n"
     ]
    },
    {
     "data": {
      "image/png": "[encoded data removed]",
      "text/plain": [
       "<Figure size 432x288 with 2 Axes>"
      ]
     },
     "metadata": {
      "needs_background": "light"
     },
     "output_type": "display_data"
    }
   ],
   "source": [
    "print_metrics(y1_test,grid_res_test1)"
   ]
  },
  {
   "cell_type": "code",
   "execution_count": null,
   "metadata": {
    "id": "Aq_R5BOobT8E"
   },
   "outputs": [],
   "source": []
  },
  {
   "cell_type": "code",
   "execution_count": null,
   "metadata": {
    "id": "LiNbRu9gbT_h"
   },
   "outputs": [],
   "source": []
  }
 ],
 "metadata": {
  "colab": {
   "collapsed_sections": [],
   "provenance": []
  },
  "kernelspec": {
   "display_name": "Python 3 (ipykernel)",
   "language": "python",
   "name": "python3"
  },
  "language_info": {
   "codemirror_mode": {
    "name": "ipython",
    "version": 3
   },
   "file_extension": ".py",
   "mimetype": "text/x-python",
   "name": "python",
   "nbconvert_exporter": "python",
   "pygments_lexer": "ipython3",
   "version": "3.8.5"
  }
 },
 "nbformat": 4,
 "nbformat_minor": 4
}
