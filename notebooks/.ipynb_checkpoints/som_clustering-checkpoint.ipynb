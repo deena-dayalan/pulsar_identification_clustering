{
 "cells": [
  {
   "cell_type": "markdown",
   "metadata": {
    "colab_type": "text",
    "id": "bope1tfuXuwT"
   },
   "source": [
    "Imports"
   ]
  },
  {
   "cell_type": "code",
   "execution_count": 1,
   "metadata": {
    "colab": {},
    "colab_type": "code",
    "id": "FRqOTzsTI5bV"
   },
   "outputs": [],
   "source": [
    "import numpy as np\n",
    "from sklearn.utils import resample\n",
    "from sklearn.model_selection import train_test_split, KFold\n",
    "from sklearn.preprocessing import StandardScaler\n",
    "from matplotlib import pyplot as plt\n",
    "from matplotlib import style\n",
    "from sklearn.metrics import classification_report, confusion_matrix, brier_score_loss, roc_curve, precision_recall_curve, silhouette_score, calinski_harabasz_score, davies_bouldin_score, recall_score, make_scorer, mean_squared_error\n",
    "from sklearn.calibration import calibration_curve\n",
    "from sklearn.model_selection import RandomizedSearchCV"
   ]
  },
  {
   "cell_type": "markdown",
   "metadata": {
    "colab_type": "text",
    "id": "i1oaLaQXXvx9"
   },
   "source": [
    "Data Loading & Preprocessing"
   ]
  },
  {
   "cell_type": "code",
   "execution_count": 2,
   "metadata": {
    "colab": {},
    "colab_type": "code",
    "id": "o22cNNQSiGP1"
   },
   "outputs": [],
   "source": [
    "pulsar_dataset = '/home/d.dasarathan/ds5500/projects/datasets/HTRU2/HTRU_2.csv'\n",
    "pulsar_data = np.loadtxt(pulsar_dataset, delimiter = ',', skiprows=0) \n",
    "X, y = pulsar_data[:,:-1], pulsar_data[:,-1]"
   ]
  },
  {
   "cell_type": "code",
   "execution_count": 3,
   "metadata": {
    "colab": {},
    "colab_type": "code",
    "id": "gIIRv4yVJF9D"
   },
   "outputs": [],
   "source": [
    "def upsampling(X_train, y_train):\n",
    "    X_minority = np.array([X_train[i] for i in range(len(X_train)) if y_train[i] == 1])\n",
    "    kappa = (1.0 * len(X_minority)) / len(X_train)\n",
    "    print('total training size: ', len(X_train))\n",
    "    print('positive class training size: ', len(X_minority))\n",
    "    repeat = int(1.0 / kappa) - 1\n",
    "    upsampling = resample(X_minority, n_samples=repeat * len(X_minority))\n",
    "    y_minority = np.ones(repeat * len(X_minority))\n",
    "    X_train = np.concatenate((X_train, upsampling))\n",
    "    print('updated positive class training size: ', len(upsampling))\n",
    "    y_train = np.concatenate((y_train, y_minority))\n",
    "\n",
    "def data_prep(X, y, normalize=False, upsample=False, train_val_test=False, train_test=False, k_fold=False, k=None):\n",
    "  if normalize:\n",
    "    scaler = StandardScaler().fit(X, y)\n",
    "    X = scaler.transform(X)\n",
    "  if train_val_test:\n",
    "    X, X_test, y, y_test = train_test_split(X, y, test_size=0.2)\n",
    "    X_train, X_val, y_train, y_val = train_test_split(X, y, test_size=0.2)\n",
    "    if upsample:\n",
    "      upsampling(X_train, y_train)\n",
    "    return X_train, X_val, X_test, y_train, y_val, y_test\n",
    "  if train_test:\n",
    "    X, X_test, y, y_test = train_test_split(X, y, test_size=0.2)\n",
    "    if k_fold:\n",
    "      data_sets = []\n",
    "      kf = KFold(n_splits=k, shuffle=True)\n",
    "      for train_index, val_index in kf.split(X, y):\n",
    "        X_train, X_val = X[train_index], X[val_index]\n",
    "        y_train, y_val = y[train_index], y[val_index]\n",
    "        if upsample: \n",
    "          upsampling(X_train, y_train)\n",
    "        data_sets.append((X_train, X_val, y_train, y_val))\n",
    "      if upsample:\n",
    "        upsampling(X, y)\n",
    "      return data_sets, X, X_test, y, y_test\n",
    "    else:\n",
    "      if upsample: \n",
    "        upsampling(X, y)\n",
    "      return X, X_test, y, y_test\n",
    "  if k_fold:\n",
    "    data_sets = []\n",
    "    kf = KFold(n_splits=k, shuffle=True)\n",
    "    for train_index, test_index in kf.split(X, y):\n",
    "      X_train, X_test = X[train_index], X[test_index]\n",
    "      y_train, y_test = y[train_index], y[test_index]\n",
    "      if upsample: \n",
    "        upsampling(X_train, y_train)\n",
    "      data_sets.append((X_train, X_test, y_train, y_test))\n",
    "    return data_sets, X, y\n",
    "  return X, y"
   ]
  },
  {
   "cell_type": "markdown",
   "metadata": {
    "colab_type": "text",
    "id": "N-eGt7BS3T59"
   },
   "source": [
    "Display & Plot Evaluation Metrics (Classification)"
   ]
  },
  {
   "cell_type": "code",
   "execution_count": 4,
   "metadata": {
    "colab": {},
    "colab_type": "code",
    "id": "XQNdk1593UBj"
   },
   "outputs": [],
   "source": [
    "def eval_clf(clf_pred, clf_pred_prob, y_val, clf_score, alternative_treshold=None, plot=False):\n",
    "  print(\"score: \", clf_score)\n",
    "  print(classification_report(y_val, clf_pred))\n",
    "  print(\"confusion matrix:\")\n",
    "  print(confusion_matrix(y_val, clf_pred))\n",
    "  print(\"brier score loss: \", brier_score_loss(y_val, clf_pred_prob[:,1]))\n",
    "\n",
    "  if plot:\n",
    "    clf_fpr, clf_tpr, clf_thresholds = roc_curve(y_val, clf_pred_prob[:,1])\n",
    "    plt.plot(clf_fpr, clf_tpr, marker='.')\n",
    "    plt.title('ROC Curve')\n",
    "    plt.xlabel('1 - Specifity (FPR)')\n",
    "    plt.ylabel('Sensitivity (TPR)')\n",
    "    plt.show()\n",
    "    plt.plot(clf_thresholds, clf_tpr, marker='.', label='Sensitivity (TPR)')\n",
    "    plt.plot(clf_thresholds, clf_fpr, marker='.', label='1 - Specifity (FPR)')\n",
    "    plt.plot(clf_thresholds, clf_tpr - clf_fpr, marker='.', label='Difference (TPR - FPR)')\n",
    "    plt.xlim([0.0, 1.0])\n",
    "    plt.title('Sensitivity / 1 - Specifity / Difference vs. Threshold')\n",
    "    plt.xlabel('Threshold')\n",
    "    plt.ylabel('Sensitivity / 1 - Specifity / Difference')\n",
    "    plt.legend()\n",
    "    plt.show()\n",
    "\n",
    "    clf_precision, clf_recall, clf_thresholds = precision_recall_curve(y_val, clf_pred_prob[:,1])\n",
    "    plt.plot(clf_recall, clf_precision, marker='.')\n",
    "    plt.title('PRC Curve')\n",
    "    plt.xlabel('Recall (TPR)')\n",
    "    plt.ylabel('Precision (PPV)')\n",
    "    plt.show()\n",
    "\n",
    "    clf_frac_pos, clf_prob_pos = calibration_curve(y_val, clf_pred_prob[:,1], n_bins=10, strategy='uniform')\n",
    "    plt.plot(clf_prob_pos, clf_frac_pos, marker='.')\n",
    "    plt.title('Calibration')\n",
    "    plt.xlabel('Probability')\n",
    "    plt.ylabel('Fraction of Positives')\n",
    "    plt.show()\n",
    "\n",
    "  if alternative_treshold:\n",
    "    print(\"Threshold = \", alternative_treshold, \":\")\n",
    "    clf_new_pred = [1 * (clf_pred_sample_prob[1] > alternative_treshold) for clf_pred_sample_prob in clf_pred_prob]\n",
    "    print(classification_report(y_val, clf_new_pred))\n",
    "    print(\"confusion matrix:\")\n",
    "    print(confusion_matrix(y_val, clf_new_pred))"
   ]
  },
  {
   "cell_type": "markdown",
   "metadata": {
    "colab_type": "text",
    "id": "Mpmkcp8m-ZxO"
   },
   "source": [
    "#### Self-Organizing Map"
   ]
  },
  {
   "cell_type": "code",
   "execution_count": 7,
   "metadata": {
    "colab": {},
    "colab_type": "code",
    "id": "mPftyMgVB1xq"
   },
   "outputs": [
    {
     "name": "stderr",
     "output_type": "stream",
     "text": [
      "2022-11-07 12:32:35.728624: I tensorflow/core/platform/cpu_feature_guard.cc:193] This TensorFlow binary is optimized with oneAPI Deep Neural Network Library (oneDNN) to use the following CPU instructions in performance-critical operations:  AVX2 FMA\n",
      "To enable them in other operations, rebuild TensorFlow with the appropriate compiler flags.\n",
      "2022-11-07 12:32:35.897198: W tensorflow/stream_executor/platform/default/dso_loader.cc:64] Could not load dynamic library 'libcudart.so.11.0'; dlerror: libcudart.so.11.0: cannot open shared object file: No such file or directory; LD_LIBRARY_PATH: /shared/centos7/anaconda3/2021.05/lib:/shared/centos7/nodejs/14.15.4/lib\n",
      "2022-11-07 12:32:35.897231: I tensorflow/stream_executor/cuda/cudart_stub.cc:29] Ignore above cudart dlerror if you do not have a GPU set up on your machine.\n",
      "2022-11-07 12:32:35.928453: E tensorflow/stream_executor/cuda/cuda_blas.cc:2981] Unable to register cuBLAS factory: Attempting to register factory for plugin cuBLAS when one has already been registered\n",
      "2022-11-07 12:32:36.924747: W tensorflow/stream_executor/platform/default/dso_loader.cc:64] Could not load dynamic library 'libnvinfer.so.7'; dlerror: libnvinfer.so.7: cannot open shared object file: No such file or directory; LD_LIBRARY_PATH: /shared/centos7/anaconda3/2021.05/lib:/shared/centos7/nodejs/14.15.4/lib\n",
      "2022-11-07 12:32:36.924831: W tensorflow/stream_executor/platform/default/dso_loader.cc:64] Could not load dynamic library 'libnvinfer_plugin.so.7'; dlerror: libnvinfer_plugin.so.7: cannot open shared object file: No such file or directory; LD_LIBRARY_PATH: /shared/centos7/anaconda3/2021.05/lib:/shared/centos7/nodejs/14.15.4/lib\n",
      "2022-11-07 12:32:36.924839: W tensorflow/compiler/tf2tensorrt/utils/py_utils.cc:38] TF-TRT Warning: Cannot dlopen some TensorRT libraries. If you would like to use Nvidia GPU with TensorRT, please make sure the missing libraries mentioned above are installed properly.\n"
     ]
    }
   ],
   "source": [
    "import tensorflow as tf\n",
    "class SOM(object):\n",
    "  def __init__(self, map_dim_x, map_dim_y, input_dim, learning_rate_init, radius_init, num_iter=100):\n",
    "\n",
    "    # Initialize properties\n",
    "    self.map_dim_x = map_dim_x\n",
    "    self.map_dim_y = map_dim_y\n",
    "    self.input_dim = input_dim\n",
    "    self.learning_rate_init = tf.cast(learning_rate_init, tf.float64)\n",
    "    self.radius_init = tf.cast(radius_init, tf.float64)\n",
    "    self.num_iter = num_iter\n",
    "\n",
    "    # Initialize variables and constants:\n",
    "    self.weights = tf.Variable(tf.cast(tf.random.normal([map_dim_x, map_dim_y, input_dim]), dtype=tf.float64)) # weights[i, j, k] is weight of output node [i,j] connected to input node k\n",
    "    self.coords = tf.constant(np.array([np.array([np.array([i, j]) for j in range(self.map_dim_y)]) for i in range(self.map_dim_x)]))\n",
    "\n",
    "  @tf.function\n",
    "  def train_step(self, input_vect, iter_no):\n",
    "    input_tensor = tf.stack([tf.stack([input_vect for j in range(self.map_dim_y)]) for i in range(self.map_dim_x)])\n",
    "\n",
    "    # Calculate BMU\n",
    "    distances_weights_to_input = self.distance_3d(self.weights, input_tensor)\n",
    "    bmu = self.argmin_2d(distances_weights_to_input) # returns coord of output node [i, j]\n",
    "\n",
    "    # Update Learning Rate and Radius for Output Nodes\n",
    "    decay = tf.exp(tf.negative(tf.divide(iter_no, self.num_iter)))\n",
    "    \n",
    "    learning_rate = tf.cast(tf.multiply(self.learning_rate_init, decay), dtype=tf.float64)\n",
    "    radius =  tf.cast(tf.multiply(self.radius_init, decay), dtype=tf.float64)\n",
    "\n",
    "    bmu_tensor = tf.stack([tf.stack([bmu for j in range(self.map_dim_y)]) for i in range(self.map_dim_x)])\n",
    "    distances_output_nodes_to_bmu = self.distance_3d(self.coords, bmu_tensor)\n",
    "    neighborhood_influence = tf.exp(tf.negative(tf.pow(tf.divide(distances_output_nodes_to_bmu, tf.multiply(radius, 2.0)), 2.0)))\n",
    "\n",
    "    # Update Weights\n",
    "    update_coeff_tensor = tf.tile(tf.reshape(tf.multiply(learning_rate, neighborhood_influence), [self.map_dim_x, self.map_dim_y, 1]), [1, 1, self.input_dim])\n",
    "    update = tf.multiply(update_coeff_tensor, tf.subtract(input_tensor, self.weights))\n",
    "    new_weights = tf.add(self.weights, update)\n",
    "    self.weights.assign(new_weights)\n",
    "  \n",
    "  def train(self, train_data):\n",
    "    for iter_no in range(self.num_iter):\n",
    "      for input_vect in train_data:\n",
    "        self.train_step(input_vect, iter_no)\n",
    "    self.centroids = self.weights\n",
    "\n",
    "  def predict(self, train_data):\n",
    "    mappings_input_to_output = []\n",
    "    for input_vect in train_data:\n",
    "      input_tensor = tf.stack([tf.stack([input_vect for j in range(self.map_dim_y)]) for i in range(self.map_dim_x)])\n",
    "      output_node = np.array(self.argmin_2d(self.distance_3d(self.weights, input_tensor)))\n",
    "      mappings_input_to_output.append(output_node)\n",
    "    return mappings_input_to_output\n",
    "\n",
    "  def get_centroid(self, i, j):\n",
    "    return list(self.centroids[i][j])\n",
    "  \n",
    "  def distance_3d(self, tensor1, tensor2):\n",
    "    return tf.sqrt(tf.reduce_sum(tf.pow(tf.subtract(tf.cast(tensor1, dtype=tf.float64), tf.cast(tensor2, dtype=tf.float64)), 2), 2))\n",
    "    \n",
    "  def argmin_2d(self, tensor):\n",
    "    flat_tensor = tf.reshape(tensor, [self.map_dim_x * self.map_dim_y])\n",
    "    argmin_flat_tensor = tf.argmin(flat_tensor, 0)\n",
    "    argmin_x = argmin_flat_tensor // self.map_dim_x\n",
    "    argmin_y = argmin_flat_tensor % self.map_dim_x\n",
    "    return [argmin_x, argmin_y]"
   ]
  },
  {
   "cell_type": "markdown",
   "metadata": {
    "colab_type": "text",
    "id": "AxrgjlpPTpFJ"
   },
   "source": [
    "Self-Organizing Map"
   ]
  },
  {
   "cell_type": "code",
   "execution_count": 8,
   "metadata": {
    "colab": {},
    "colab_type": "code",
    "id": "eSSjdvzXFsV7"
   },
   "outputs": [],
   "source": [
    "def som(unsup_data, output_dim_x, output_dim_y, num_iter):\n",
    "  som = SOM(output_dim_x, output_dim_y, len(unsup_data[0]), 0.1, 0.1, num_iter)\n",
    "  som.train(unsup_data)\n",
    "  som_pred = som.predict(unsup_data)\n",
    "  som_output_nodes = [[[] for _ in range(output_dim_y)] for _ in range(output_dim_x)]\n",
    "  for i in range(len(som_pred)):\n",
    "    x, y = som_pred[i]\n",
    "    som_output_nodes[x][y].append(unsup_data[i])\n",
    "  som_centroids = [[0 for _ in range(output_dim_y)] for _ in range(output_dim_x)]\n",
    "  for i in range(output_dim_x):\n",
    "    for j in range(output_dim_y):\n",
    "      som_centroids[i][j] = []\n",
    "      for component in som.get_centroid(i,j):\n",
    "        som_centroids[i][j].append(float(component))\n",
    "  return som_pred, som_output_nodes, som_centroids"
   ]
  },
  {
   "cell_type": "markdown",
   "metadata": {
    "colab_type": "text",
    "id": "7-hB-zaiQxiF"
   },
   "source": [
    "Principal Component Analysis"
   ]
  },
  {
   "cell_type": "code",
   "execution_count": 10,
   "metadata": {
    "colab": {},
    "colab_type": "code",
    "id": "KliME8LYQxpo"
   },
   "outputs": [],
   "source": [
    "from sklearn.decomposition import PCA\n",
    "def pca(unsup_data, n_components):\n",
    "  dcmp = PCA(n_components)\n",
    "  pca_transformed_data = dcmp.fit_transform(unsup_data)\n",
    "  return dcmp.components_, pca_transformed_data, dcmp.explained_variance_, dcmp"
   ]
  },
  {
   "cell_type": "markdown",
   "metadata": {
    "colab_type": "text",
    "id": "9fT8zLHVdZO-"
   },
   "source": [
    "Display Evaluation Metrics (Clustering)"
   ]
  },
  {
   "cell_type": "code",
   "execution_count": 11,
   "metadata": {
    "colab": {},
    "colab_type": "code",
    "id": "T2d1_CU6dZWn"
   },
   "outputs": [],
   "source": [
    "def flatten_label(label, dim):\n",
    "  x, y = label\n",
    "  return x * dim + y\n",
    "\n",
    "def eval_clr(unsup_data, clr_labels, flatten=False, flatten_dim=None):\n",
    "  if flatten:\n",
    "    clr_labels = [flatten_label(label, flatten_dim) for label in clr_labels]\n",
    "  print(\"Silhouette Coefficient: \", silhouette_score(unsup_data, clr_labels))\n",
    "  #print(\"Calinski-Harabasz Score (Variance Ratio Criterion): \", calinski_harabasz_score(unsup_data, clr_labels))\n",
    "  #print(\"Davies-Bouldin Score: \", davies_bouldin_score(unsup_data, clr_labels))"
   ]
  },
  {
   "cell_type": "markdown",
   "metadata": {
    "colab_type": "text",
    "id": "bg8tm20TWy_3"
   },
   "source": [
    "Main"
   ]
  },
  {
   "cell_type": "code",
   "execution_count": 12,
   "metadata": {
    "colab": {
     "base_uri": "https://localhost:8080/",
     "height": 1000
    },
    "colab_type": "code",
    "id": "yWHG93WBW3NO",
    "outputId": "389d5830-f950-4db6-e368-88723424a822"
   },
   "outputs": [
    {
     "name": "stdout",
     "output_type": "stream",
     "text": [
      "PCA:\n",
      "Principal Components:\n",
      "[[ 3.17487600e-01  3.26698539e-02 -1.85687435e-02 -1.19440577e-01\n",
      "  -5.76526783e-01 -2.57636797e-01  4.86816450e-02  6.94545680e-01]\n",
      " [-2.42856526e-01 -2.07159457e-05  1.39114773e-02  9.58982101e-02\n",
      "   6.62986566e-01  5.77548704e-02  8.25316427e-03  6.99053492e-01]]\n",
      "Explained Variance:\n",
      "[3788.37666039 1550.22704621]\n",
      "PCA Transformed Data:\n",
      "[[ 1.65836514e+01 -3.59209476e+01]\n",
      " [ 1.97199266e+02  8.45285651e+01]\n",
      " [-3.88154561e+01  1.31302864e+01]\n",
      " ...\n",
      " [ 1.11823319e-01 -2.44553478e+01]\n",
      " [-8.62630024e+01  5.90716511e+01]\n",
      " [-6.20336817e+01  4.03953291e+01]]\n"
     ]
    },
    {
     "data": {
      "image/png": "[encoded data removed]",
      "text/plain": [
       "<Figure size 432x288 with 1 Axes>"
      ]
     },
     "metadata": {
      "needs_background": "light"
     },
     "output_type": "display_data"
    },
    {
     "data": {
      "image/png": "[encoded data removed]",
      "text/plain": [
       "<Figure size 432x288 with 1 Axes>"
      ]
     },
     "metadata": {
      "needs_background": "light"
     },
     "output_type": "display_data"
    },
    {
     "name": "stdout",
     "output_type": "stream",
     "text": [
      "SOM:\n"
     ]
    },
    {
     "name": "stderr",
     "output_type": "stream",
     "text": [
      "2022-11-07 12:32:39.511340: W tensorflow/stream_executor/platform/default/dso_loader.cc:64] Could not load dynamic library 'libcuda.so.1'; dlerror: libcuda.so.1: cannot open shared object file: No such file or directory; LD_LIBRARY_PATH: /shared/centos7/anaconda3/2021.05/lib:/shared/centos7/nodejs/14.15.4/lib\n",
      "2022-11-07 12:32:39.511375: W tensorflow/stream_executor/cuda/cuda_driver.cc:263] failed call to cuInit: UNKNOWN ERROR (303)\n",
      "2022-11-07 12:32:39.511403: I tensorflow/stream_executor/cuda/cuda_diagnostics.cc:156] kernel driver does not appear to be running on this host (d0133): /proc/driver/nvidia/version does not exist\n",
      "2022-11-07 12:32:39.511731: I tensorflow/core/platform/cpu_feature_guard.cc:193] This TensorFlow binary is optimized with oneAPI Deep Neural Network Library (oneDNN) to use the following CPU instructions in performance-critical operations:  AVX2 FMA\n",
      "To enable them in other operations, rebuild TensorFlow with the appropriate compiler flags.\n"
     ]
    },
    {
     "name": "stdout",
     "output_type": "stream",
     "text": [
      "[[[-0.4958551824092865, 0.16902229189872742, -1.5688461065292358, -0.5633049011230469, -0.2423442304134369, 0.3381848633289337, -0.5434117317199707, -0.7211771011352539], [0.6403470773186953, 0.6460860525476813, -0.5585410537408421, 0.5104164678573601, 0.019234935972342614, 0.5349204880796469, 1.4461643738604057, -0.8284616109176679], [69.48559898789411, 39.41414461761598, 2.388300031430723, 10.816584226341904, 28.744068374894262, 57.6529676657327, 2.8902856681550624, 11.714400546503768], [-1.2302464072602863, -0.6916617571221203, 0.4247738161351027, -0.9684458148809484, -0.9298498805453576, -0.9807858693130986, 0.3931907478638983, -0.016228160743197773], [1.2160557508468628, 0.5854719877243042, 0.6356355547904968, 1.50971257686615, -0.2913898229598999, -0.6243748068809509, 1.0536962747573853, -2.479635238647461]], [[0.9561941623687744, -1.4923648834228516, 0.16691406071186066, -1.8918782472610474, -1.0797969102859497, 0.6547282934188843, -0.4371328353881836, -0.9775266051292419], [0.05713914334774017, -0.05982622504234314, -1.3642979860305786, 0.7354637980461121, -0.9360343217849731, 1.1744146347045898, -1.4198071956634521, -0.33110329508781433], [-1.1509359902392124, 0.5775279557953172, -0.6131216229019831, -1.253144837097303, -0.06589949558189344, -1.5586124873377931, -1.5082939762981513, -0.4385525826688826], [-0.23085510730743408, 0.709138810634613, 0.015551858581602573, 1.4707326889038086, 0.7334554195404053, -1.976176381111145, -0.23181024193763733, 0.16890577971935272], [-0.14298395812511444, -0.4421049654483795, 0.8264641165733337, 1.2579479217529297, -0.9188550114631653, 0.39237964153289795, -0.01669624075293541, 0.3447912931442261]], [[0.5085926651954651, -0.0449792705476284, 1.0518922805786133, 1.3554284572601318, 0.2045162469148636, 0.32431110739707947, -1.0135784149169922, 0.04329141974449158], [-0.471201092004776, 0.21526046097278595, 0.0872114896774292, 0.22525428235530853, -1.5923079252243042, 2.0268285274505615, 0.2121703028678894, -0.5544413924217224], [-0.6280068159103394, -1.5006492137908936, -1.3710955381393433, -0.6816992163658142, 0.6294187903404236, 0.4197334349155426, -0.5228560566902161, -1.078240156173706], [0.45309877395629883, 0.38053083419799805, -0.21776802837848663, 0.14323504269123077, -0.5500044822692871, -0.799313485622406, -1.4362629652023315, 0.697641909122467], [1.5580427646636963, -0.8201970458030701, -0.4669933021068573, -1.9129818677902222, -1.2301243543624878, -1.060770034790039, 1.6058704853057861, -0.767458438873291]], [[0.6752407901282195, 0.6055159621024424, -0.035485091364083426, 1.394159376246533, -0.5290100608757137, -0.25203487042805195, 1.5612379317667124, 0.17596545726868465], [0.36479854583740234, 0.30016836524009705, 0.46116337180137634, -1.6145377159118652, 1.4648339748382568, 0.25163736939430237, 0.11934631317853928, -1.188127040863037], [-0.33918098264382907, 0.06956226054926949, -2.934601782516268, 1.9204151640551808, -1.6403546304893282, -0.4219646075708656, -0.8010667535422097, 0.29873356764468456], [0.4564206898212433, 0.5822747945785522, 0.8017218112945557, -1.5611402988433838, -1.5829355716705322, -0.13417738676071167, -1.5799715518951416, -0.4294220507144928], [-1.5492403507232666, -1.3779385089874268, 0.2543058395385742, -1.0782580375671387, -0.04475998133420944, -0.7277304530143738, -1.2746344804763794, 0.13212978839874268]], [[50.29278346083289, 39.7629349818391, 3.641166329322785, 19.377902760729494, 113.5564698131563, 82.14822849694, 0.05249681290362578, -0.9490269424493482], [-0.6265200941050122, 0.07853294537125352, -0.18587599851050277, -1.0114216114161112, -1.461962220592033, -2.66545153746425, 0.9965246961796982, 0.5761366517785553], [93.15936817409991, 45.0762945109137, 1.0541462411418019, 2.8560929475222667, 1.3311623166164819, 12.704269057049403, 14.798544307102125, 270.6842242431192], [1.0004203548957755, 0.37755559052561494, 0.4375617805188707, -0.6896067840381456, 1.157266380471789, -0.6555307426744151, 1.3111907264955707, -0.4142175856751203], [-0.8692300319671631, -0.47963428497314453, -0.8770880103111267, 0.10078899562358856, 1.6130064725875854, 0.34861087799072266, 0.9332787394523621, -2.4908792972564697]]]\n",
      "(5, 5, 8)\n",
      "CLUSTER\n",
      "Centroid:\n",
      "[69.48559898789411, 39.41414461761598, 2.388300031430723, 10.816584226341904, 28.744068374894262, 57.6529676657327, 2.8902856681550624, 11.714400546503768]\n",
      "Count:\n",
      "1079\n",
      "CLUSTER\n",
      "Centroid:\n",
      "[50.29278346083289, 39.7629349818391, 3.641166329322785, 19.377902760729494, 113.5564698131563, 82.14822849694, 0.05249681290362578, -0.9490269424493482]\n",
      "Count:\n",
      "517\n",
      "CLUSTER\n",
      "Centroid:\n",
      "[93.15936817409991, 45.0762945109137, 1.0541462411418019, 2.8560929475222667, 1.3311623166164819, 12.704269057049403, 14.798544307102125, 270.6842242431192]\n",
      "Count:\n",
      "43\n"
     ]
    },
    {
     "data": {
      "image/png": "[encoded data removed]",
      "text/plain": [
       "<Figure size 432x288 with 1 Axes>"
      ]
     },
     "metadata": {
      "needs_background": "light"
     },
     "output_type": "display_data"
    },
    {
     "name": "stdout",
     "output_type": "stream",
     "text": [
      "Silhouette Coefficient:  0.4418700300386931\n",
      "Calinski-Harabasz Score (Variance Ratio Criterion):  1158.3620107261577\n",
      "Davies-Bouldin Score:  0.754367839100775\n"
     ]
    }
   ],
   "source": [
    "X, y = pulsar_data[:,:-1], pulsar_data[:,-1]\n",
    "X, y = data_prep(X, y)\n",
    "unsup_data = np.array([X[i] for i in range(len(X)) if y[i] == 1])\n",
    "\n",
    "#print(\"PCA:\")\n",
    "pca_principal_components, pca_transformed_data, pca_explained_variance, pca_trained = pca(unsup_data, 2)\n",
    "#print(\"Principal Components:\")\n",
    "#print(pca_principal_components)\n",
    "#print(\"Explained Variance:\")\n",
    "#print(pca_explained_variance)\n",
    "#print(\"PCA Transformed Data:\")\n",
    "#print(pca_transformed_data)\n",
    "#plt.scatter(pca_transformed_data[:,0], pca_transformed_data[:,1], marker='.')\n",
    "#plt.title('Data with Reduced Dimensionality')\n",
    "#plt.xlabel('Principal Component 1')\n",
    "#plt.ylabel('Principal Component 2')\n",
    "#plt.show()\n",
    "\n",
    "#print histograms:\n",
    "#comp_one = pca_principal_components[0]/(np.sum(np.absolute(pca_principal_components[0])))\n",
    "#comp_two = pca_principal_components[1]/(np.sum(np.absolute(pca_principal_components[1])))\n",
    "#fig, ax = plt.subplots()\n",
    "#n_groups = 8\n",
    "#index = np.arange(n_groups)\n",
    "#plt.xlabel('Feature')\n",
    "#plt.ylabel('Correlation (Magnitude, Normalized)')\n",
    "#plt.title('Correlation Between Features and Principal Components')\n",
    "#index = np.arange(n_groups)\n",
    "#bar_width = 0.35\n",
    "#opacity = 0.8\n",
    "#rects1 = plt.bar(index, comp_one, bar_width,alpha=opacity,color='b',label='Component 1')\n",
    "\n",
    "#rects2 = plt.bar(index + bar_width, comp_two, bar_width,alpha=opacity,color='g',label='Component 2')\n",
    "#features = [\"Mean IP\", \"Standard Deviation IP\", \"Excess Curtosis IP\", \"Skewness IP\", \"Mean SNR\", \"Standard Deviation SNR\", \"Excess Curtosis SNR\", \"Skewness SNR\"]\n",
    "#plt.xticks(index + bar_width, features, rotation='vertical')\n",
    "#plt.tight_layout()\n",
    "#plt.legend()\n",
    "#plt.show()\n",
    "\n",
    "\n",
    "print(\"SOM Results:\")\n",
    "som_pred, som_clusters, som_centroids = som(unsup_data, 5, 5, 100)\n",
    "print(som_centroids)\n",
    "print(np.shape(np.array(som_centroids)))\n",
    "for i in range(len(som_clusters)):\n",
    "  for j in range(len(som_clusters[0])):\n",
    "    if len(som_clusters[i][j]) != 0:\n",
    "      print(\"CLUSTER\")\n",
    "      print(\"Centroid:\")\n",
    "      print(som_centroids[i][j])\n",
    "      print(\"Count:\")\n",
    "      print(len(som_clusters[i][j]))\n",
    "      pca_transformed_cluster = pca_trained.transform(som_clusters[i][j])\n",
    "      plt.scatter(pca_transformed_cluster[:,0], pca_transformed_cluster[:,1], marker='.')\n",
    "plt.title('SOM Clusters (with Reduced Dimensionality for Visualization)')\n",
    "plt.xlabel('Principal Component 1')\n",
    "plt.ylabel('Principal Component 2')\n",
    "plt.show()\n",
    "eval_clr(unsup_data, som_pred, flatten=True, flatten_dim=5)"
   ]
  },
  {
   "cell_type": "code",
   "execution_count": null,
   "metadata": {
    "colab": {},
    "colab_type": "code",
    "id": "KEkHjh_eeRqC"
   },
   "outputs": [],
   "source": []
  },
  {
   "cell_type": "code",
   "execution_count": null,
   "metadata": {
    "colab": {},
    "colab_type": "code",
    "id": "GCm-7xRHLc_s"
   },
   "outputs": [],
   "source": []
  }
 ],
 "metadata": {
  "colab": {
   "collapsed_sections": [],
   "name": "CS 229 - Project.ipynb",
   "provenance": []
  },
  "kernelspec": {
   "display_name": "Python 3 (ipykernel)",
   "language": "python",
   "name": "python3"
  },
  "language_info": {
   "codemirror_mode": {
    "name": "ipython",
    "version": 3
   },
   "file_extension": ".py",
   "mimetype": "text/x-python",
   "name": "python",
   "nbconvert_exporter": "python",
   "pygments_lexer": "ipython3",
   "version": "3.8.5"
  }
 },
 "nbformat": 4,
 "nbformat_minor": 4
}
