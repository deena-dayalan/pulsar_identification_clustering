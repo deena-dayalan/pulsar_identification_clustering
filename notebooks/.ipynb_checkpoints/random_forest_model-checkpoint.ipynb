{
 "cells": [
  {
   "cell_type": "code",
   "execution_count": null,
   "id": "2735221a-5e1d-4e8a-8bd9-91c9fd89ee90",
   "metadata": {},
   "outputs": [],
   "source": [
    "import numpy as np\n",
    "import pandas as pd\n",
    "import warnings\n",
    "warnings.filterwarnings('ignore')\n",
    "import seaborn as sns\n",
    "import matplotlib.pyplot as plt\n",
    "from sklearn.model_selection import train_test_split\n",
    "from sklearn.preprocessing import MinMaxScaler\n",
    "from sklearn.linear_model import LogisticRegression\n",
    "from sklearn.metrics import accuracy_score\n",
    "from sklearn.metrics import confusion_matrix\n",
    "from sklearn.metrics import classification_report\n",
    "from sklearn.metrics import precision_score\n",
    "from sklearn.metrics import recall_score\n",
    "from sklearn.ensemble import RandomForestClassifier\n",
    "from sklearn.svm import SVC"
   ]
  },
  {
   "cell_type": "code",
   "execution_count": null,
   "id": "99765dc8-dc0c-420b-ab7d-400890e396b9",
   "metadata": {},
   "outputs": [],
   "source": [
    "## dataset file\n",
    "pulsar_dataset = '/home/d.dasarathan/ds5500/projects/datasets/HTRU2/HTRU_2.csv'"
   ]
  },
  {
   "cell_type": "code",
   "execution_count": null,
   "id": "1aa1bd26-0b49-4ef2-8df0-5c3bcf162f55",
   "metadata": {},
   "outputs": [],
   "source": [
    "## read dataset\n",
    "df_main = pd.read_csv(pulsar_dataset, header=None)"
   ]
  },
  {
   "cell_type": "code",
   "execution_count": null,
   "id": "f030a074-c14d-43d2-a6f0-69285620d7e6",
   "metadata": {},
   "outputs": [],
   "source": [
    "## display sample dataset\n",
    "df_main.head()"
   ]
  },
  {
   "cell_type": "code",
   "execution_count": null,
   "id": "455ba592-1e9f-4577-bcde-ed6d22bf49ad",
   "metadata": {},
   "outputs": [],
   "source": [
    "## add column names to dataset\n",
    "col_names = ['mean_int_pf', 'std_pf', 'ex_kurt_pf', 'skew_pf', 'mean_dm', 'std_dm', 'kurt_dm', 'skew_dm','label']\n",
    "df_main.columns = col_names\n",
    "df_main.head()"
   ]
  },
  {
   "cell_type": "code",
   "execution_count": null,
   "id": "1c1a3206-222e-448b-a2a9-a8fd2b969ea4",
   "metadata": {},
   "outputs": [],
   "source": [
    "df_main.label.value_counts()"
   ]
  },
  {
   "cell_type": "code",
   "execution_count": null,
   "id": "1586e91e-9bfc-423f-b936-224e714f60cd",
   "metadata": {},
   "outputs": [],
   "source": [
    "df_main['label'].value_counts()/np.float(len(df_main)) * 100"
   ]
  },
  {
   "cell_type": "code",
   "execution_count": null,
   "id": "bb48b5a7-b7ae-4117-951e-001b8bb7073f",
   "metadata": {},
   "outputs": [],
   "source": [
    "#X = df_main[['mean_int_pf', 'std_pf', 'ex_kurt_pf', 'skew_pf', 'mean_dm', 'std_dm', 'kurt_dm', 'skew_dm']]\n",
    "X = df_main.drop(['label'], axis=1)\n",
    "y = df_main['label']"
   ]
  },
  {
   "cell_type": "code",
   "execution_count": null,
   "id": "f2b739de-531a-4e28-aae4-145395070aee",
   "metadata": {},
   "outputs": [],
   "source": [
    "X.head()"
   ]
  },
  {
   "cell_type": "code",
   "execution_count": null,
   "id": "0a824a6b-13fa-468e-8c1b-cc8c6b4facfa",
   "metadata": {},
   "outputs": [],
   "source": [
    "y.head()"
   ]
  },
  {
   "cell_type": "code",
   "execution_count": null,
   "id": "b7e5ac0e-e43d-43c6-9ed7-835ab9520bf3",
   "metadata": {},
   "outputs": [],
   "source": [
    "## split X and y into train and test sets\n",
    "## 80%-20% split \n",
    "X_train, X_test, y_train, y_test = train_test_split(X, y, test_size = 0.2, random_state = 42)"
   ]
  },
  {
   "cell_type": "code",
   "execution_count": null,
   "id": "cb57fec0-6edb-4420-91d0-11aa186e54ae",
   "metadata": {},
   "outputs": [],
   "source": [
    "col_names = X_train.columns"
   ]
  },
  {
   "cell_type": "markdown",
   "id": "db5e17d3-1988-4e7b-8737-e137e355216a",
   "metadata": {},
   "source": [
    "----------------------------------------------------------------------------------------------------"
   ]
  },
  {
   "cell_type": "markdown",
   "id": "9a1d37fc-f5d1-4d5c-9379-f9a56e49fbd4",
   "metadata": {},
   "source": [
    "#### Scaling Features"
   ]
  },
  {
   "cell_type": "code",
   "execution_count": null,
   "id": "5ad51f93-b22f-4058-820f-41ac5b3cec35",
   "metadata": {},
   "outputs": [],
   "source": [
    "scaler = MinMaxScaler()"
   ]
  },
  {
   "cell_type": "code",
   "execution_count": null,
   "id": "559eb00a-b34c-4fac-9615-c27a74e36ebd",
   "metadata": {},
   "outputs": [],
   "source": [
    "X_train = scaler.fit_transform(X_train)"
   ]
  },
  {
   "cell_type": "code",
   "execution_count": null,
   "id": "f4b68021-2eff-4b07-882a-b0c80f72d133",
   "metadata": {},
   "outputs": [],
   "source": [
    "X_test = scaler.transform(X_test)"
   ]
  },
  {
   "cell_type": "code",
   "execution_count": null,
   "id": "a86784e0-596c-4a95-bb5c-e98728247318",
   "metadata": {},
   "outputs": [],
   "source": [
    "X_train = pd.DataFrame(X_train, columns=[col_names])"
   ]
  },
  {
   "cell_type": "code",
   "execution_count": null,
   "id": "caa32f0e-243c-4af0-9d91-36f056bab28f",
   "metadata": {},
   "outputs": [],
   "source": [
    "X_test = pd.DataFrame(X_test, columns=[col_names])"
   ]
  },
  {
   "cell_type": "markdown",
   "id": "26e2bbc0-a97a-4a0f-8b8c-0db1d30f9af2",
   "metadata": {},
   "source": [
    "------------------------------------------------------------------------------------"
   ]
  },
  {
   "cell_type": "markdown",
   "id": "58989623-0c27-4358-b1ce-d1acc5dab0b5",
   "metadata": {},
   "source": [
    "#### Random Forest Classifier"
   ]
  },
  {
   "cell_type": "code",
   "execution_count": null,
   "id": "461be01b-1509-4352-bbda-e82fe8e152d0",
   "metadata": {},
   "outputs": [],
   "source": [
    "rfc = RandomForestClassifier(n_estimators = 100)"
   ]
  },
  {
   "cell_type": "code",
   "execution_count": null,
   "id": "70c97224-67d3-4bb4-84f7-86765c526a42",
   "metadata": {},
   "outputs": [],
   "source": [
    "rfc.fit(X_train, y_train)"
   ]
  },
  {
   "cell_type": "code",
   "execution_count": null,
   "id": "4226241c-5ee1-49b6-9e6e-6cb061ce2dce",
   "metadata": {},
   "outputs": [],
   "source": [
    "y_pred_rfc_train = rfc.predict(X_train)"
   ]
  },
  {
   "cell_type": "code",
   "execution_count": null,
   "id": "1954988b-a02e-45ca-a442-4f74e1cfef36",
   "metadata": {},
   "outputs": [],
   "source": [
    "y_pred_rfc_test = rfc.predict(X_test)"
   ]
  },
  {
   "cell_type": "code",
   "execution_count": null,
   "id": "c574e499-8d05-47f1-a21a-4d3840ddf17e",
   "metadata": {},
   "outputs": [],
   "source": [
    "print('Training-set accuracy score: {0:0.4f}'. format(accuracy_score(y_train, y_pred_rfc_train)))"
   ]
  },
  {
   "cell_type": "code",
   "execution_count": null,
   "id": "7a379030-2132-4a79-8b09-1759135fbe61",
   "metadata": {},
   "outputs": [],
   "source": [
    "print(\"Model accuracy : \", accuracy_score(y_test, y_pred_rfc_test))"
   ]
  },
  {
   "cell_type": "code",
   "execution_count": null,
   "id": "69673469-9deb-42f5-8ef4-fc3d20b02da6",
   "metadata": {},
   "outputs": [],
   "source": [
    "## Confusion Matrix\n",
    "\n",
    "cm = confusion_matrix(y_test, y_pred_rfc_test)\n",
    "\n",
    "print('Confusion matrix\\n\\n', cm)\n",
    "print('True Positives(TP) = ', cm[0,0])\n",
    "print('True Negatives(TN) = ', cm[1,1])\n",
    "print('False Positives(FP) = ', cm[0,1])\n",
    "print('False Negatives(FN) = ', cm[1,0])"
   ]
  },
  {
   "cell_type": "code",
   "execution_count": null,
   "id": "bd382ab7-ba1b-434d-8b10-d0a1660115a3",
   "metadata": {},
   "outputs": [],
   "source": [
    "## Confusion matrix heatmap\n",
    "\n",
    "cm_matrix = pd.DataFrame(data=cm, columns=['Actual Positive:1', 'Actual Negative:0'], \n",
    "                                 index=['Predict Positive:1', 'Predict Negative:0'])\n",
    "\n",
    "sns.heatmap(cm_matrix, annot=True, fmt='d', cmap='YlGnBu')"
   ]
  },
  {
   "cell_type": "code",
   "execution_count": null,
   "id": "745f7b94-03e8-4a33-acbf-97f980d87801",
   "metadata": {},
   "outputs": [],
   "source": [
    "print(classification_report(y_test, y_pred_rfc_test))"
   ]
  },
  {
   "cell_type": "code",
   "execution_count": null,
   "id": "619a09a6-b96b-4878-9ac4-abaa3c99d369",
   "metadata": {},
   "outputs": [],
   "source": [
    "TP = cm[0,0]\n",
    "TN = cm[1,1]\n",
    "FP = cm[0,1]\n",
    "FN = cm[1,0]"
   ]
  },
  {
   "cell_type": "code",
   "execution_count": null,
   "id": "50f6501d-5496-4d98-833b-41e8de242df9",
   "metadata": {},
   "outputs": [],
   "source": [
    "## classification accuracy\n",
    "classification_accuracy = (TP + TN) / float(TP + TN + FP + FN)\n",
    "print('Classification accuracy : {0:0.4f}'.format(classification_accuracy))"
   ]
  },
  {
   "cell_type": "code",
   "execution_count": null,
   "id": "af502ee9-fe15-48aa-b472-d5596d4a6e70",
   "metadata": {},
   "outputs": [],
   "source": [
    "## classification error\n",
    "classification_error = (FP + FN) / float(TP + TN + FP + FN)\n",
    "print('Classification error : {0:0.4f}'.format(classification_error))"
   ]
  },
  {
   "cell_type": "code",
   "execution_count": null,
   "id": "75aeea6e-21c6-4df0-a9e4-4e5463909c8d",
   "metadata": {},
   "outputs": [],
   "source": [
    "## precision score\n",
    "precision = TP / float(TP + FP)\n",
    "print('Precision : {0:0.4f}'.format(precision))"
   ]
  },
  {
   "cell_type": "code",
   "execution_count": null,
   "id": "727ca6a8-ff37-42a2-9820-fc8379c92e57",
   "metadata": {},
   "outputs": [],
   "source": [
    "## recall \n",
    "recall = TP / float(TP + FN)\n",
    "print('Recall or Sensitivity : {0:0.4f}'.format(recall))"
   ]
  },
  {
   "cell_type": "code",
   "execution_count": null,
   "id": "319c548d-948f-40da-9d37-4db6056b0b9e",
   "metadata": {},
   "outputs": [],
   "source": [
    "## specificity\n",
    "specificity = TN / (TN + FP)\n",
    "print('Specificity : {0:0.4f}'.format(specificity))"
   ]
  },
  {
   "cell_type": "code",
   "execution_count": null,
   "id": "7d6558ad-3a93-4c86-831e-9b9d40643a70",
   "metadata": {},
   "outputs": [],
   "source": [
    "## F-1 score\n",
    "f1 = 2 * (precision * recall) / (precision + recall)\n",
    "print('F-1 score : {0:0.4f}'.format(f1))"
   ]
  },
  {
   "cell_type": "markdown",
   "id": "94cd67b1-ec03-4c38-8a9a-13a8acf37569",
   "metadata": {},
   "source": [
    "-------------------------------------------------------------------------------------------------------------"
   ]
  },
  {
   "cell_type": "code",
   "execution_count": null,
   "id": "3a4203d8-d239-4629-b6e5-b6c15183e9d0",
   "metadata": {},
   "outputs": [],
   "source": []
  }
 ],
 "metadata": {
  "kernelspec": {
   "display_name": "Python 3 (ipykernel)",
   "language": "python",
   "name": "python3"
  },
  "language_info": {
   "codemirror_mode": {
    "name": "ipython",
    "version": 3
   },
   "file_extension": ".py",
   "mimetype": "text/x-python",
   "name": "python",
   "nbconvert_exporter": "python",
   "pygments_lexer": "ipython3",
   "version": "3.8.5"
  }
 },
 "nbformat": 4,
 "nbformat_minor": 5
}
