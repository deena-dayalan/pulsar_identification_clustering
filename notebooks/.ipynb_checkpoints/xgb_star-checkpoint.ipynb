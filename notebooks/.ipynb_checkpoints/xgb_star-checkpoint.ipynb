{
 "cells": [
  {
   "cell_type": "code",
   "execution_count": 1,
   "metadata": {
    "id": "1gEZhuB-qL-o"
   },
   "outputs": [],
   "source": [
    "import numpy as np\n",
    "import pandas as pd\n",
    "import warnings\n",
    "warnings.filterwarnings('ignore')\n",
    "import seaborn as sns\n",
    "import matplotlib.pyplot as plt\n",
    "from sklearn.model_selection import train_test_split\n",
    "from sklearn.preprocessing import MinMaxScaler\n",
    "from sklearn.linear_model import LogisticRegression\n",
    "from sklearn.metrics import accuracy_score\n",
    "from sklearn.metrics import confusion_matrix\n",
    "from sklearn.metrics import classification_report\n",
    "from sklearn.metrics import precision_score\n",
    "from sklearn.metrics import recall_score\n",
    "from sklearn.metrics import roc_auc_score"
   ]
  },
  {
   "cell_type": "code",
   "execution_count": 2,
   "metadata": {
    "id": "mDVW2FxSxHFV"
   },
   "outputs": [],
   "source": [
    "def print_metrics(y_true,y_pred):\n",
    "  cm = confusion_matrix(y_true,y_pred)\n",
    "  print('Confusion matrix\\n', cm)\n",
    "  print('True Positives(TP) = ', cm[1,1])\n",
    "  print('True Negatives(TN) = ', cm[0,0])\n",
    "  print('False Positives(FP) = ', cm[0,1])\n",
    "  print('False Negatives(FN) = ', cm[1,0])\n",
    "  cm_matrix = pd.DataFrame(data=cm, columns=['Predict: RFI', 'Predict: Pulsar'], \n",
    "                                 index=['Actual:RFI', 'Actual:Pulsar'])\n",
    "\n",
    "  sns.heatmap(cm_matrix, annot=True, fmt='d', cmap='YlGnBu')\n",
    "  print(classification_report(y_true, y_pred))\n",
    "  \n",
    "  TP = cm[1,1]\n",
    "  TN = cm[0,0]\n",
    "  FP = cm[0,1]\n",
    "  FN = cm[1,0]\n",
    "\n",
    "  classification_accuracy = (TP + TN) / float(TP + TN + FP + FN)\n",
    "  print('Classification accuracy : {0:0.4f}'.format(classification_accuracy))\n",
    "  ## classification error\n",
    "  classification_error = (FP + FN) / float(TP + TN + FP + FN)\n",
    "  print('Classification error : {0:0.4f}'.format(classification_error))\n",
    "  ## precision score\n",
    "  precision = TP / float(TP + FP)\n",
    "  print('Precision : {0:0.4f}'.format(precision))\n",
    "  ## recall \n",
    "  recall = TP / float(TP + FN)\n",
    "  print('Recall or Sensitivity : {0:0.4f}'.format(recall))\n",
    "  ## specificity\n",
    "  specificity = TN / (TN + FP)\n",
    "  print('Specificity : {0:0.4f}'.format(specificity))\n",
    "  ## F-1 score\n",
    "  f1 = 2 * (precision * recall) / (precision + recall)\n",
    "  print('F-1 score : {0:0.4f}'.format(f1))\n",
    "  ## ROC_AUC\n",
    "  ROC_AUC = roc_auc_score(y_true, y_pred)\n",
    "  print('ROC AUC : {:.4f}'.format(ROC_AUC))"
   ]
  },
  {
   "cell_type": "code",
   "execution_count": 3,
   "metadata": {
    "colab": {
     "base_uri": "https://localhost:8080/",
     "height": 206
    },
    "id": "FQlJhyFSqeen",
    "outputId": "3027baea-f38d-4dcb-ff53-ac6da5dfbfbb"
   },
   "outputs": [
    {
     "data": {
      "text/html": [
       "<div>\n",
       "<style scoped>\n",
       "    .dataframe tbody tr th:only-of-type {\n",
       "        vertical-align: middle;\n",
       "    }\n",
       "\n",
       "    .dataframe tbody tr th {\n",
       "        vertical-align: top;\n",
       "    }\n",
       "\n",
       "    .dataframe thead th {\n",
       "        text-align: right;\n",
       "    }\n",
       "</style>\n",
       "<table border=\"1\" class=\"dataframe\">\n",
       "  <thead>\n",
       "    <tr style=\"text-align: right;\">\n",
       "      <th></th>\n",
       "      <th>mean_int_pf</th>\n",
       "      <th>std_pf</th>\n",
       "      <th>ex_kurt_pf</th>\n",
       "      <th>skew_pf</th>\n",
       "      <th>mean_dm</th>\n",
       "      <th>std_dm</th>\n",
       "      <th>kurt_dm</th>\n",
       "      <th>skew_dm</th>\n",
       "      <th>label</th>\n",
       "    </tr>\n",
       "  </thead>\n",
       "  <tbody>\n",
       "    <tr>\n",
       "      <th>0</th>\n",
       "      <td>140.562500</td>\n",
       "      <td>55.683782</td>\n",
       "      <td>-0.234571</td>\n",
       "      <td>-0.699648</td>\n",
       "      <td>3.199833</td>\n",
       "      <td>19.110426</td>\n",
       "      <td>7.975532</td>\n",
       "      <td>74.242225</td>\n",
       "      <td>0</td>\n",
       "    </tr>\n",
       "    <tr>\n",
       "      <th>1</th>\n",
       "      <td>102.507812</td>\n",
       "      <td>58.882430</td>\n",
       "      <td>0.465318</td>\n",
       "      <td>-0.515088</td>\n",
       "      <td>1.677258</td>\n",
       "      <td>14.860146</td>\n",
       "      <td>10.576487</td>\n",
       "      <td>127.393580</td>\n",
       "      <td>0</td>\n",
       "    </tr>\n",
       "    <tr>\n",
       "      <th>2</th>\n",
       "      <td>103.015625</td>\n",
       "      <td>39.341649</td>\n",
       "      <td>0.323328</td>\n",
       "      <td>1.051164</td>\n",
       "      <td>3.121237</td>\n",
       "      <td>21.744669</td>\n",
       "      <td>7.735822</td>\n",
       "      <td>63.171909</td>\n",
       "      <td>0</td>\n",
       "    </tr>\n",
       "    <tr>\n",
       "      <th>3</th>\n",
       "      <td>136.750000</td>\n",
       "      <td>57.178449</td>\n",
       "      <td>-0.068415</td>\n",
       "      <td>-0.636238</td>\n",
       "      <td>3.642977</td>\n",
       "      <td>20.959280</td>\n",
       "      <td>6.896499</td>\n",
       "      <td>53.593661</td>\n",
       "      <td>0</td>\n",
       "    </tr>\n",
       "    <tr>\n",
       "      <th>4</th>\n",
       "      <td>88.726562</td>\n",
       "      <td>40.672225</td>\n",
       "      <td>0.600866</td>\n",
       "      <td>1.123492</td>\n",
       "      <td>1.178930</td>\n",
       "      <td>11.468720</td>\n",
       "      <td>14.269573</td>\n",
       "      <td>252.567306</td>\n",
       "      <td>0</td>\n",
       "    </tr>\n",
       "  </tbody>\n",
       "</table>\n",
       "</div>"
      ],
      "text/plain": [
       "   mean_int_pf     std_pf  ex_kurt_pf   skew_pf   mean_dm     std_dm  \\\n",
       "0   140.562500  55.683782   -0.234571 -0.699648  3.199833  19.110426   \n",
       "1   102.507812  58.882430    0.465318 -0.515088  1.677258  14.860146   \n",
       "2   103.015625  39.341649    0.323328  1.051164  3.121237  21.744669   \n",
       "3   136.750000  57.178449   -0.068415 -0.636238  3.642977  20.959280   \n",
       "4    88.726562  40.672225    0.600866  1.123492  1.178930  11.468720   \n",
       "\n",
       "     kurt_dm     skew_dm  label  \n",
       "0   7.975532   74.242225      0  \n",
       "1  10.576487  127.393580      0  \n",
       "2   7.735822   63.171909      0  \n",
       "3   6.896499   53.593661      0  \n",
       "4  14.269573  252.567306      0  "
      ]
     },
     "execution_count": 3,
     "metadata": {},
     "output_type": "execute_result"
    }
   ],
   "source": [
    "pulsar_dataset = '/home/d.dasarathan/ds5500/projects/datasets/HTRU2/HTRU_2.csv'\n",
    "dataset=pd.read_csv(pulsar_dataset, header=None)\n",
    "col_names = ['mean_int_pf', 'std_pf', 'ex_kurt_pf', 'skew_pf', 'mean_dm', 'std_dm', 'kurt_dm', 'skew_dm', 'label']\n",
    "dataset.columns = col_names\n",
    "dataset.head()"
   ]
  },
  {
   "cell_type": "code",
   "execution_count": 4,
   "metadata": {},
   "outputs": [
    {
     "data": {
      "text/plain": [
       "mean_int_pf    float64\n",
       "std_pf         float64\n",
       "ex_kurt_pf     float64\n",
       "skew_pf        float64\n",
       "mean_dm        float64\n",
       "std_dm         float64\n",
       "kurt_dm        float64\n",
       "skew_dm        float64\n",
       "label            int64\n",
       "dtype: object"
      ]
     },
     "execution_count": 4,
     "metadata": {},
     "output_type": "execute_result"
    }
   ],
   "source": [
    "dataset.dtypes"
   ]
  },
  {
   "cell_type": "code",
   "execution_count": 5,
   "metadata": {
    "colab": {
     "base_uri": "https://localhost:8080/"
    },
    "id": "cXAmHnl8sXnh",
    "outputId": "6efcb6ad-c184-4b5b-b63f-a86d85d66bce"
   },
   "outputs": [
    {
     "data": {
      "text/plain": [
       "0    16259\n",
       "1     1639\n",
       "Name: label, dtype: int64"
      ]
     },
     "execution_count": 5,
     "metadata": {},
     "output_type": "execute_result"
    }
   ],
   "source": [
    "dataset.label.value_counts()"
   ]
  },
  {
   "cell_type": "code",
   "execution_count": 6,
   "metadata": {
    "id": "IjT9_cLysmzO"
   },
   "outputs": [],
   "source": [
    "#X = df_main.drop(['label'], axis=1)\n",
    "X = dataset[['mean_int_pf', 'std_pf', 'ex_kurt_pf', 'skew_pf', 'mean_dm', 'std_dm', 'kurt_dm', 'skew_dm']]\n",
    "y = dataset['label']"
   ]
  },
  {
   "cell_type": "code",
   "execution_count": 7,
   "metadata": {
    "id": "HnXT_yoMsr7L"
   },
   "outputs": [],
   "source": [
    "X_train, X_test, y_train, y_test = train_test_split(X, y, test_size = 0.25, random_state = 10)"
   ]
  },
  {
   "cell_type": "code",
   "execution_count": 8,
   "metadata": {
    "colab": {
     "base_uri": "https://localhost:8080/"
    },
    "id": "M9jSy5uIKJyS",
    "outputId": "125a8739-63e2-4f79-b54b-7f48c9387802"
   },
   "outputs": [
    {
     "name": "stdout",
     "output_type": "stream",
     "text": [
      "[15:59:32] WARNING: ../src/learner.cc:1095: Starting in XGBoost 1.3.0, the default evaluation metric used with the objective 'binary:logistic' was changed from 'error' to 'logloss'. Explicitly set eval_metric if you'd like to restore the old behavior.\n",
      "Training-set accuracy score: 0.9987\n",
      "Model accuracy :  0.9760893854748603\n"
     ]
    }
   ],
   "source": [
    "import xgboost as xgb\n",
    "xg=xgb.XGBClassifier()\n",
    "xg.fit(X_train, y_train)\n",
    "y_pred_xg_train = xg.predict(X_train)\n",
    "y_pred_xg_test = xg.predict(X_test)\n",
    "print('Training-set accuracy score: {0:0.4f}'. format(accuracy_score(y_train, y_pred_xg_train)))\n",
    "print(\"Model accuracy : \", accuracy_score(y_test, y_pred_xg_test))"
   ]
  },
  {
   "cell_type": "code",
   "execution_count": 9,
   "metadata": {
    "colab": {
     "base_uri": "https://localhost:8080/",
     "height": 666
    },
    "id": "is05hVnfFmk1",
    "outputId": "467cf5be-86ff-422c-f57a-57383fd2d05c"
   },
   "outputs": [
    {
     "name": "stdout",
     "output_type": "stream",
     "text": [
      "Confusion matrix\n",
      " [[12170     2]\n",
      " [   16  1235]]\n",
      "True Positives(TP) =  1235\n",
      "True Negatives(TN) =  12170\n",
      "False Positives(FP) =  2\n",
      "False Negatives(FN) =  16\n",
      "              precision    recall  f1-score   support\n",
      "\n",
      "           0       1.00      1.00      1.00     12172\n",
      "           1       1.00      0.99      0.99      1251\n",
      "\n",
      "    accuracy                           1.00     13423\n",
      "   macro avg       1.00      0.99      1.00     13423\n",
      "weighted avg       1.00      1.00      1.00     13423\n",
      "\n",
      "Classification accuracy : 0.9987\n",
      "Classification error : 0.0013\n",
      "Precision : 0.9984\n",
      "Recall or Sensitivity : 0.9872\n",
      "Specificity : 0.9998\n",
      "F-1 score : 0.9928\n",
      "ROC AUC : 0.9935\n"
     ]
    },
    {
     "data": {
      "image/png": "[encoded data removed]",
      "text/plain": [
       "<Figure size 432x288 with 2 Axes>"
      ]
     },
     "metadata": {
      "needs_background": "light"
     },
     "output_type": "display_data"
    }
   ],
   "source": [
    "print_metrics(y_train,y_pred_xg_train)"
   ]
  },
  {
   "cell_type": "code",
   "execution_count": 10,
   "metadata": {
    "colab": {
     "base_uri": "https://localhost:8080/",
     "height": 665
    },
    "id": "8rzs33AgEiHy",
    "outputId": "f655c5f5-c280-4e0b-8ead-171d5475f53b"
   },
   "outputs": [
    {
     "name": "stdout",
     "output_type": "stream",
     "text": [
      "Confusion matrix\n",
      " [[4047   40]\n",
      " [  67  321]]\n",
      "True Positives(TP) =  321\n",
      "True Negatives(TN) =  4047\n",
      "False Positives(FP) =  40\n",
      "False Negatives(FN) =  67\n",
      "              precision    recall  f1-score   support\n",
      "\n",
      "           0       0.98      0.99      0.99      4087\n",
      "           1       0.89      0.83      0.86       388\n",
      "\n",
      "    accuracy                           0.98      4475\n",
      "   macro avg       0.94      0.91      0.92      4475\n",
      "weighted avg       0.98      0.98      0.98      4475\n",
      "\n",
      "Classification accuracy : 0.9761\n",
      "Classification error : 0.0239\n",
      "Precision : 0.8892\n",
      "Recall or Sensitivity : 0.8273\n",
      "Specificity : 0.9902\n",
      "F-1 score : 0.8571\n",
      "ROC AUC : 0.9088\n"
     ]
    },
    {
     "data": {
      "image/png": "[encoded data removed]",
      "text/plain": [
       "<Figure size 432x288 with 2 Axes>"
      ]
     },
     "metadata": {
      "needs_background": "light"
     },
     "output_type": "display_data"
    }
   ],
   "source": [
    "print_metrics(y_test,y_pred_xg_test)"
   ]
  },
  {
   "cell_type": "raw",
   "metadata": {
    "id": "IVR08vmSEiK1"
   },
   "source": [
    "from sklearn.model_selection import RepeatedStratifiedKFold\n",
    "from sklearn.model_selection import GridSearchCV\n",
    "\n",
    "model = xgb.XGBClassifier(use_label_encoder=False)\n",
    "\n",
    "params = {\n",
    "    'n_estimators': [100, 200, 500, 1000],\n",
    "    'learning_rate': [0.01,0.05,0.1],\n",
    "    'reg_alpha': [0, 0.5, 1],\n",
    "    'reg_lambda': [0.5, 1, 5],\n",
    "}\n",
    "\n",
    "cv = RepeatedStratifiedKFold(random_state=42)\n",
    "\n",
    "grid_search = GridSearchCV(estimator=model, param_grid=params, n_jobs=-1, cv=cv, scoring='f1',error_score=0)\n",
    "grid_search.fit(X_train, y_train)\n",
    "\n",
    "print('GridSearch CV best score : {:.4f}\\n\\n'.format(grid_search.best_score_))\n",
    "print('Parameters that give the best results :','\\n\\n', (grid_search.best_params_))\n",
    "print('\\n\\nEstimator that was chosen by the search :','\\n\\n', (grid_search.best_estimator_))"
   ]
  },
  {
   "cell_type": "code",
   "execution_count": 11,
   "metadata": {
    "id": "sW1mlK6vFyYj"
   },
   "outputs": [
    {
     "name": "stdout",
     "output_type": "stream",
     "text": [
      "[15:59:33] WARNING: ../src/learner.cc:1095: Starting in XGBoost 1.3.0, the default evaluation metric used with the objective 'binary:logistic' was changed from 'error' to 'logloss'. Explicitly set eval_metric if you'd like to restore the old behavior.\n"
     ]
    }
   ],
   "source": [
    "best_model = xgb.XGBClassifier( max_depth=4, n_estimators=100)\n",
    "\n",
    "best_model.fit(X_train,y_train)\n",
    "\n",
    "grid_res_train = best_model.predict(X_train)\n",
    "\n",
    "grid_res_test = best_model.predict(X_test)"
   ]
  },
  {
   "cell_type": "code",
   "execution_count": 12,
   "metadata": {
    "id": "CbmlgGV7Fyb-"
   },
   "outputs": [
    {
     "name": "stdout",
     "output_type": "stream",
     "text": [
      "Confusion matrix\n",
      " [[12156    16]\n",
      " [   81  1170]]\n",
      "True Positives(TP) =  1170\n",
      "True Negatives(TN) =  12156\n",
      "False Positives(FP) =  16\n",
      "False Negatives(FN) =  81\n",
      "              precision    recall  f1-score   support\n",
      "\n",
      "           0       0.99      1.00      1.00     12172\n",
      "           1       0.99      0.94      0.96      1251\n",
      "\n",
      "    accuracy                           0.99     13423\n",
      "   macro avg       0.99      0.97      0.98     13423\n",
      "weighted avg       0.99      0.99      0.99     13423\n",
      "\n",
      "Classification accuracy : 0.9928\n",
      "Classification error : 0.0072\n",
      "Precision : 0.9865\n",
      "Recall or Sensitivity : 0.9353\n",
      "Specificity : 0.9987\n",
      "F-1 score : 0.9602\n",
      "ROC AUC : 0.9670\n"
     ]
    },
    {
     "data": {
      "image/png": "[encoded data removed]",
      "text/plain": [
       "<Figure size 432x288 with 2 Axes>"
      ]
     },
     "metadata": {
      "needs_background": "light"
     },
     "output_type": "display_data"
    }
   ],
   "source": [
    "print_metrics(y_train,grid_res_train)"
   ]
  },
  {
   "cell_type": "code",
   "execution_count": 13,
   "metadata": {
    "id": "ubAF39r8Fyfk"
   },
   "outputs": [
    {
     "name": "stdout",
     "output_type": "stream",
     "text": [
      "Confusion matrix\n",
      " [[4041   46]\n",
      " [  73  315]]\n",
      "True Positives(TP) =  315\n",
      "True Negatives(TN) =  4041\n",
      "False Positives(FP) =  46\n",
      "False Negatives(FN) =  73\n",
      "              precision    recall  f1-score   support\n",
      "\n",
      "           0       0.98      0.99      0.99      4087\n",
      "           1       0.87      0.81      0.84       388\n",
      "\n",
      "    accuracy                           0.97      4475\n",
      "   macro avg       0.93      0.90      0.91      4475\n",
      "weighted avg       0.97      0.97      0.97      4475\n",
      "\n",
      "Classification accuracy : 0.9734\n",
      "Classification error : 0.0266\n",
      "Precision : 0.8726\n",
      "Recall or Sensitivity : 0.8119\n",
      "Specificity : 0.9887\n",
      "F-1 score : 0.8411\n",
      "ROC AUC : 0.9003\n"
     ]
    },
    {
     "data": {
      "image/png": "[encoded data removed]",
      "text/plain": [
       "<Figure size 432x288 with 2 Axes>"
      ]
     },
     "metadata": {
      "needs_background": "light"
     },
     "output_type": "display_data"
    }
   ],
   "source": [
    "print_metrics(y_test,grid_res_test)"
   ]
  },
  {
   "cell_type": "markdown",
   "metadata": {
    "id": "izVkEvqaMO3x"
   },
   "source": [
    "---------------------------------------------------------------------------------------------------------------------------"
   ]
  },
  {
   "cell_type": "code",
   "execution_count": 14,
   "metadata": {
    "id": "Q_xMggrCMO8x"
   },
   "outputs": [
    {
     "data": {
      "text/plain": [
       "(32518, 9)"
      ]
     },
     "execution_count": 14,
     "metadata": {},
     "output_type": "execute_result"
    }
   ],
   "source": [
    "from sklearn.utils import resample\n",
    "\n",
    "dataset_majority = dataset[dataset['label']==0]\n",
    "dataset_minority = dataset[dataset['label']==1]\n",
    "\n",
    "positive_upsample = resample(dataset_minority, replace = True, \n",
    "                        n_samples = dataset_majority.shape[0],\n",
    "                        random_state = 101)\n",
    "\n",
    "dataset_upsampled = pd.concat([dataset_majority, positive_upsample])  # concat two data frames i,e majority class data set and upsampled minority class data set\n",
    "dataset_upsampled = dataset_upsampled.sample(frac = 1)\n",
    "dataset_upsampled.shape"
   ]
  },
  {
   "cell_type": "code",
   "execution_count": 15,
   "metadata": {
    "id": "jmsM-sYEuOSH"
   },
   "outputs": [],
   "source": [
    "X1 = dataset_upsampled.drop(['label'], axis=1)\n",
    "y1 = dataset_upsampled['label']"
   ]
  },
  {
   "cell_type": "code",
   "execution_count": 16,
   "metadata": {
    "id": "VhXGty2wuO6u"
   },
   "outputs": [],
   "source": [
    "X1_train, X1_test, y1_train, y1_test = train_test_split(X1, y1, test_size = 0.25, random_state = 10)"
   ]
  },
  {
   "cell_type": "code",
   "execution_count": 17,
   "metadata": {
    "id": "jB3ew8BWuRGC"
   },
   "outputs": [
    {
     "name": "stdout",
     "output_type": "stream",
     "text": [
      "[15:59:34] WARNING: ../src/learner.cc:1095: Starting in XGBoost 1.3.0, the default evaluation metric used with the objective 'binary:logistic' was changed from 'error' to 'logloss'. Explicitly set eval_metric if you'd like to restore the old behavior.\n",
      "Training-set accuracy score: 0.9928\n",
      "Model accuracy :  0.9876998769987699\n"
     ]
    }
   ],
   "source": [
    "import xgboost as xgb\n",
    "xg= xgb.XGBClassifier(max_depth=4, n_estimators=100)\n",
    "xg.fit(X1_train, y1_train)\n",
    "y_pred_xg_train1 = xg.predict(X1_train)\n",
    "y_pred_xg_test1 = xg.predict(X1_test)\n",
    "print('Training-set accuracy score: {0:0.4f}'. format(accuracy_score(y1_train, y_pred_xg_train1)))\n",
    "print(\"Model accuracy : \", accuracy_score(y1_test, y_pred_xg_test1))"
   ]
  },
  {
   "cell_type": "raw",
   "metadata": {
    "id": "G6mCeu5lue7F"
   },
   "source": [
    "print_metrics(y1_train,y_pred_xg_train1)"
   ]
  },
  {
   "cell_type": "code",
   "execution_count": 18,
   "metadata": {
    "id": "zAgCLACkMPAL"
   },
   "outputs": [
    {
     "name": "stdout",
     "output_type": "stream",
     "text": [
      "Confusion matrix\n",
      " [[4041   70]\n",
      " [  30 3989]]\n",
      "True Positives(TP) =  3989\n",
      "True Negatives(TN) =  4041\n",
      "False Positives(FP) =  70\n",
      "False Negatives(FN) =  30\n",
      "              precision    recall  f1-score   support\n",
      "\n",
      "           0       0.99      0.98      0.99      4111\n",
      "           1       0.98      0.99      0.99      4019\n",
      "\n",
      "    accuracy                           0.99      8130\n",
      "   macro avg       0.99      0.99      0.99      8130\n",
      "weighted avg       0.99      0.99      0.99      8130\n",
      "\n",
      "Classification accuracy : 0.9877\n",
      "Classification error : 0.0123\n",
      "Precision : 0.9828\n",
      "Recall or Sensitivity : 0.9925\n",
      "Specificity : 0.9830\n",
      "F-1 score : 0.9876\n",
      "ROC AUC : 0.9878\n"
     ]
    },
    {
     "data": {
      "image/png": "[encoded data removed]",
      "text/plain": [
       "<Figure size 432x288 with 2 Axes>"
      ]
     },
     "metadata": {
      "needs_background": "light"
     },
     "output_type": "display_data"
    }
   ],
   "source": [
    "print_metrics(y1_test,y_pred_xg_test1)"
   ]
  },
  {
   "cell_type": "raw",
   "metadata": {
    "id": "AdZlGtJguuFC"
   },
   "source": [
    "from sklearn.model_selection import RepeatedStratifiedKFold\n",
    "from sklearn.model_selection import GridSearchCV\n",
    "model = xgb.XGBClassifier()\n",
    "parameters_grid = {'n_estimators':[300, 500, 800,1000],'max_features':['sqrt', 'log2',int,float],'learning_rate': [0.001, 0.01, 0.1, 1,10]}\n",
    "cv = RepeatedStratifiedKFold()\n",
    "grid_search1 = GridSearchCV(estimator=model, param_grid=parameters_grid, n_jobs=-1, cv=cv, scoring='f1',error_score=0)\n",
    "grid_result1 = grid_search1.fit(X1_train, y1_train)\n",
    "print(\"Best: %f using %s\" % (grid_result1.best_score_, grid_result1.best_params_))"
   ]
  },
  {
   "cell_type": "raw",
   "metadata": {
    "id": "2H-W87OLu59H"
   },
   "source": [
    "grid_res_train1 = grid_result1.predict(X1_train)\n",
    "\n",
    "grid_res_test1 = grid_result1.predict(X1_test)"
   ]
  },
  {
   "cell_type": "raw",
   "metadata": {
    "id": "NmQhiJhnu3nR"
   },
   "source": [
    "print_metrics(y1_train,grid_res_train1)"
   ]
  },
  {
   "cell_type": "raw",
   "metadata": {
    "id": "kcD_7X21u__q"
   },
   "source": [
    "print_metrics(y1_test,grid_res_test1)"
   ]
  }
 ],
 "metadata": {
  "colab": {
   "collapsed_sections": [],
   "provenance": []
  },
  "kernelspec": {
   "display_name": "Python 3 (ipykernel)",
   "language": "python",
   "name": "python3"
  },
  "language_info": {
   "codemirror_mode": {
    "name": "ipython",
    "version": 3
   },
   "file_extension": ".py",
   "mimetype": "text/x-python",
   "name": "python",
   "nbconvert_exporter": "python",
   "pygments_lexer": "ipython3",
   "version": "3.8.5"
  }
 },
 "nbformat": 4,
 "nbformat_minor": 4
}
