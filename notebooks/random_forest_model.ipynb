{
 "cells": [
  {
   "cell_type": "code",
   "execution_count": 1,
   "id": "2735221a-5e1d-4e8a-8bd9-91c9fd89ee90",
   "metadata": {},
   "outputs": [],
   "source": [
    "import numpy as np\n",
    "import pandas as pd\n",
    "import warnings\n",
    "warnings.filterwarnings('ignore')\n",
    "import seaborn as sns\n",
    "import matplotlib.pyplot as plt\n",
    "from sklearn.model_selection import train_test_split\n",
    "from sklearn.preprocessing import MinMaxScaler\n",
    "from sklearn.linear_model import LogisticRegression\n",
    "from sklearn.metrics import accuracy_score\n",
    "from sklearn.metrics import confusion_matrix\n",
    "from sklearn.metrics import classification_report\n",
    "from sklearn.metrics import precision_score\n",
    "from sklearn.metrics import recall_score\n",
    "from sklearn.ensemble import RandomForestClassifier\n",
    "from sklearn.svm import SVC"
   ]
  },
  {
   "cell_type": "code",
   "execution_count": 2,
   "id": "99765dc8-dc0c-420b-ab7d-400890e396b9",
   "metadata": {},
   "outputs": [],
   "source": [
    "## dataset file\n",
    "pulsar_dataset = '/home/d.dasarathan/ds5500/projects/datasets/HTRU2/HTRU_2.csv'"
   ]
  },
  {
   "cell_type": "code",
   "execution_count": 3,
   "id": "1aa1bd26-0b49-4ef2-8df0-5c3bcf162f55",
   "metadata": {},
   "outputs": [],
   "source": [
    "## read dataset\n",
    "df_main = pd.read_csv(pulsar_dataset, header=None)"
   ]
  },
  {
   "cell_type": "code",
   "execution_count": 4,
   "id": "f030a074-c14d-43d2-a6f0-69285620d7e6",
   "metadata": {},
   "outputs": [
    {
     "data": {
      "text/html": [
       "<div>\n",
       "<style scoped>\n",
       "    .dataframe tbody tr th:only-of-type {\n",
       "        vertical-align: middle;\n",
       "    }\n",
       "\n",
       "    .dataframe tbody tr th {\n",
       "        vertical-align: top;\n",
       "    }\n",
       "\n",
       "    .dataframe thead th {\n",
       "        text-align: right;\n",
       "    }\n",
       "</style>\n",
       "<table border=\"1\" class=\"dataframe\">\n",
       "  <thead>\n",
       "    <tr style=\"text-align: right;\">\n",
       "      <th></th>\n",
       "      <th>0</th>\n",
       "      <th>1</th>\n",
       "      <th>2</th>\n",
       "      <th>3</th>\n",
       "      <th>4</th>\n",
       "      <th>5</th>\n",
       "      <th>6</th>\n",
       "      <th>7</th>\n",
       "      <th>8</th>\n",
       "    </tr>\n",
       "  </thead>\n",
       "  <tbody>\n",
       "    <tr>\n",
       "      <th>0</th>\n",
       "      <td>140.562500</td>\n",
       "      <td>55.683782</td>\n",
       "      <td>-0.234571</td>\n",
       "      <td>-0.699648</td>\n",
       "      <td>3.199833</td>\n",
       "      <td>19.110426</td>\n",
       "      <td>7.975532</td>\n",
       "      <td>74.242225</td>\n",
       "      <td>0</td>\n",
       "    </tr>\n",
       "    <tr>\n",
       "      <th>1</th>\n",
       "      <td>102.507812</td>\n",
       "      <td>58.882430</td>\n",
       "      <td>0.465318</td>\n",
       "      <td>-0.515088</td>\n",
       "      <td>1.677258</td>\n",
       "      <td>14.860146</td>\n",
       "      <td>10.576487</td>\n",
       "      <td>127.393580</td>\n",
       "      <td>0</td>\n",
       "    </tr>\n",
       "    <tr>\n",
       "      <th>2</th>\n",
       "      <td>103.015625</td>\n",
       "      <td>39.341649</td>\n",
       "      <td>0.323328</td>\n",
       "      <td>1.051164</td>\n",
       "      <td>3.121237</td>\n",
       "      <td>21.744669</td>\n",
       "      <td>7.735822</td>\n",
       "      <td>63.171909</td>\n",
       "      <td>0</td>\n",
       "    </tr>\n",
       "    <tr>\n",
       "      <th>3</th>\n",
       "      <td>136.750000</td>\n",
       "      <td>57.178449</td>\n",
       "      <td>-0.068415</td>\n",
       "      <td>-0.636238</td>\n",
       "      <td>3.642977</td>\n",
       "      <td>20.959280</td>\n",
       "      <td>6.896499</td>\n",
       "      <td>53.593661</td>\n",
       "      <td>0</td>\n",
       "    </tr>\n",
       "    <tr>\n",
       "      <th>4</th>\n",
       "      <td>88.726562</td>\n",
       "      <td>40.672225</td>\n",
       "      <td>0.600866</td>\n",
       "      <td>1.123492</td>\n",
       "      <td>1.178930</td>\n",
       "      <td>11.468720</td>\n",
       "      <td>14.269573</td>\n",
       "      <td>252.567306</td>\n",
       "      <td>0</td>\n",
       "    </tr>\n",
       "  </tbody>\n",
       "</table>\n",
       "</div>"
      ],
      "text/plain": [
       "            0          1         2         3         4          5          6  \\\n",
       "0  140.562500  55.683782 -0.234571 -0.699648  3.199833  19.110426   7.975532   \n",
       "1  102.507812  58.882430  0.465318 -0.515088  1.677258  14.860146  10.576487   \n",
       "2  103.015625  39.341649  0.323328  1.051164  3.121237  21.744669   7.735822   \n",
       "3  136.750000  57.178449 -0.068415 -0.636238  3.642977  20.959280   6.896499   \n",
       "4   88.726562  40.672225  0.600866  1.123492  1.178930  11.468720  14.269573   \n",
       "\n",
       "            7  8  \n",
       "0   74.242225  0  \n",
       "1  127.393580  0  \n",
       "2   63.171909  0  \n",
       "3   53.593661  0  \n",
       "4  252.567306  0  "
      ]
     },
     "execution_count": 4,
     "metadata": {},
     "output_type": "execute_result"
    }
   ],
   "source": [
    "## display sample dataset\n",
    "df_main.head()"
   ]
  },
  {
   "cell_type": "code",
   "execution_count": 5,
   "id": "455ba592-1e9f-4577-bcde-ed6d22bf49ad",
   "metadata": {},
   "outputs": [
    {
     "data": {
      "text/html": [
       "<div>\n",
       "<style scoped>\n",
       "    .dataframe tbody tr th:only-of-type {\n",
       "        vertical-align: middle;\n",
       "    }\n",
       "\n",
       "    .dataframe tbody tr th {\n",
       "        vertical-align: top;\n",
       "    }\n",
       "\n",
       "    .dataframe thead th {\n",
       "        text-align: right;\n",
       "    }\n",
       "</style>\n",
       "<table border=\"1\" class=\"dataframe\">\n",
       "  <thead>\n",
       "    <tr style=\"text-align: right;\">\n",
       "      <th></th>\n",
       "      <th>mean_int_pf</th>\n",
       "      <th>std_pf</th>\n",
       "      <th>ex_kurt_pf</th>\n",
       "      <th>skew_pf</th>\n",
       "      <th>mean_dm</th>\n",
       "      <th>std_dm</th>\n",
       "      <th>kurt_dm</th>\n",
       "      <th>skew_dm</th>\n",
       "      <th>label</th>\n",
       "    </tr>\n",
       "  </thead>\n",
       "  <tbody>\n",
       "    <tr>\n",
       "      <th>0</th>\n",
       "      <td>140.562500</td>\n",
       "      <td>55.683782</td>\n",
       "      <td>-0.234571</td>\n",
       "      <td>-0.699648</td>\n",
       "      <td>3.199833</td>\n",
       "      <td>19.110426</td>\n",
       "      <td>7.975532</td>\n",
       "      <td>74.242225</td>\n",
       "      <td>0</td>\n",
       "    </tr>\n",
       "    <tr>\n",
       "      <th>1</th>\n",
       "      <td>102.507812</td>\n",
       "      <td>58.882430</td>\n",
       "      <td>0.465318</td>\n",
       "      <td>-0.515088</td>\n",
       "      <td>1.677258</td>\n",
       "      <td>14.860146</td>\n",
       "      <td>10.576487</td>\n",
       "      <td>127.393580</td>\n",
       "      <td>0</td>\n",
       "    </tr>\n",
       "    <tr>\n",
       "      <th>2</th>\n",
       "      <td>103.015625</td>\n",
       "      <td>39.341649</td>\n",
       "      <td>0.323328</td>\n",
       "      <td>1.051164</td>\n",
       "      <td>3.121237</td>\n",
       "      <td>21.744669</td>\n",
       "      <td>7.735822</td>\n",
       "      <td>63.171909</td>\n",
       "      <td>0</td>\n",
       "    </tr>\n",
       "    <tr>\n",
       "      <th>3</th>\n",
       "      <td>136.750000</td>\n",
       "      <td>57.178449</td>\n",
       "      <td>-0.068415</td>\n",
       "      <td>-0.636238</td>\n",
       "      <td>3.642977</td>\n",
       "      <td>20.959280</td>\n",
       "      <td>6.896499</td>\n",
       "      <td>53.593661</td>\n",
       "      <td>0</td>\n",
       "    </tr>\n",
       "    <tr>\n",
       "      <th>4</th>\n",
       "      <td>88.726562</td>\n",
       "      <td>40.672225</td>\n",
       "      <td>0.600866</td>\n",
       "      <td>1.123492</td>\n",
       "      <td>1.178930</td>\n",
       "      <td>11.468720</td>\n",
       "      <td>14.269573</td>\n",
       "      <td>252.567306</td>\n",
       "      <td>0</td>\n",
       "    </tr>\n",
       "  </tbody>\n",
       "</table>\n",
       "</div>"
      ],
      "text/plain": [
       "   mean_int_pf     std_pf  ex_kurt_pf   skew_pf   mean_dm     std_dm  \\\n",
       "0   140.562500  55.683782   -0.234571 -0.699648  3.199833  19.110426   \n",
       "1   102.507812  58.882430    0.465318 -0.515088  1.677258  14.860146   \n",
       "2   103.015625  39.341649    0.323328  1.051164  3.121237  21.744669   \n",
       "3   136.750000  57.178449   -0.068415 -0.636238  3.642977  20.959280   \n",
       "4    88.726562  40.672225    0.600866  1.123492  1.178930  11.468720   \n",
       "\n",
       "     kurt_dm     skew_dm  label  \n",
       "0   7.975532   74.242225      0  \n",
       "1  10.576487  127.393580      0  \n",
       "2   7.735822   63.171909      0  \n",
       "3   6.896499   53.593661      0  \n",
       "4  14.269573  252.567306      0  "
      ]
     },
     "execution_count": 5,
     "metadata": {},
     "output_type": "execute_result"
    }
   ],
   "source": [
    "## add column names to dataset\n",
    "col_names = ['mean_int_pf', 'std_pf', 'ex_kurt_pf', 'skew_pf', 'mean_dm', 'std_dm', 'kurt_dm', 'skew_dm','label']\n",
    "df_main.columns = col_names\n",
    "df_main.head()"
   ]
  },
  {
   "cell_type": "code",
   "execution_count": 6,
   "id": "1c1a3206-222e-448b-a2a9-a8fd2b969ea4",
   "metadata": {},
   "outputs": [
    {
     "data": {
      "text/plain": [
       "0    16259\n",
       "1     1639\n",
       "Name: label, dtype: int64"
      ]
     },
     "execution_count": 6,
     "metadata": {},
     "output_type": "execute_result"
    }
   ],
   "source": [
    "df_main.label.value_counts()"
   ]
  },
  {
   "cell_type": "code",
   "execution_count": 7,
   "id": "1586e91e-9bfc-423f-b936-224e714f60cd",
   "metadata": {},
   "outputs": [
    {
     "data": {
      "text/plain": [
       "0    90.842552\n",
       "1     9.157448\n",
       "Name: label, dtype: float64"
      ]
     },
     "execution_count": 7,
     "metadata": {},
     "output_type": "execute_result"
    }
   ],
   "source": [
    "df_main['label'].value_counts()/np.float(len(df_main)) * 100"
   ]
  },
  {
   "cell_type": "code",
   "execution_count": 8,
   "id": "bb48b5a7-b7ae-4117-951e-001b8bb7073f",
   "metadata": {},
   "outputs": [],
   "source": [
    "#X = df_main[['mean_int_pf', 'std_pf', 'ex_kurt_pf', 'skew_pf', 'mean_dm', 'std_dm', 'kurt_dm', 'skew_dm']]\n",
    "X = df_main.drop(['label'], axis=1)\n",
    "y = df_main['label']"
   ]
  },
  {
   "cell_type": "code",
   "execution_count": 9,
   "id": "f2b739de-531a-4e28-aae4-145395070aee",
   "metadata": {},
   "outputs": [
    {
     "data": {
      "text/html": [
       "<div>\n",
       "<style scoped>\n",
       "    .dataframe tbody tr th:only-of-type {\n",
       "        vertical-align: middle;\n",
       "    }\n",
       "\n",
       "    .dataframe tbody tr th {\n",
       "        vertical-align: top;\n",
       "    }\n",
       "\n",
       "    .dataframe thead th {\n",
       "        text-align: right;\n",
       "    }\n",
       "</style>\n",
       "<table border=\"1\" class=\"dataframe\">\n",
       "  <thead>\n",
       "    <tr style=\"text-align: right;\">\n",
       "      <th></th>\n",
       "      <th>mean_int_pf</th>\n",
       "      <th>std_pf</th>\n",
       "      <th>ex_kurt_pf</th>\n",
       "      <th>skew_pf</th>\n",
       "      <th>mean_dm</th>\n",
       "      <th>std_dm</th>\n",
       "      <th>kurt_dm</th>\n",
       "      <th>skew_dm</th>\n",
       "    </tr>\n",
       "  </thead>\n",
       "  <tbody>\n",
       "    <tr>\n",
       "      <th>0</th>\n",
       "      <td>140.562500</td>\n",
       "      <td>55.683782</td>\n",
       "      <td>-0.234571</td>\n",
       "      <td>-0.699648</td>\n",
       "      <td>3.199833</td>\n",
       "      <td>19.110426</td>\n",
       "      <td>7.975532</td>\n",
       "      <td>74.242225</td>\n",
       "    </tr>\n",
       "    <tr>\n",
       "      <th>1</th>\n",
       "      <td>102.507812</td>\n",
       "      <td>58.882430</td>\n",
       "      <td>0.465318</td>\n",
       "      <td>-0.515088</td>\n",
       "      <td>1.677258</td>\n",
       "      <td>14.860146</td>\n",
       "      <td>10.576487</td>\n",
       "      <td>127.393580</td>\n",
       "    </tr>\n",
       "    <tr>\n",
       "      <th>2</th>\n",
       "      <td>103.015625</td>\n",
       "      <td>39.341649</td>\n",
       "      <td>0.323328</td>\n",
       "      <td>1.051164</td>\n",
       "      <td>3.121237</td>\n",
       "      <td>21.744669</td>\n",
       "      <td>7.735822</td>\n",
       "      <td>63.171909</td>\n",
       "    </tr>\n",
       "    <tr>\n",
       "      <th>3</th>\n",
       "      <td>136.750000</td>\n",
       "      <td>57.178449</td>\n",
       "      <td>-0.068415</td>\n",
       "      <td>-0.636238</td>\n",
       "      <td>3.642977</td>\n",
       "      <td>20.959280</td>\n",
       "      <td>6.896499</td>\n",
       "      <td>53.593661</td>\n",
       "    </tr>\n",
       "    <tr>\n",
       "      <th>4</th>\n",
       "      <td>88.726562</td>\n",
       "      <td>40.672225</td>\n",
       "      <td>0.600866</td>\n",
       "      <td>1.123492</td>\n",
       "      <td>1.178930</td>\n",
       "      <td>11.468720</td>\n",
       "      <td>14.269573</td>\n",
       "      <td>252.567306</td>\n",
       "    </tr>\n",
       "  </tbody>\n",
       "</table>\n",
       "</div>"
      ],
      "text/plain": [
       "   mean_int_pf     std_pf  ex_kurt_pf   skew_pf   mean_dm     std_dm  \\\n",
       "0   140.562500  55.683782   -0.234571 -0.699648  3.199833  19.110426   \n",
       "1   102.507812  58.882430    0.465318 -0.515088  1.677258  14.860146   \n",
       "2   103.015625  39.341649    0.323328  1.051164  3.121237  21.744669   \n",
       "3   136.750000  57.178449   -0.068415 -0.636238  3.642977  20.959280   \n",
       "4    88.726562  40.672225    0.600866  1.123492  1.178930  11.468720   \n",
       "\n",
       "     kurt_dm     skew_dm  \n",
       "0   7.975532   74.242225  \n",
       "1  10.576487  127.393580  \n",
       "2   7.735822   63.171909  \n",
       "3   6.896499   53.593661  \n",
       "4  14.269573  252.567306  "
      ]
     },
     "execution_count": 9,
     "metadata": {},
     "output_type": "execute_result"
    }
   ],
   "source": [
    "X.head()"
   ]
  },
  {
   "cell_type": "code",
   "execution_count": 10,
   "id": "0a824a6b-13fa-468e-8c1b-cc8c6b4facfa",
   "metadata": {},
   "outputs": [
    {
     "data": {
      "text/plain": [
       "0    0\n",
       "1    0\n",
       "2    0\n",
       "3    0\n",
       "4    0\n",
       "Name: label, dtype: int64"
      ]
     },
     "execution_count": 10,
     "metadata": {},
     "output_type": "execute_result"
    }
   ],
   "source": [
    "y.head()"
   ]
  },
  {
   "cell_type": "code",
   "execution_count": 11,
   "id": "b7e5ac0e-e43d-43c6-9ed7-835ab9520bf3",
   "metadata": {},
   "outputs": [],
   "source": [
    "## split X and y into train and test sets\n",
    "## 80%-20% split \n",
    "X_train, X_test, y_train, y_test = train_test_split(X, y, test_size = 0.2, random_state = 42)"
   ]
  },
  {
   "cell_type": "code",
   "execution_count": 12,
   "id": "cb57fec0-6edb-4420-91d0-11aa186e54ae",
   "metadata": {},
   "outputs": [],
   "source": [
    "col_names = X_train.columns"
   ]
  },
  {
   "cell_type": "markdown",
   "id": "db5e17d3-1988-4e7b-8737-e137e355216a",
   "metadata": {},
   "source": [
    "----------------------------------------------------------------------------------------------------"
   ]
  },
  {
   "cell_type": "markdown",
   "id": "9a1d37fc-f5d1-4d5c-9379-f9a56e49fbd4",
   "metadata": {},
   "source": [
    "#### Scaling Features"
   ]
  },
  {
   "cell_type": "code",
   "execution_count": 13,
   "id": "5ad51f93-b22f-4058-820f-41ac5b3cec35",
   "metadata": {},
   "outputs": [],
   "source": [
    "scaler = MinMaxScaler()"
   ]
  },
  {
   "cell_type": "code",
   "execution_count": 14,
   "id": "559eb00a-b34c-4fac-9615-c27a74e36ebd",
   "metadata": {},
   "outputs": [],
   "source": [
    "X_train = scaler.fit_transform(X_train)"
   ]
  },
  {
   "cell_type": "code",
   "execution_count": 15,
   "id": "f4b68021-2eff-4b07-882a-b0c80f72d133",
   "metadata": {},
   "outputs": [],
   "source": [
    "X_test = scaler.transform(X_test)"
   ]
  },
  {
   "cell_type": "code",
   "execution_count": 16,
   "id": "a86784e0-596c-4a95-bb5c-e98728247318",
   "metadata": {},
   "outputs": [],
   "source": [
    "X_train = pd.DataFrame(X_train, columns=[col_names])"
   ]
  },
  {
   "cell_type": "code",
   "execution_count": 17,
   "id": "caa32f0e-243c-4af0-9d91-36f056bab28f",
   "metadata": {},
   "outputs": [],
   "source": [
    "X_test = pd.DataFrame(X_test, columns=[col_names])"
   ]
  },
  {
   "cell_type": "markdown",
   "id": "26e2bbc0-a97a-4a0f-8b8c-0db1d30f9af2",
   "metadata": {},
   "source": [
    "------------------------------------------------------------------------------------"
   ]
  },
  {
   "cell_type": "code",
   "execution_count": 18,
   "id": "472bd259-654a-4967-8665-0c6413cdc4e0",
   "metadata": {},
   "outputs": [],
   "source": [
    "## instantiate the model\n",
    "logreg = LogisticRegression(solver='liblinear', random_state=42)"
   ]
  },
  {
   "cell_type": "code",
   "execution_count": 19,
   "id": "c432c477-84a2-41cb-8f45-715ee0d7ed85",
   "metadata": {},
   "outputs": [
    {
     "data": {
      "text/plain": [
       "LogisticRegression(random_state=42, solver='liblinear')"
      ]
     },
     "execution_count": 19,
     "metadata": {},
     "output_type": "execute_result"
    }
   ],
   "source": [
    "## fit the model\n",
    "logreg.fit(X_train, y_train)"
   ]
  },
  {
   "cell_type": "code",
   "execution_count": 20,
   "id": "5e3eaa3d-b3b9-4769-a87e-12fc124360af",
   "metadata": {},
   "outputs": [
    {
     "data": {
      "text/plain": [
       "array([0, 0, 0, ..., 0, 0, 0])"
      ]
     },
     "execution_count": 20,
     "metadata": {},
     "output_type": "execute_result"
    }
   ],
   "source": [
    "y_pred_train = logreg.predict(X_train)\n",
    "\n",
    "y_pred_train"
   ]
  },
  {
   "cell_type": "code",
   "execution_count": 21,
   "id": "b8a9fc56-8d2c-4cb5-a6dd-f7d8c4cb1eef",
   "metadata": {},
   "outputs": [
    {
     "data": {
      "text/plain": [
       "array([0, 0, 0, ..., 0, 0, 1])"
      ]
     },
     "execution_count": 21,
     "metadata": {},
     "output_type": "execute_result"
    }
   ],
   "source": [
    "y_pred_test = logreg.predict(X_test)\n",
    "\n",
    "y_pred_test"
   ]
  },
  {
   "cell_type": "code",
   "execution_count": 22,
   "id": "4f4b72d7-234e-4ea9-8b06-1c3cc4444728",
   "metadata": {},
   "outputs": [
    {
     "name": "stdout",
     "output_type": "stream",
     "text": [
      "Training-set accuracy score: 0.9738\n"
     ]
    }
   ],
   "source": [
    "print('Training-set accuracy score: {0:0.4f}'. format(accuracy_score(y_train, y_pred_train)))"
   ]
  },
  {
   "cell_type": "code",
   "execution_count": 23,
   "id": "015716a9-546a-46da-abbe-ffb279dd26cf",
   "metadata": {},
   "outputs": [
    {
     "name": "stdout",
     "output_type": "stream",
     "text": [
      "Model accuracy score: 0.9746\n"
     ]
    }
   ],
   "source": [
    "print('Model accuracy score: {0:0.4f}'. format(accuracy_score(y_test, y_pred_test)))"
   ]
  },
  {
   "cell_type": "code",
   "execution_count": 24,
   "id": "8d86e7f5-101e-4dc5-a7d8-7045aebfebbf",
   "metadata": {},
   "outputs": [
    {
     "name": "stdout",
     "output_type": "stream",
     "text": [
      "Train set score: 0.9738\n",
      "Test set score: 0.9746\n"
     ]
    }
   ],
   "source": [
    "## print the scores (mean accuracy) on training and test set\n",
    "\n",
    "print('Train set score: {:.4f}'.format(logreg.score(X_train, y_train)))\n",
    "\n",
    "print('Test set score: {:.4f}'.format(logreg.score(X_test, y_test)))"
   ]
  },
  {
   "cell_type": "code",
   "execution_count": 25,
   "id": "b5be8f60-f6be-4e27-a227-3f8e98a36bb3",
   "metadata": {},
   "outputs": [
    {
     "name": "stdout",
     "output_type": "stream",
     "text": [
      "Model :  LogisticRegression(C=100, random_state=42, solver='liblinear')\n",
      "Train set score: 0.9788\n",
      "Test set score: 0.9788\n",
      "Training-set accuracy score: 0.9788\n",
      "Model accuracy score: 0.9788\n"
     ]
    }
   ],
   "source": [
    "## Logsitic Regression model with C=100 (flexible model)\n",
    "\n",
    "logreg100 = LogisticRegression(C=100, solver='liblinear', random_state=42)\n",
    "\n",
    "logreg100.fit(X_train, y_train)\n",
    "\n",
    "y_pred_logreg100_train = logreg100.predict(X_train)\n",
    "\n",
    "y_pred_logreg100_test = logreg100.predict(X_test)\n",
    "\n",
    "print('Model : ',logreg100)\n",
    "\n",
    "print('Train set score: {:.4f}'.format(logreg100.score(X_train, y_train)))\n",
    "\n",
    "print('Test set score: {:.4f}'.format(logreg100.score(X_test, y_test)))\n",
    "\n",
    "print('Training-set accuracy score: {0:0.4f}'. format(accuracy_score(y_train, y_pred_logreg100_train)))\n",
    "\n",
    "print('Model accuracy score: {0:0.4f}'. format(accuracy_score(y_test, y_pred_logreg100_test)))"
   ]
  },
  {
   "cell_type": "code",
   "execution_count": 26,
   "id": "f80da22b-e831-40c9-86ac-7b0d077fa52a",
   "metadata": {},
   "outputs": [
    {
     "name": "stdout",
     "output_type": "stream",
     "text": [
      "Model :  LogisticRegression(C=0.01, random_state=42, solver='liblinear')\n",
      "Train set score: 0.9437\n",
      "Test set score: 0.9458\n",
      "Training-set accuracy score: 0.9437\n",
      "Model accuracy score: 0.9458\n"
     ]
    }
   ],
   "source": [
    "## Logsitic Regression model with C=0.01 (smaller values specify stronger regularization)\n",
    "\n",
    "logreg001 = LogisticRegression(C=0.01, solver='liblinear', random_state=42)\n",
    "\n",
    "logreg001.fit(X_train, y_train)\n",
    "\n",
    "y_pred_logreg001_train = logreg001.predict(X_train)\n",
    "\n",
    "y_pred_logreg001_test = logreg001.predict(X_test)\n",
    "\n",
    "print('Model : ',logreg001)\n",
    "\n",
    "print('Train set score: {:.4f}'.format(logreg001.score(X_train, y_train)))\n",
    "\n",
    "print('Test set score: {:.4f}'.format(logreg001.score(X_test, y_test)))\n",
    "\n",
    "print('Training-set accuracy score: {0:0.4f}'. format(accuracy_score(y_train, y_pred_logreg001_train)))\n",
    "\n",
    "print('Model accuracy score: {0:0.4f}'. format(accuracy_score(y_test, y_pred_logreg001_test)))"
   ]
  },
  {
   "cell_type": "code",
   "execution_count": 27,
   "id": "86c67518-cfd8-42d0-a277-95ea66908d02",
   "metadata": {},
   "outputs": [
    {
     "data": {
      "text/plain": [
       "0    3259\n",
       "1     321\n",
       "Name: label, dtype: int64"
      ]
     },
     "execution_count": 27,
     "metadata": {},
     "output_type": "execute_result"
    }
   ],
   "source": [
    "y_test.value_counts()"
   ]
  },
  {
   "cell_type": "code",
   "execution_count": 28,
   "id": "883817ea-6064-42c5-bbe7-b34458c070bc",
   "metadata": {},
   "outputs": [
    {
     "name": "stdout",
     "output_type": "stream",
     "text": [
      "Null accuracy score: 0.9095\n"
     ]
    }
   ],
   "source": [
    "# null accuracy score\n",
    "\n",
    "null_accuracy = (4884/(4884+486))\n",
    "\n",
    "print('Null accuracy score: {0:0.4f}'. format(null_accuracy))"
   ]
  },
  {
   "cell_type": "code",
   "execution_count": 29,
   "id": "46eb0bfa-461f-4b58-abe3-abc5b91ada3c",
   "metadata": {},
   "outputs": [
    {
     "name": "stdout",
     "output_type": "stream",
     "text": [
      "Confusion matrix\n",
      "\n",
      " [[3241   18]\n",
      " [  58  263]]\n",
      "True Positives(TP) =  3241\n",
      "True Negatives(TN) =  263\n",
      "False Positives(FP) =  18\n",
      "False Negatives(FN) =  58\n"
     ]
    }
   ],
   "source": [
    "## Confusion Matrix\n",
    "## Model chosen : LogisticRegression(C=100, random_state=42, solver='liblinear')\n",
    "\n",
    "cm = confusion_matrix(y_test, y_pred_logreg100_test)\n",
    "print('Confusion matrix\\n\\n', cm)\n",
    "print('True Positives(TP) = ', cm[0,0])\n",
    "print('True Negatives(TN) = ', cm[1,1])\n",
    "print('False Positives(FP) = ', cm[0,1])\n",
    "print('False Negatives(FN) = ', cm[1,0])"
   ]
  },
  {
   "cell_type": "code",
   "execution_count": 30,
   "id": "2f772751-e7bb-4df7-a0e9-f445263e5963",
   "metadata": {},
   "outputs": [
    {
     "data": {
      "text/plain": [
       "<AxesSubplot:>"
      ]
     },
     "execution_count": 30,
     "metadata": {},
     "output_type": "execute_result"
    },
    {
     "data": {
      "image/png": "[encoded data removed]",
      "text/plain": [
       "<Figure size 432x288 with 2 Axes>"
      ]
     },
     "metadata": {
      "needs_background": "light"
     },
     "output_type": "display_data"
    }
   ],
   "source": [
    "# visualize confusion matrix\n",
    "\n",
    "cm_matrix = pd.DataFrame(data=cm, columns=['Actual Positive:1', 'Actual Negative:0'], \n",
    "                                 index=['Predict Positive:1', 'Predict Negative:0'])\n",
    "\n",
    "sns.heatmap(cm_matrix, annot=True, fmt='d', cmap='YlGnBu')"
   ]
  },
  {
   "cell_type": "code",
   "execution_count": 31,
   "id": "2e6ce8b6-6fb0-427f-ac6b-9bd476de966c",
   "metadata": {},
   "outputs": [
    {
     "name": "stdout",
     "output_type": "stream",
     "text": [
      "              precision    recall  f1-score   support\n",
      "\n",
      "           0       0.98      0.99      0.99      3259\n",
      "           1       0.94      0.82      0.87       321\n",
      "\n",
      "    accuracy                           0.98      3580\n",
      "   macro avg       0.96      0.91      0.93      3580\n",
      "weighted avg       0.98      0.98      0.98      3580\n",
      "\n"
     ]
    }
   ],
   "source": [
    "print(classification_report(y_test, y_pred_logreg100_test))"
   ]
  },
  {
   "cell_type": "code",
   "execution_count": 32,
   "id": "7bcc6751-4bf1-45b7-9743-5bca3bb03e28",
   "metadata": {},
   "outputs": [],
   "source": [
    "TP = cm[0,0]\n",
    "TN = cm[1,1]\n",
    "FP = cm[0,1]\n",
    "FN = cm[1,0]"
   ]
  },
  {
   "cell_type": "code",
   "execution_count": 33,
   "id": "50e699fc-6943-4bc6-b390-ef79ba7e6fff",
   "metadata": {},
   "outputs": [
    {
     "name": "stdout",
     "output_type": "stream",
     "text": [
      "Classification accuracy : 0.9788\n"
     ]
    }
   ],
   "source": [
    "## classification accuracy\n",
    "classification_accuracy = (TP + TN) / float(TP + TN + FP + FN)\n",
    "print('Classification accuracy : {0:0.4f}'.format(classification_accuracy))"
   ]
  },
  {
   "cell_type": "code",
   "execution_count": 34,
   "id": "cab6e77a-574b-478a-a3fc-237a724aca71",
   "metadata": {},
   "outputs": [
    {
     "name": "stdout",
     "output_type": "stream",
     "text": [
      "Classification error : 0.0212\n"
     ]
    }
   ],
   "source": [
    "## classification error\n",
    "classification_error = (FP + FN) / float(TP + TN + FP + FN)\n",
    "print('Classification error : {0:0.4f}'.format(classification_error))"
   ]
  },
  {
   "cell_type": "code",
   "execution_count": 35,
   "id": "f86efb33-8ba2-4d2f-97bc-3d5df39ef95c",
   "metadata": {},
   "outputs": [
    {
     "name": "stdout",
     "output_type": "stream",
     "text": [
      "Precision : 0.9945\n"
     ]
    }
   ],
   "source": [
    "## precision score\n",
    "precision = TP / float(TP + FP)\n",
    "print('Precision : {0:0.4f}'.format(precision))"
   ]
  },
  {
   "cell_type": "code",
   "execution_count": 36,
   "id": "e50ad81b-3b4f-48e1-87af-abf077ad0c8d",
   "metadata": {},
   "outputs": [
    {
     "name": "stdout",
     "output_type": "stream",
     "text": [
      "Recall or Sensitivity : 0.9824\n"
     ]
    }
   ],
   "source": [
    "## recall \n",
    "recall = TP / float(TP + FN)\n",
    "print('Recall or Sensitivity : {0:0.4f}'.format(recall))"
   ]
  },
  {
   "cell_type": "code",
   "execution_count": 37,
   "id": "79ed63e6-e590-4a15-9cfc-5ababa1ae4c3",
   "metadata": {},
   "outputs": [
    {
     "name": "stdout",
     "output_type": "stream",
     "text": [
      "Specificity : 0.9359\n"
     ]
    }
   ],
   "source": [
    "## specificity\n",
    "specificity = TN / (TN + FP)\n",
    "print('Specificity : {0:0.4f}'.format(specificity))"
   ]
  },
  {
   "cell_type": "code",
   "execution_count": 38,
   "id": "290818e4-dc17-4ca6-9e07-1784cf2a5eb8",
   "metadata": {},
   "outputs": [
    {
     "name": "stdout",
     "output_type": "stream",
     "text": [
      "F-1 score : 0.9884\n"
     ]
    }
   ],
   "source": [
    "## F-1 score\n",
    "f1 = 2 * (precision * recall) / (precision + recall)\n",
    "print('F-1 score : {0:0.4f}'.format(f1))"
   ]
  },
  {
   "cell_type": "markdown",
   "id": "61e4816f-3638-40e8-8035-ddbace14b406",
   "metadata": {},
   "source": [
    "-----------------------------------------------------------------------------------------------------"
   ]
  },
  {
   "cell_type": "markdown",
   "id": "58989623-0c27-4358-b1ce-d1acc5dab0b5",
   "metadata": {},
   "source": [
    "#### Random Forest Classifier"
   ]
  },
  {
   "cell_type": "code",
   "execution_count": 39,
   "id": "461be01b-1509-4352-bbda-e82fe8e152d0",
   "metadata": {},
   "outputs": [],
   "source": [
    "rfc = RandomForestClassifier(n_estimators = 100)"
   ]
  },
  {
   "cell_type": "code",
   "execution_count": 40,
   "id": "70c97224-67d3-4bb4-84f7-86765c526a42",
   "metadata": {},
   "outputs": [
    {
     "data": {
      "text/plain": [
       "RandomForestClassifier()"
      ]
     },
     "execution_count": 40,
     "metadata": {},
     "output_type": "execute_result"
    }
   ],
   "source": [
    "rfc.fit(X_train, y_train)"
   ]
  },
  {
   "cell_type": "code",
   "execution_count": 41,
   "id": "4226241c-5ee1-49b6-9e6e-6cb061ce2dce",
   "metadata": {},
   "outputs": [],
   "source": [
    "y_pred_rfc_train = rfc.predict(X_train)"
   ]
  },
  {
   "cell_type": "code",
   "execution_count": 42,
   "id": "1954988b-a02e-45ca-a442-4f74e1cfef36",
   "metadata": {},
   "outputs": [],
   "source": [
    "y_pred_rfc_test = rfc.predict(X_test)"
   ]
  },
  {
   "cell_type": "code",
   "execution_count": 43,
   "id": "c574e499-8d05-47f1-a21a-4d3840ddf17e",
   "metadata": {},
   "outputs": [
    {
     "name": "stdout",
     "output_type": "stream",
     "text": [
      "Training-set accuracy score: 1.0000\n"
     ]
    }
   ],
   "source": [
    "print('Training-set accuracy score: {0:0.4f}'. format(accuracy_score(y_train, y_pred_rfc_train)))"
   ]
  },
  {
   "cell_type": "code",
   "execution_count": 44,
   "id": "7a379030-2132-4a79-8b09-1759135fbe61",
   "metadata": {},
   "outputs": [
    {
     "name": "stdout",
     "output_type": "stream",
     "text": [
      "Model accuracy :  0.9807262569832402\n"
     ]
    }
   ],
   "source": [
    "print(\"Model accuracy : \", accuracy_score(y_test, y_pred_rfc_test))"
   ]
  },
  {
   "cell_type": "code",
   "execution_count": 45,
   "id": "69673469-9deb-42f5-8ef4-fc3d20b02da6",
   "metadata": {},
   "outputs": [
    {
     "name": "stdout",
     "output_type": "stream",
     "text": [
      "Confusion matrix\n",
      "\n",
      " [[3241   18]\n",
      " [  51  270]]\n",
      "True Positives(TP) =  3241\n",
      "True Negatives(TN) =  270\n",
      "False Positives(FP) =  18\n",
      "False Negatives(FN) =  51\n"
     ]
    }
   ],
   "source": [
    "## Confusion Matrix\n",
    "\n",
    "cm = confusion_matrix(y_test, y_pred_rfc_test)\n",
    "\n",
    "print('Confusion matrix\\n\\n', cm)\n",
    "print('True Positives(TP) = ', cm[0,0])\n",
    "print('True Negatives(TN) = ', cm[1,1])\n",
    "print('False Positives(FP) = ', cm[0,1])\n",
    "print('False Negatives(FN) = ', cm[1,0])"
   ]
  },
  {
   "cell_type": "code",
   "execution_count": 46,
   "id": "bd382ab7-ba1b-434d-8b10-d0a1660115a3",
   "metadata": {},
   "outputs": [
    {
     "data": {
      "text/plain": [
       "<AxesSubplot:>"
      ]
     },
     "execution_count": 46,
     "metadata": {},
     "output_type": "execute_result"
    },
    {
     "data": {
      "image/png": "[encoded data removed]",
      "text/plain": [
       "<Figure size 432x288 with 2 Axes>"
      ]
     },
     "metadata": {
      "needs_background": "light"
     },
     "output_type": "display_data"
    }
   ],
   "source": [
    "## Confusion matrix heatmap\n",
    "\n",
    "cm_matrix = pd.DataFrame(data=cm, columns=['Actual Positive:1', 'Actual Negative:0'], \n",
    "                                 index=['Predict Positive:1', 'Predict Negative:0'])\n",
    "\n",
    "sns.heatmap(cm_matrix, annot=True, fmt='d', cmap='YlGnBu')"
   ]
  },
  {
   "cell_type": "code",
   "execution_count": 47,
   "id": "745f7b94-03e8-4a33-acbf-97f980d87801",
   "metadata": {},
   "outputs": [
    {
     "name": "stdout",
     "output_type": "stream",
     "text": [
      "              precision    recall  f1-score   support\n",
      "\n",
      "           0       0.98      0.99      0.99      3259\n",
      "           1       0.94      0.84      0.89       321\n",
      "\n",
      "    accuracy                           0.98      3580\n",
      "   macro avg       0.96      0.92      0.94      3580\n",
      "weighted avg       0.98      0.98      0.98      3580\n",
      "\n"
     ]
    }
   ],
   "source": [
    "print(classification_report(y_test, y_pred_rfc_test))"
   ]
  },
  {
   "cell_type": "code",
   "execution_count": 48,
   "id": "619a09a6-b96b-4878-9ac4-abaa3c99d369",
   "metadata": {},
   "outputs": [],
   "source": [
    "TP = cm[0,0]\n",
    "TN = cm[1,1]\n",
    "FP = cm[0,1]\n",
    "FN = cm[1,0]"
   ]
  },
  {
   "cell_type": "code",
   "execution_count": 49,
   "id": "50f6501d-5496-4d98-833b-41e8de242df9",
   "metadata": {},
   "outputs": [
    {
     "name": "stdout",
     "output_type": "stream",
     "text": [
      "Classification accuracy : 0.9807\n"
     ]
    }
   ],
   "source": [
    "## classification accuracy\n",
    "classification_accuracy = (TP + TN) / float(TP + TN + FP + FN)\n",
    "print('Classification accuracy : {0:0.4f}'.format(classification_accuracy))"
   ]
  },
  {
   "cell_type": "code",
   "execution_count": 50,
   "id": "af502ee9-fe15-48aa-b472-d5596d4a6e70",
   "metadata": {},
   "outputs": [
    {
     "name": "stdout",
     "output_type": "stream",
     "text": [
      "Classification error : 0.0193\n"
     ]
    }
   ],
   "source": [
    "## classification error\n",
    "classification_error = (FP + FN) / float(TP + TN + FP + FN)\n",
    "print('Classification error : {0:0.4f}'.format(classification_error))"
   ]
  },
  {
   "cell_type": "code",
   "execution_count": 51,
   "id": "75aeea6e-21c6-4df0-a9e4-4e5463909c8d",
   "metadata": {},
   "outputs": [
    {
     "name": "stdout",
     "output_type": "stream",
     "text": [
      "Precision : 0.9945\n"
     ]
    }
   ],
   "source": [
    "## precision score\n",
    "precision = TP / float(TP + FP)\n",
    "print('Precision : {0:0.4f}'.format(precision))"
   ]
  },
  {
   "cell_type": "code",
   "execution_count": 52,
   "id": "727ca6a8-ff37-42a2-9820-fc8379c92e57",
   "metadata": {},
   "outputs": [
    {
     "name": "stdout",
     "output_type": "stream",
     "text": [
      "Recall or Sensitivity : 0.9845\n"
     ]
    }
   ],
   "source": [
    "## recall \n",
    "recall = TP / float(TP + FN)\n",
    "print('Recall or Sensitivity : {0:0.4f}'.format(recall))"
   ]
  },
  {
   "cell_type": "code",
   "execution_count": 53,
   "id": "319c548d-948f-40da-9d37-4db6056b0b9e",
   "metadata": {},
   "outputs": [
    {
     "name": "stdout",
     "output_type": "stream",
     "text": [
      "Specificity : 0.9375\n"
     ]
    }
   ],
   "source": [
    "## specificity\n",
    "specificity = TN / (TN + FP)\n",
    "print('Specificity : {0:0.4f}'.format(specificity))"
   ]
  },
  {
   "cell_type": "code",
   "execution_count": 54,
   "id": "7d6558ad-3a93-4c86-831e-9b9d40643a70",
   "metadata": {},
   "outputs": [
    {
     "name": "stdout",
     "output_type": "stream",
     "text": [
      "F-1 score : 0.9895\n"
     ]
    }
   ],
   "source": [
    "## F-1 score\n",
    "f1 = 2 * (precision * recall) / (precision + recall)\n",
    "print('F-1 score : {0:0.4f}'.format(f1))"
   ]
  },
  {
   "cell_type": "markdown",
   "id": "94cd67b1-ec03-4c38-8a9a-13a8acf37569",
   "metadata": {},
   "source": [
    "-------------------------------------------------------------------------------------------------------------"
   ]
  },
  {
   "cell_type": "code",
   "execution_count": 55,
   "id": "32696c1d-de33-4ee5-8a39-b1fef78ec16f",
   "metadata": {},
   "outputs": [],
   "source": [
    "svc=SVC() "
   ]
  },
  {
   "cell_type": "code",
   "execution_count": 56,
   "id": "7ee54eb0-c555-4135-9ee4-330b450c761e",
   "metadata": {},
   "outputs": [
    {
     "data": {
      "text/plain": [
       "SVC()"
      ]
     },
     "execution_count": 56,
     "metadata": {},
     "output_type": "execute_result"
    }
   ],
   "source": [
    "svc.fit(X_train,y_train)"
   ]
  },
  {
   "cell_type": "code",
   "execution_count": 57,
   "id": "dc078aaa-07d4-4663-8eb1-ddda597eff0e",
   "metadata": {},
   "outputs": [],
   "source": [
    "y_pred_svm_train = svc.predict(X_train)"
   ]
  },
  {
   "cell_type": "code",
   "execution_count": 58,
   "id": "711ea3d3-aa0f-409c-9675-3e9dfdd3d43e",
   "metadata": {},
   "outputs": [],
   "source": [
    "y_pred_svm_test = svc.predict(X_test)"
   ]
  },
  {
   "cell_type": "code",
   "execution_count": 59,
   "id": "576e7435-58aa-441d-bb47-466d9e40f152",
   "metadata": {},
   "outputs": [
    {
     "name": "stdout",
     "output_type": "stream",
     "text": [
      "Training-set accuracy score: 0.9782\n"
     ]
    }
   ],
   "source": [
    "print('Training-set accuracy score: {0:0.4f}'. format(accuracy_score(y_train, y_pred_svm_train)))"
   ]
  },
  {
   "cell_type": "code",
   "execution_count": 60,
   "id": "d9c50c9a-6d24-481e-9938-cdfc99f06ff1",
   "metadata": {},
   "outputs": [
    {
     "name": "stdout",
     "output_type": "stream",
     "text": [
      "Model accuracy score : 0.9796\n"
     ]
    }
   ],
   "source": [
    "print('Model accuracy score : {0:0.4f}'. format(accuracy_score(y_test, y_pred_svm_test)))"
   ]
  },
  {
   "cell_type": "code",
   "execution_count": null,
   "id": "936a061b-708f-4733-abf0-582152711890",
   "metadata": {},
   "outputs": [],
   "source": []
  },
  {
   "cell_type": "code",
   "execution_count": null,
   "id": "3a4203d8-d239-4629-b6e5-b6c15183e9d0",
   "metadata": {},
   "outputs": [],
   "source": []
  }
 ],
 "metadata": {
  "kernelspec": {
   "display_name": "Python 3 (ipykernel)",
   "language": "python",
   "name": "python3"
  },
  "language_info": {
   "codemirror_mode": {
    "name": "ipython",
    "version": 3
   },
   "file_extension": ".py",
   "mimetype": "text/x-python",
   "name": "python",
   "nbconvert_exporter": "python",
   "pygments_lexer": "ipython3",
   "version": "3.8.5"
  }
 },
 "nbformat": 4,
 "nbformat_minor": 5
}
